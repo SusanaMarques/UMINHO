{
 "cells": [
  {
   "cell_type": "markdown",
   "metadata": {},
   "source": [
    "# LSTM Travel Time + Speed Prediction - Cent.0"
   ]
  },
  {
   "cell_type": "code",
   "execution_count": 1,
   "metadata": {},
   "outputs": [],
   "source": [
    "import numpy as np\n",
    "import pandas as pd\n",
    "import seaborn as sns\n",
    "from datetime import datetime\n",
    "import matplotlib.pyplot as plt\n",
    "\n",
    "import tensorflow as tf\n",
    "from sklearn.model_selection import TimeSeriesSplit\n",
    "from tensorflow.keras.callbacks import EarlyStopping\n",
    "from tensorflow.keras.layers import LSTM, Dropout, Dense\n",
    "from tensorflow.keras.callbacks import ReduceLROnPlateau"
   ]
  },
  {
   "cell_type": "code",
   "execution_count": 2,
   "metadata": {
    "scrolled": true
   },
   "outputs": [
    {
     "data": {
      "text/html": [
       "<div>\n",
       "<style scoped>\n",
       "    .dataframe tbody tr th:only-of-type {\n",
       "        vertical-align: middle;\n",
       "    }\n",
       "\n",
       "    .dataframe tbody tr th {\n",
       "        vertical-align: top;\n",
       "    }\n",
       "\n",
       "    .dataframe thead th {\n",
       "        text-align: right;\n",
       "    }\n",
       "</style>\n",
       "<table border=\"1\" class=\"dataframe\">\n",
       "  <thead>\n",
       "    <tr style=\"text-align: right;\">\n",
       "      <th></th>\n",
       "      <th>currentSpeed</th>\n",
       "      <th>freeFlowSpeed</th>\n",
       "      <th>currentTravelTime</th>\n",
       "      <th>freeFlowTravelTime</th>\n",
       "      <th>roadName</th>\n",
       "      <th>roadClosure</th>\n",
       "      <th>timeStamp</th>\n",
       "    </tr>\n",
       "  </thead>\n",
       "  <tbody>\n",
       "    <tr>\n",
       "      <th>0</th>\n",
       "      <td>64</td>\n",
       "      <td>64</td>\n",
       "      <td>21</td>\n",
       "      <td>21</td>\n",
       "      <td>N103.1</td>\n",
       "      <td>False</td>\n",
       "      <td>2021-04-26 18:11:34</td>\n",
       "    </tr>\n",
       "    <tr>\n",
       "      <th>1</th>\n",
       "      <td>34</td>\n",
       "      <td>43</td>\n",
       "      <td>49</td>\n",
       "      <td>39</td>\n",
       "      <td>N103.0</td>\n",
       "      <td>False</td>\n",
       "      <td>2021-04-27 14:53:37</td>\n",
       "    </tr>\n",
       "    <tr>\n",
       "      <th>2</th>\n",
       "      <td>64</td>\n",
       "      <td>64</td>\n",
       "      <td>21</td>\n",
       "      <td>21</td>\n",
       "      <td>N103.1</td>\n",
       "      <td>False</td>\n",
       "      <td>2021-04-27 14:53:49</td>\n",
       "    </tr>\n",
       "    <tr>\n",
       "      <th>3</th>\n",
       "      <td>51</td>\n",
       "      <td>51</td>\n",
       "      <td>37</td>\n",
       "      <td>37</td>\n",
       "      <td>N103.2</td>\n",
       "      <td>False</td>\n",
       "      <td>2021-04-27 14:54:00</td>\n",
       "    </tr>\n",
       "    <tr>\n",
       "      <th>4</th>\n",
       "      <td>74</td>\n",
       "      <td>74</td>\n",
       "      <td>21</td>\n",
       "      <td>21</td>\n",
       "      <td>N101.0</td>\n",
       "      <td>False</td>\n",
       "      <td>2021-04-27 14:54:12</td>\n",
       "    </tr>\n",
       "    <tr>\n",
       "      <th>5</th>\n",
       "      <td>33</td>\n",
       "      <td>43</td>\n",
       "      <td>51</td>\n",
       "      <td>39</td>\n",
       "      <td>N103.0</td>\n",
       "      <td>False</td>\n",
       "      <td>2021-04-27 14:57:10</td>\n",
       "    </tr>\n",
       "    <tr>\n",
       "      <th>6</th>\n",
       "      <td>64</td>\n",
       "      <td>64</td>\n",
       "      <td>21</td>\n",
       "      <td>21</td>\n",
       "      <td>N103.1</td>\n",
       "      <td>False</td>\n",
       "      <td>2021-04-27 14:57:22</td>\n",
       "    </tr>\n",
       "    <tr>\n",
       "      <th>7</th>\n",
       "      <td>39</td>\n",
       "      <td>50</td>\n",
       "      <td>49</td>\n",
       "      <td>38</td>\n",
       "      <td>N103.2</td>\n",
       "      <td>False</td>\n",
       "      <td>2021-04-27 14:57:33</td>\n",
       "    </tr>\n",
       "    <tr>\n",
       "      <th>8</th>\n",
       "      <td>74</td>\n",
       "      <td>74</td>\n",
       "      <td>21</td>\n",
       "      <td>21</td>\n",
       "      <td>N101.0</td>\n",
       "      <td>False</td>\n",
       "      <td>2021-04-27 14:57:45</td>\n",
       "    </tr>\n",
       "    <tr>\n",
       "      <th>9</th>\n",
       "      <td>52</td>\n",
       "      <td>67</td>\n",
       "      <td>28</td>\n",
       "      <td>21</td>\n",
       "      <td>N101.1</td>\n",
       "      <td>False</td>\n",
       "      <td>2021-04-27 14:57:57</td>\n",
       "    </tr>\n",
       "  </tbody>\n",
       "</table>\n",
       "</div>"
      ],
      "text/plain": [
       "   currentSpeed  freeFlowSpeed  currentTravelTime  freeFlowTravelTime  \\\n",
       "0            64             64                 21                  21   \n",
       "1            34             43                 49                  39   \n",
       "2            64             64                 21                  21   \n",
       "3            51             51                 37                  37   \n",
       "4            74             74                 21                  21   \n",
       "5            33             43                 51                  39   \n",
       "6            64             64                 21                  21   \n",
       "7            39             50                 49                  38   \n",
       "8            74             74                 21                  21   \n",
       "9            52             67                 28                  21   \n",
       "\n",
       "  roadName  roadClosure           timeStamp  \n",
       "0   N103.1        False 2021-04-26 18:11:34  \n",
       "1   N103.0        False 2021-04-27 14:53:37  \n",
       "2   N103.1        False 2021-04-27 14:53:49  \n",
       "3   N103.2        False 2021-04-27 14:54:00  \n",
       "4   N101.0        False 2021-04-27 14:54:12  \n",
       "5   N103.0        False 2021-04-27 14:57:10  \n",
       "6   N103.1        False 2021-04-27 14:57:22  \n",
       "7   N103.2        False 2021-04-27 14:57:33  \n",
       "8   N101.0        False 2021-04-27 14:57:45  \n",
       "9   N101.1        False 2021-04-27 14:57:57  "
      ]
     },
     "execution_count": 2,
     "metadata": {},
     "output_type": "execute_result"
    }
   ],
   "source": [
    "traffic = pd.read_csv('../db.csv', parse_dates = [\"timeStamp\"])\n",
    "traffic.head(10)"
   ]
  },
  {
   "cell_type": "code",
   "execution_count": 3,
   "metadata": {},
   "outputs": [
    {
     "name": "stdout",
     "output_type": "stream",
     "text": [
      "<class 'pandas.core.frame.DataFrame'>\n",
      "RangeIndex: 245563 entries, 0 to 245562\n",
      "Data columns (total 7 columns):\n",
      " #   Column              Non-Null Count   Dtype         \n",
      "---  ------              --------------   -----         \n",
      " 0   currentSpeed        245563 non-null  int64         \n",
      " 1   freeFlowSpeed       245563 non-null  int64         \n",
      " 2   currentTravelTime   245563 non-null  int64         \n",
      " 3   freeFlowTravelTime  245563 non-null  int64         \n",
      " 4   roadName            245563 non-null  object        \n",
      " 5   roadClosure         245563 non-null  bool          \n",
      " 6   timeStamp           245563 non-null  datetime64[ns]\n",
      "dtypes: bool(1), datetime64[ns](1), int64(4), object(1)\n",
      "memory usage: 11.5+ MB\n"
     ]
    }
   ],
   "source": [
    "traffic.info()"
   ]
  },
  {
   "cell_type": "code",
   "execution_count": 4,
   "metadata": {},
   "outputs": [
    {
     "name": "stdout",
     "output_type": "stream",
     "text": [
      "['N103.1' 'N103.0' 'N103.2' 'N101.0' 'N101.1' 'N101.2' 'N101.3' 'N101.4'\n",
      " 'N101.5' 'Cent.0' 'Cent.1' 'Cent.2' 'Cent.3' 'Cent.4']\n"
     ]
    }
   ],
   "source": [
    "print(traffic['roadName'].unique())"
   ]
  },
  {
   "cell_type": "markdown",
   "metadata": {},
   "source": [
    "### Filter Roads"
   ]
  },
  {
   "cell_type": "code",
   "execution_count": 5,
   "metadata": {},
   "outputs": [],
   "source": [
    "traffic = traffic[(traffic['roadName'] == 'Cent.0')]"
   ]
  },
  {
   "cell_type": "markdown",
   "metadata": {},
   "source": [
    "### Drop unwanted columns "
   ]
  },
  {
   "cell_type": "code",
   "execution_count": 6,
   "metadata": {},
   "outputs": [],
   "source": [
    "traffic = traffic.drop(columns = ['roadClosure', 'freeFlowTravelTime', 'freeFlowSpeed', 'roadName'])"
   ]
  },
  {
   "cell_type": "markdown",
   "metadata": {},
   "source": [
    "### Remove incomplete days"
   ]
  },
  {
   "cell_type": "code",
   "execution_count": 7,
   "metadata": {},
   "outputs": [],
   "source": [
    "tfc = traffic[(traffic['timeStamp'].dt.day != 26) \n",
    "                        & (traffic['timeStamp'].dt.day != 27) \n",
    "                        & (traffic['timeStamp'].dt.day != 3)]"
   ]
  },
  {
   "cell_type": "markdown",
   "metadata": {},
   "source": [
    "### Treat Date and Time"
   ]
  },
  {
   "cell_type": "code",
   "execution_count": 8,
   "metadata": {},
   "outputs": [
    {
     "name": "stderr",
     "output_type": "stream",
     "text": [
      "<ipython-input-8-7e39a034e481>:1: SettingWithCopyWarning: \n",
      "A value is trying to be set on a copy of a slice from a DataFrame.\n",
      "Try using .loc[row_indexer,col_indexer] = value instead\n",
      "\n",
      "See the caveats in the documentation: https://pandas.pydata.org/pandas-docs/stable/user_guide/indexing.html#returning-a-view-versus-a-copy\n",
      "  tfc['timeStamp'] = pd.to_datetime(tfc['timeStamp']).dt.strftime(\"%Y%m%d%H\")\n"
     ]
    }
   ],
   "source": [
    "tfc['timeStamp'] = pd.to_datetime(tfc['timeStamp']).dt.strftime(\"%Y%m%d%H\")"
   ]
  },
  {
   "cell_type": "code",
   "execution_count": 9,
   "metadata": {},
   "outputs": [
    {
     "data": {
      "text/html": [
       "<div>\n",
       "<style scoped>\n",
       "    .dataframe tbody tr th:only-of-type {\n",
       "        vertical-align: middle;\n",
       "    }\n",
       "\n",
       "    .dataframe tbody tr th {\n",
       "        vertical-align: top;\n",
       "    }\n",
       "\n",
       "    .dataframe thead th {\n",
       "        text-align: right;\n",
       "    }\n",
       "</style>\n",
       "<table border=\"1\" class=\"dataframe\">\n",
       "  <thead>\n",
       "    <tr style=\"text-align: right;\">\n",
       "      <th></th>\n",
       "      <th>currentSpeed</th>\n",
       "      <th>currentTravelTime</th>\n",
       "      <th>timeStamp</th>\n",
       "    </tr>\n",
       "  </thead>\n",
       "  <tbody>\n",
       "    <tr>\n",
       "      <th>6385</th>\n",
       "      <td>10</td>\n",
       "      <td>54</td>\n",
       "      <td>2021042800</td>\n",
       "    </tr>\n",
       "    <tr>\n",
       "      <th>6399</th>\n",
       "      <td>10</td>\n",
       "      <td>54</td>\n",
       "      <td>2021042800</td>\n",
       "    </tr>\n",
       "    <tr>\n",
       "      <th>6413</th>\n",
       "      <td>10</td>\n",
       "      <td>54</td>\n",
       "      <td>2021042800</td>\n",
       "    </tr>\n",
       "    <tr>\n",
       "      <th>6427</th>\n",
       "      <td>10</td>\n",
       "      <td>54</td>\n",
       "      <td>2021042800</td>\n",
       "    </tr>\n",
       "    <tr>\n",
       "      <th>6441</th>\n",
       "      <td>10</td>\n",
       "      <td>54</td>\n",
       "      <td>2021042800</td>\n",
       "    </tr>\n",
       "    <tr>\n",
       "      <th>...</th>\n",
       "      <td>...</td>\n",
       "      <td>...</td>\n",
       "      <td>...</td>\n",
       "    </tr>\n",
       "    <tr>\n",
       "      <th>245494</th>\n",
       "      <td>11</td>\n",
       "      <td>49</td>\n",
       "      <td>2021051213</td>\n",
       "    </tr>\n",
       "    <tr>\n",
       "      <th>245508</th>\n",
       "      <td>11</td>\n",
       "      <td>49</td>\n",
       "      <td>2021051213</td>\n",
       "    </tr>\n",
       "    <tr>\n",
       "      <th>245522</th>\n",
       "      <td>11</td>\n",
       "      <td>49</td>\n",
       "      <td>2021051213</td>\n",
       "    </tr>\n",
       "    <tr>\n",
       "      <th>245536</th>\n",
       "      <td>11</td>\n",
       "      <td>49</td>\n",
       "      <td>2021051213</td>\n",
       "    </tr>\n",
       "    <tr>\n",
       "      <th>245550</th>\n",
       "      <td>11</td>\n",
       "      <td>49</td>\n",
       "      <td>2021051213</td>\n",
       "    </tr>\n",
       "  </tbody>\n",
       "</table>\n",
       "<p>15851 rows × 3 columns</p>\n",
       "</div>"
      ],
      "text/plain": [
       "        currentSpeed  currentTravelTime   timeStamp\n",
       "6385              10                 54  2021042800\n",
       "6399              10                 54  2021042800\n",
       "6413              10                 54  2021042800\n",
       "6427              10                 54  2021042800\n",
       "6441              10                 54  2021042800\n",
       "...              ...                ...         ...\n",
       "245494            11                 49  2021051213\n",
       "245508            11                 49  2021051213\n",
       "245522            11                 49  2021051213\n",
       "245536            11                 49  2021051213\n",
       "245550            11                 49  2021051213\n",
       "\n",
       "[15851 rows x 3 columns]"
      ]
     },
     "execution_count": 9,
     "metadata": {},
     "output_type": "execute_result"
    }
   ],
   "source": [
    "tfc"
   ]
  },
  {
   "cell_type": "code",
   "execution_count": 10,
   "metadata": {},
   "outputs": [
    {
     "data": {
      "text/html": [
       "<div>\n",
       "<style scoped>\n",
       "    .dataframe tbody tr th:only-of-type {\n",
       "        vertical-align: middle;\n",
       "    }\n",
       "\n",
       "    .dataframe tbody tr th {\n",
       "        vertical-align: top;\n",
       "    }\n",
       "\n",
       "    .dataframe thead th {\n",
       "        text-align: right;\n",
       "    }\n",
       "</style>\n",
       "<table border=\"1\" class=\"dataframe\">\n",
       "  <thead>\n",
       "    <tr style=\"text-align: right;\">\n",
       "      <th></th>\n",
       "      <th>currentSpeed</th>\n",
       "      <th>currentTravelTime</th>\n",
       "    </tr>\n",
       "    <tr>\n",
       "      <th>timeStamp</th>\n",
       "      <th></th>\n",
       "      <th></th>\n",
       "    </tr>\n",
       "  </thead>\n",
       "  <tbody>\n",
       "    <tr>\n",
       "      <th>2021042800</th>\n",
       "      <td>10.000000</td>\n",
       "      <td>54.000000</td>\n",
       "    </tr>\n",
       "    <tr>\n",
       "      <th>2021042801</th>\n",
       "      <td>10.000000</td>\n",
       "      <td>54.000000</td>\n",
       "    </tr>\n",
       "    <tr>\n",
       "      <th>2021042802</th>\n",
       "      <td>10.000000</td>\n",
       "      <td>54.000000</td>\n",
       "    </tr>\n",
       "    <tr>\n",
       "      <th>2021042803</th>\n",
       "      <td>10.000000</td>\n",
       "      <td>54.000000</td>\n",
       "    </tr>\n",
       "    <tr>\n",
       "      <th>2021042804</th>\n",
       "      <td>10.000000</td>\n",
       "      <td>54.000000</td>\n",
       "    </tr>\n",
       "    <tr>\n",
       "      <th>...</th>\n",
       "      <td>...</td>\n",
       "      <td>...</td>\n",
       "    </tr>\n",
       "    <tr>\n",
       "      <th>2021051209</th>\n",
       "      <td>8.784314</td>\n",
       "      <td>65.529412</td>\n",
       "    </tr>\n",
       "    <tr>\n",
       "      <th>2021051210</th>\n",
       "      <td>10.725490</td>\n",
       "      <td>50.509804</td>\n",
       "    </tr>\n",
       "    <tr>\n",
       "      <th>2021051211</th>\n",
       "      <td>11.000000</td>\n",
       "      <td>49.000000</td>\n",
       "    </tr>\n",
       "    <tr>\n",
       "      <th>2021051212</th>\n",
       "      <td>10.882353</td>\n",
       "      <td>49.745098</td>\n",
       "    </tr>\n",
       "    <tr>\n",
       "      <th>2021051213</th>\n",
       "      <td>11.000000</td>\n",
       "      <td>49.000000</td>\n",
       "    </tr>\n",
       "  </tbody>\n",
       "</table>\n",
       "<p>309 rows × 2 columns</p>\n",
       "</div>"
      ],
      "text/plain": [
       "            currentSpeed  currentTravelTime\n",
       "timeStamp                                  \n",
       "2021042800     10.000000          54.000000\n",
       "2021042801     10.000000          54.000000\n",
       "2021042802     10.000000          54.000000\n",
       "2021042803     10.000000          54.000000\n",
       "2021042804     10.000000          54.000000\n",
       "...                  ...                ...\n",
       "2021051209      8.784314          65.529412\n",
       "2021051210     10.725490          50.509804\n",
       "2021051211     11.000000          49.000000\n",
       "2021051212     10.882353          49.745098\n",
       "2021051213     11.000000          49.000000\n",
       "\n",
       "[309 rows x 2 columns]"
      ]
     },
     "execution_count": 10,
     "metadata": {},
     "output_type": "execute_result"
    }
   ],
   "source": [
    "traffic_by_date = tfc.groupby(['timeStamp'])\n",
    "traffic_by_date_mean = traffic_by_date.mean()\n",
    "traffic_by_date_mean"
   ]
  },
  {
   "cell_type": "markdown",
   "metadata": {},
   "source": [
    "### Normalize Data"
   ]
  },
  {
   "cell_type": "code",
   "execution_count": 11,
   "metadata": {},
   "outputs": [
    {
     "data": {
      "text/html": [
       "<div>\n",
       "<style scoped>\n",
       "    .dataframe tbody tr th:only-of-type {\n",
       "        vertical-align: middle;\n",
       "    }\n",
       "\n",
       "    .dataframe tbody tr th {\n",
       "        vertical-align: top;\n",
       "    }\n",
       "\n",
       "    .dataframe thead th {\n",
       "        text-align: right;\n",
       "    }\n",
       "</style>\n",
       "<table border=\"1\" class=\"dataframe\">\n",
       "  <thead>\n",
       "    <tr style=\"text-align: right;\">\n",
       "      <th></th>\n",
       "      <th>currentSpeed</th>\n",
       "    </tr>\n",
       "    <tr>\n",
       "      <th>timeStamp</th>\n",
       "      <th></th>\n",
       "    </tr>\n",
       "  </thead>\n",
       "  <tbody>\n",
       "    <tr>\n",
       "      <th>2021042800</th>\n",
       "      <td>0.250000</td>\n",
       "    </tr>\n",
       "    <tr>\n",
       "      <th>2021042801</th>\n",
       "      <td>0.250000</td>\n",
       "    </tr>\n",
       "    <tr>\n",
       "      <th>2021042802</th>\n",
       "      <td>0.250000</td>\n",
       "    </tr>\n",
       "    <tr>\n",
       "      <th>2021042803</th>\n",
       "      <td>0.250000</td>\n",
       "    </tr>\n",
       "    <tr>\n",
       "      <th>2021042804</th>\n",
       "      <td>0.250000</td>\n",
       "    </tr>\n",
       "    <tr>\n",
       "      <th>...</th>\n",
       "      <td>...</td>\n",
       "    </tr>\n",
       "    <tr>\n",
       "      <th>2021051209</th>\n",
       "      <td>-0.205882</td>\n",
       "    </tr>\n",
       "    <tr>\n",
       "      <th>2021051210</th>\n",
       "      <td>0.522059</td>\n",
       "    </tr>\n",
       "    <tr>\n",
       "      <th>2021051211</th>\n",
       "      <td>0.625000</td>\n",
       "    </tr>\n",
       "    <tr>\n",
       "      <th>2021051212</th>\n",
       "      <td>0.580882</td>\n",
       "    </tr>\n",
       "    <tr>\n",
       "      <th>2021051213</th>\n",
       "      <td>0.625000</td>\n",
       "    </tr>\n",
       "  </tbody>\n",
       "</table>\n",
       "<p>309 rows × 1 columns</p>\n",
       "</div>"
      ],
      "text/plain": [
       "            currentSpeed\n",
       "timeStamp               \n",
       "2021042800      0.250000\n",
       "2021042801      0.250000\n",
       "2021042802      0.250000\n",
       "2021042803      0.250000\n",
       "2021042804      0.250000\n",
       "...                  ...\n",
       "2021051209     -0.205882\n",
       "2021051210      0.522059\n",
       "2021051211      0.625000\n",
       "2021051212      0.580882\n",
       "2021051213      0.625000\n",
       "\n",
       "[309 rows x 1 columns]"
      ]
     },
     "execution_count": 11,
     "metadata": {},
     "output_type": "execute_result"
    }
   ],
   "source": [
    "from sklearn.preprocessing import MinMaxScaler\n",
    "\n",
    "scaler = MinMaxScaler(feature_range = (-1, 1))\n",
    "\n",
    "normalized_Time = traffic_by_date_mean\n",
    "normalized_Speed = traffic_by_date_mean\n",
    "\n",
    "normalized_Time[['currentTravelTime']] = scaler.fit_transform(traffic_by_date_mean[['currentTravelTime']])\n",
    "normalized_Time = normalized_Time.drop(columns = ['currentSpeed'])\n",
    "normalized_Time\n",
    "\n",
    "normalized_Speed[['currentSpeed']] = scaler.fit_transform(traffic_by_date_mean[['currentSpeed']])\n",
    "normalized_Speed = normalized_Speed.drop(columns = ['currentTravelTime'])\n",
    "normalized_Speed\n",
    "\n"
   ]
  },
  {
   "cell_type": "markdown",
   "metadata": {},
   "source": [
    "# LSTM - Time"
   ]
  },
  {
   "cell_type": "code",
   "execution_count": 12,
   "metadata": {},
   "outputs": [],
   "source": [
    "# 24 hours that make the sequence\n",
    "TIMESTEPS = 24\n",
    "\n",
    "# number of features used by the model (using conf. cases to predict conf. cases)\n",
    "FEATURES = len(normalized_Time.columns)\n",
    "\n",
    "# number of hours to forecast - we will forecast the next 12 hours\n",
    "MULTISTEPS = 12\n",
    "\n",
    "# time series cross validator\n",
    "CV_SPLITS = 5\n",
    "\n",
    "EPOCHS = 30\n",
    "\n",
    "# 24 hours (1 day)\n",
    "BATCH_SIZE = 24"
   ]
  },
  {
   "cell_type": "code",
   "execution_count": 13,
   "metadata": {},
   "outputs": [],
   "source": [
    "# split data into training and validation sets\n",
    "def split_data(training, percentage = 15):\n",
    "    train_idx = np.arange(0, int(len(training) * (100 - percentage) / 100))\n",
    "    val_idx = np.arange(int(len(training) * (100 - percentage) / 100 + 1), len(training))\n",
    "    \n",
    "    return train_idx, val_idx"
   ]
  },
  {
   "cell_type": "code",
   "execution_count": 14,
   "metadata": {},
   "outputs": [],
   "source": [
    "# Preparing the dataset for the LSTM\n",
    "def to_supervised(df, timesteps, features = 2):\n",
    "\n",
    "    data = df.values\n",
    "    x, y = [], []\n",
    "    \n",
    "    # iterate over the training set to create x and y\n",
    "    dataset_size = len(data)\n",
    "    \n",
    "    for curr_pos in range(dataset_size):\n",
    "        # end of the input sequence is the current position + the number \n",
    "        # of timesteps of the input sequence\n",
    "        input_index = curr_pos + timesteps\n",
    "        \n",
    "        # end of the labels correspond to the end of the input sequence + 1\n",
    "        label_index = input_index + 1\n",
    "        \n",
    "        # if we have enough data for this sequence \n",
    "        if label_index < dataset_size:\n",
    "            x.append(data[curr_pos:input_index, :])\n",
    "            y.append(data[input_index:label_index, 0])\n",
    "        \n",
    "    # using np.float32 for GPU performance\n",
    "    return np.array(x).astype('float32'), np.array(y).astype('float32')\n",
    "\n",
    "\n",
    "def rmse(y_true, y_pred):\n",
    "    return tf.keras.backend.sqrt(tf.keras.backend.mean(tf.keras.backend.square(y_pred - y_true)))\n",
    "    \n",
    "\n",
    "def build_model(timesteps, features, name, h_neurons = 128):\n",
    "    \n",
    "    model = tf.keras.models.Sequential(name = name)\n",
    "    \n",
    "    model.add(LSTM(h_neurons, return_sequences = True,\n",
    "                   input_shape = (timesteps, features), \n",
    "                   activation = 'tanh'))\n",
    "    model.add(Dropout(0.2))\n",
    "    \n",
    "    model.add(LSTM(h_neurons, activation = 'tanh'))\n",
    "    model.add(Dropout(0.2))\n",
    "    \n",
    "    model.add(Dense(h_neurons, activation = 'tanh'))\n",
    "    model.add(Dropout(0.2))\n",
    "    model.add(Dense(h_neurons, activation = 'tanh'))\n",
    "    model.add(Dropout(0.2))\n",
    "    \n",
    "    model.add(Dense(features, activation = 'tanh'))\n",
    "    \n",
    "    return model\n",
    "\n",
    "\n",
    "# Compiling and fit the model\n",
    "def compile_and_fit(model, x, y, epochs = 25, batch_size = 24, cv_splits = 3):\n",
    "    callback = []\n",
    "    \n",
    "    callback.append(EarlyStopping(monitor = 'val_loss', min_delta = 0, \n",
    "                                  patience = 5, verbose = 0, \n",
    "                                  mode = 'auto', restore_best_weights = True))\n",
    "    \n",
    "    callback.append(ReduceLROnPlateau(monitor = 'val_loss', factor = 0.1, \n",
    "                                      patience = 4, verbose = 0,\n",
    "                                      mode = 'auto', cooldown = 0, \n",
    "                                      min_lr = 0.0001))\n",
    "    \n",
    "    # compile\n",
    "    model.compile(loss = rmse, \n",
    "                  optimizer = 'adam', \n",
    "                  metrics = ['mae', rmse])    \n",
    "    \n",
    "    # fit\n",
    "    hist_list = []\n",
    "    loss_list = []\n",
    "    \n",
    "    # time series cross validator\n",
    "    tscv = TimeSeriesSplit(n_splits = cv_splits)\n",
    "    \n",
    "    for train_index, test_index in tscv.split(x):\n",
    "        # further split into training and validation sets\n",
    "        train_idx, val_idx = split_data(train_index, percentage = 15)\n",
    "        \n",
    "        x_train, y_train = x[train_idx], y[train_idx]\n",
    "        x_val, y_val = x[val_idx], y[val_idx]\n",
    "        #x_test, y_test = x[test_index], y[test_index]\n",
    "        \n",
    "        history = model.fit(x_train, y_train, validation_data = (x_val, y_val), \n",
    "                            epochs = epochs, batch_size = batch_size, \n",
    "                            shuffle = False, callbacks = callback)\n",
    "        \n",
    "        plot_learning_curves(history, model_name = model.get_config()['name'])\n",
    "    \n",
    "    return model, hist_list, loss_list\n",
    "\n",
    "\n",
    "# Recursive Multi-step Forecast\n",
    "def forecast(model, df, scaler, timesteps = 24, \n",
    "             multisteps = 6, features = 2, batch_size = 24):\n",
    "    # getting the last sequence of known value\n",
    "    input_seq = df[-timesteps:].values\n",
    "    inp = input_seq\n",
    "    forecasts = []\n",
    "    \n",
    "    # multisteps tells us how many iterations we want to perform, i.e., how many days\n",
    "    # we want to predict\n",
    "    for step in range(1, multisteps + 1):\n",
    "     \n",
    "        inp = inp.reshape(1, timesteps, features)\n",
    "        \n",
    "        yhat = model.predict(inp)\n",
    "        \n",
    "        print('yhat', yhat[0][features-1])\n",
    "        \n",
    "        yhat_inversed = scaler.inverse_transform(yhat)\n",
    "        \n",
    "        print('Transformed yhat', yhat_inversed[0][features-1])\n",
    "        \n",
    "        forecasts.append(round(yhat_inversed[0][features-1]))\n",
    "    \n",
    "        inp = np.append(inp[0], yhat[0])\n",
    "        \n",
    "        inp = inp[-timesteps*features:]\n",
    "        \n",
    "    return forecasts\n",
    "\n",
    "\n",
    "def plot_prediction(data, forecasts, scaler):\n",
    "    \n",
    "    d = data.values[-24:, -1]\n",
    "    d = scaler.inverse_transform([d])[0]\n",
    "    \n",
    "    print('Real data:', d)\n",
    "    print('Forecasting values:', forecasts)\n",
    "    \n",
    "    f = []; f.append(round(d[-1])); f.extend(forecasts)\n",
    "    \n",
    "    plt.figure(figsize = (8, 6))\n",
    "    plt.plot(range(len(d)), d, color = 'mediumpurple', label = 'Real', linewidth=3)\n",
    "    plt.plot(range(len(d) - 1, len(d) + len(f) - 1),\n",
    "             f, color = 'purple', label = 'predicted', linewidth=3)\n",
    "    plt.title('Current Travel Time For The Next 12H')\n",
    "    plt.ylabel('Current Travel Time (min)')\n",
    "    plt.xlabel('Hours')\n",
    "    plt.legend()\n",
    "    plt.show()\n",
    "\n",
    "def plot_prediction_Speed(data, forecasts, scaler):\n",
    "    \n",
    "    d = data.values[-24:, -1]\n",
    "    d = scaler.inverse_transform([d])[0]\n",
    "    \n",
    "    print('Real data:', d)\n",
    "    print('Forecasting values:', forecasts)\n",
    "    \n",
    "    f = []; f.append(round(d[-1])); f.extend(forecasts)\n",
    "    \n",
    "    plt.figure(figsize = (8, 6))\n",
    "    plt.plot(range(len(d)), d, color = 'mediumpurple', label = 'Real', linewidth=3)\n",
    "    plt.plot(range(len(d) - 1, len(d) + len(f) - 1),\n",
    "             f, color = 'purple', label = 'predicted', linewidth=3)\n",
    "    plt.title('Current Speed For The Next 12H')\n",
    "    plt.ylabel('Current Speed (KM/H)')\n",
    "    plt.xlabel('Hours')\n",
    "    plt.legend()\n",
    "    plt.show()\n",
    "\n",
    "\n",
    "\n",
    "def plot_learning_curves(history, model_name):\n",
    "    print(history.history.keys())\n",
    "\n",
    "    # summarize history for accuracy\n",
    "    plt.plot(history.history['rmse'], color = 'mediumpurple',linewidth=3)\n",
    "    plt.plot(history.history['val_rmse'], color = 'purple',linewidth=3)\n",
    "    plt.title('Model ({}) rmse'.format(model_name))\n",
    "    plt.ylabel('RMSE')\n",
    "    plt.xlabel('Epoch')\n",
    "    plt.legend(['train', 'val'], bbox_to_anchor=(1.05, 1), loc='upper left', borderaxespad=0.)\n",
    "\n",
    "    plt.show()\n",
    "\n",
    "    # summarize history for loss\n",
    "    plt.plot(history.history['loss'], color = 'mediumpurple', linewidth=3)\n",
    "    plt.plot(history.history['val_loss'], color = 'purple', linewidth=3)\n",
    "    plt.title('Model ({}) loss'.format(model_name))\n",
    "    plt.ylabel('Loss')\n",
    "    plt.xlabel('Epoch')\n",
    "    plt.legend(['train', 'val'], bbox_to_anchor=(1.05, 1), loc='upper left', borderaxespad=0.)\n",
    "\n",
    "    plt.show()"
   ]
  },
  {
   "cell_type": "code",
   "execution_count": 15,
   "metadata": {},
   "outputs": [
    {
     "name": "stdout",
     "output_type": "stream",
     "text": [
      "Training shape: (284, 24, 1)\n",
      "Training labels shape: (284, 1)\n"
     ]
    }
   ],
   "source": [
    "# our supervised problem\n",
    "x, y = to_supervised(normalized_Time, TIMESTEPS, FEATURES)\n",
    "print('Training shape:', x.shape)\n",
    "print('Training labels shape:', y.shape)"
   ]
  },
  {
   "cell_type": "code",
   "execution_count": 16,
   "metadata": {},
   "outputs": [
    {
     "name": "stdout",
     "output_type": "stream",
     "text": [
      "Epoch 1/30\n",
      "2/2 [==============================] - 5s 1s/step - loss: 0.5590 - mae: 0.4996 - rmse: 0.5549 - val_loss: 0.2074 - val_mae: 0.1803 - val_rmse: 0.2074\n",
      "Epoch 2/30\n",
      "2/2 [==============================] - 0s 102ms/step - loss: 0.2879 - mae: 0.2328 - rmse: 0.2922 - val_loss: 0.2193 - val_mae: 0.1622 - val_rmse: 0.2193\n",
      "Epoch 3/30\n",
      "2/2 [==============================] - 0s 117ms/step - loss: 0.3844 - mae: 0.3150 - rmse: 0.3841 - val_loss: 0.1615 - val_mae: 0.1391 - val_rmse: 0.1615\n",
      "Epoch 4/30\n",
      "2/2 [==============================] - 0s 105ms/step - loss: 0.3343 - mae: 0.2509 - rmse: 0.3360 - val_loss: 0.2177 - val_mae: 0.1893 - val_rmse: 0.2177\n",
      "Epoch 5/30\n",
      "2/2 [==============================] - 0s 105ms/step - loss: 0.3025 - mae: 0.2314 - rmse: 0.3108 - val_loss: 0.2984 - val_mae: 0.2605 - val_rmse: 0.2984\n",
      "Epoch 6/30\n",
      "2/2 [==============================] - 0s 103ms/step - loss: 0.3095 - mae: 0.2609 - rmse: 0.3150 - val_loss: 0.2255 - val_mae: 0.1968 - val_rmse: 0.2255\n",
      "Epoch 7/30\n",
      "2/2 [==============================] - 0s 105ms/step - loss: 0.2760 - mae: 0.2217 - rmse: 0.2814 - val_loss: 0.1577 - val_mae: 0.1294 - val_rmse: 0.1577\n",
      "Epoch 8/30\n",
      "2/2 [==============================] - 0s 104ms/step - loss: 0.2938 - mae: 0.2205 - rmse: 0.2983 - val_loss: 0.1496 - val_mae: 0.1313 - val_rmse: 0.1496\n",
      "Epoch 9/30\n",
      "2/2 [==============================] - 0s 106ms/step - loss: 0.3102 - mae: 0.2280 - rmse: 0.3126 - val_loss: 0.1501 - val_mae: 0.1308 - val_rmse: 0.1501\n",
      "Epoch 10/30\n",
      "2/2 [==============================] - 0s 104ms/step - loss: 0.2987 - mae: 0.2279 - rmse: 0.3032 - val_loss: 0.1618 - val_mae: 0.1313 - val_rmse: 0.1618\n",
      "Epoch 11/30\n",
      "2/2 [==============================] - 0s 98ms/step - loss: 0.2889 - mae: 0.2112 - rmse: 0.2934 - val_loss: 0.1915 - val_mae: 0.1614 - val_rmse: 0.1915\n",
      "Epoch 12/30\n",
      "2/2 [==============================] - 0s 108ms/step - loss: 0.2824 - mae: 0.2124 - rmse: 0.2892 - val_loss: 0.2235 - val_mae: 0.1951 - val_rmse: 0.2235\n",
      "Epoch 13/30\n",
      "2/2 [==============================] - 0s 96ms/step - loss: 0.2874 - mae: 0.2235 - rmse: 0.2947 - val_loss: 0.2249 - val_mae: 0.1964 - val_rmse: 0.2249\n",
      "dict_keys(['loss', 'mae', 'rmse', 'val_loss', 'val_mae', 'val_rmse', 'lr'])\n"
     ]
    },
    {
     "data": {
      "image/png": "[encoded data removed]",
      "text/plain": [
       "<Figure size 432x288 with 1 Axes>"
      ]
     },
     "metadata": {
      "needs_background": "light"
     },
     "output_type": "display_data"
    },
    {
     "data": {
      "image/png": "[encoded data removed]",
      "text/plain": [
       "<Figure size 432x288 with 1 Axes>"
      ]
     },
     "metadata": {
      "needs_background": "light"
     },
     "output_type": "display_data"
    },
    {
     "name": "stdout",
     "output_type": "stream",
     "text": [
      "Epoch 1/30\n",
      "4/4 [==============================] - 0s 75ms/step - loss: 0.2668 - mae: 0.1849 - rmse: 0.2439 - val_loss: 0.4815 - val_mae: 0.2770 - val_rmse: 0.4815\n",
      "Epoch 2/30\n",
      "4/4 [==============================] - 0s 63ms/step - loss: 0.2712 - mae: 0.1904 - rmse: 0.2448 - val_loss: 0.4806 - val_mae: 0.2773 - val_rmse: 0.4806\n",
      "Epoch 3/30\n",
      "4/4 [==============================] - 0s 60ms/step - loss: 0.2702 - mae: 0.1896 - rmse: 0.2452 - val_loss: 0.4813 - val_mae: 0.2771 - val_rmse: 0.4813\n",
      "Epoch 4/30\n",
      "4/4 [==============================] - 0s 60ms/step - loss: 0.2786 - mae: 0.1879 - rmse: 0.2508 - val_loss: 0.4829 - val_mae: 0.2767 - val_rmse: 0.4829\n",
      "Epoch 5/30\n",
      "4/4 [==============================] - 0s 60ms/step - loss: 0.2702 - mae: 0.1856 - rmse: 0.2465 - val_loss: 0.4849 - val_mae: 0.2766 - val_rmse: 0.4849\n",
      "Epoch 6/30\n",
      "4/4 [==============================] - 0s 64ms/step - loss: 0.2706 - mae: 0.1857 - rmse: 0.2428 - val_loss: 0.4878 - val_mae: 0.2766 - val_rmse: 0.4878\n",
      "Epoch 7/30\n",
      "4/4 [==============================] - 0s 62ms/step - loss: 0.2779 - mae: 0.1914 - rmse: 0.2528 - val_loss: 0.4900 - val_mae: 0.2766 - val_rmse: 0.4900\n",
      "dict_keys(['loss', 'mae', 'rmse', 'val_loss', 'val_mae', 'val_rmse', 'lr'])\n"
     ]
    },
    {
     "data": {
      "image/png": "[encoded data removed]",
      "text/plain": [
       "<Figure size 432x288 with 1 Axes>"
      ]
     },
     "metadata": {
      "needs_background": "light"
     },
     "output_type": "display_data"
    },
    {
     "data": {
      "image/png": "[encoded data removed]",
      "text/plain": [
       "<Figure size 432x288 with 1 Axes>"
      ]
     },
     "metadata": {
      "needs_background": "light"
     },
     "output_type": "display_data"
    },
    {
     "name": "stdout",
     "output_type": "stream",
     "text": [
      "Epoch 1/30\n",
      "6/6 [==============================] - 0s 60ms/step - loss: 0.3048 - mae: 0.1989 - rmse: 0.2650 - val_loss: 0.2288 - val_mae: 0.1549 - val_rmse: 0.2288\n",
      "Epoch 2/30\n",
      "6/6 [==============================] - 0s 49ms/step - loss: 0.3096 - mae: 0.2051 - rmse: 0.2939 - val_loss: 0.2144 - val_mae: 0.1544 - val_rmse: 0.2144\n",
      "Epoch 3/30\n",
      "6/6 [==============================] - 0s 49ms/step - loss: 0.2968 - mae: 0.2005 - rmse: 0.2637 - val_loss: 0.2047 - val_mae: 0.1621 - val_rmse: 0.2047\n",
      "Epoch 4/30\n",
      "6/6 [==============================] - 0s 50ms/step - loss: 0.3026 - mae: 0.2173 - rmse: 0.2547 - val_loss: 0.2028 - val_mae: 0.1683 - val_rmse: 0.2028\n",
      "Epoch 5/30\n",
      "6/6 [==============================] - 0s 49ms/step - loss: 0.3081 - mae: 0.2279 - rmse: 0.2874 - val_loss: 0.2029 - val_mae: 0.1668 - val_rmse: 0.2029\n",
      "Epoch 6/30\n",
      "6/6 [==============================] - 0s 50ms/step - loss: 0.2997 - mae: 0.2238 - rmse: 0.2810 - val_loss: 0.2029 - val_mae: 0.1674 - val_rmse: 0.2029\n",
      "Epoch 7/30\n",
      "6/6 [==============================] - 0s 49ms/step - loss: 0.3070 - mae: 0.2311 - rmse: 0.2599 - val_loss: 0.2028 - val_mae: 0.1682 - val_rmse: 0.2028\n",
      "Epoch 8/30\n",
      "6/6 [==============================] - 0s 50ms/step - loss: 0.3028 - mae: 0.2303 - rmse: 0.2648 - val_loss: 0.2028 - val_mae: 0.1693 - val_rmse: 0.2028\n",
      "Epoch 9/30\n",
      "6/6 [==============================] - 0s 50ms/step - loss: 0.3099 - mae: 0.2289 - rmse: 0.2639 - val_loss: 0.2029 - val_mae: 0.1702 - val_rmse: 0.2029\n",
      "Epoch 10/30\n",
      "6/6 [==============================] - 0s 50ms/step - loss: 0.3016 - mae: 0.2279 - rmse: 0.2786 - val_loss: 0.2030 - val_mae: 0.1708 - val_rmse: 0.2030\n",
      "Epoch 11/30\n",
      "6/6 [==============================] - 0s 49ms/step - loss: 0.3048 - mae: 0.2293 - rmse: 0.2655 - val_loss: 0.2032 - val_mae: 0.1716 - val_rmse: 0.2032\n",
      "Epoch 12/30\n",
      "6/6 [==============================] - 0s 51ms/step - loss: 0.3121 - mae: 0.2384 - rmse: 0.2700 - val_loss: 0.2031 - val_mae: 0.1714 - val_rmse: 0.2031\n",
      "dict_keys(['loss', 'mae', 'rmse', 'val_loss', 'val_mae', 'val_rmse', 'lr'])\n"
     ]
    },
    {
     "data": {
      "image/png": "[encoded data removed]",
      "text/plain": [
       "<Figure size 432x288 with 1 Axes>"
      ]
     },
     "metadata": {
      "needs_background": "light"
     },
     "output_type": "display_data"
    },
    {
     "data": {
      "image/png": "[encoded data removed]",
      "text/plain": [
       "<Figure size 432x288 with 1 Axes>"
      ]
     },
     "metadata": {
      "needs_background": "light"
     },
     "output_type": "display_data"
    },
    {
     "name": "stdout",
     "output_type": "stream",
     "text": [
      "Epoch 1/30\n",
      "7/7 [==============================] - 0s 62ms/step - loss: 0.3066 - mae: 0.2290 - rmse: 0.3132 - val_loss: 0.3324 - val_mae: 0.2670 - val_rmse: 0.3116\n",
      "Epoch 2/30\n",
      "7/7 [==============================] - 0s 52ms/step - loss: 0.3157 - mae: 0.2332 - rmse: 0.3222 - val_loss: 0.3325 - val_mae: 0.2649 - val_rmse: 0.3113\n",
      "Epoch 3/30\n",
      "7/7 [==============================] - 0s 52ms/step - loss: 0.3008 - mae: 0.2217 - rmse: 0.3077 - val_loss: 0.3328 - val_mae: 0.2626 - val_rmse: 0.3115\n",
      "Epoch 4/30\n",
      "7/7 [==============================] - 0s 53ms/step - loss: 0.3053 - mae: 0.2188 - rmse: 0.3118 - val_loss: 0.3331 - val_mae: 0.2616 - val_rmse: 0.3116\n",
      "Epoch 5/30\n",
      "7/7 [==============================] - 0s 51ms/step - loss: 0.3137 - mae: 0.2282 - rmse: 0.3207 - val_loss: 0.3329 - val_mae: 0.2616 - val_rmse: 0.3115\n",
      "Epoch 6/30\n",
      "7/7 [==============================] - 0s 52ms/step - loss: 0.3076 - mae: 0.2217 - rmse: 0.3145 - val_loss: 0.3327 - val_mae: 0.2619 - val_rmse: 0.3113\n",
      "dict_keys(['loss', 'mae', 'rmse', 'val_loss', 'val_mae', 'val_rmse', 'lr'])\n"
     ]
    },
    {
     "data": {
      "image/png": "[encoded data removed]",
      "text/plain": [
       "<Figure size 432x288 with 1 Axes>"
      ]
     },
     "metadata": {
      "needs_background": "light"
     },
     "output_type": "display_data"
    },
    {
     "data": {
      "image/png": "[encoded data removed]",
      "text/plain": [
       "<Figure size 432x288 with 1 Axes>"
      ]
     },
     "metadata": {
      "needs_background": "light"
     },
     "output_type": "display_data"
    },
    {
     "name": "stdout",
     "output_type": "stream",
     "text": [
      "Epoch 1/30\n",
      "9/9 [==============================] - 0s 54ms/step - loss: 0.3087 - mae: 0.2367 - rmse: 0.3060 - val_loss: 0.2977 - val_mae: 0.2494 - val_rmse: 0.3191\n",
      "Epoch 2/30\n",
      "9/9 [==============================] - 0s 48ms/step - loss: 0.3060 - mae: 0.2229 - rmse: 0.3009 - val_loss: 0.2962 - val_mae: 0.2401 - val_rmse: 0.3203\n",
      "Epoch 3/30\n",
      "9/9 [==============================] - 0s 50ms/step - loss: 0.3086 - mae: 0.2273 - rmse: 0.3051 - val_loss: 0.2965 - val_mae: 0.2371 - val_rmse: 0.3221\n",
      "Epoch 4/30\n",
      "9/9 [==============================] - 0s 48ms/step - loss: 0.3137 - mae: 0.2230 - rmse: 0.3096 - val_loss: 0.2965 - val_mae: 0.2367 - val_rmse: 0.3223\n",
      "Epoch 5/30\n",
      "9/9 [==============================] - 0s 50ms/step - loss: 0.3113 - mae: 0.2227 - rmse: 0.3062 - val_loss: 0.2959 - val_mae: 0.2384 - val_rmse: 0.3206\n",
      "Epoch 6/30\n",
      "9/9 [==============================] - 0s 49ms/step - loss: 0.3072 - mae: 0.2261 - rmse: 0.3007 - val_loss: 0.2957 - val_mae: 0.2392 - val_rmse: 0.3200\n",
      "Epoch 7/30\n",
      "9/9 [==============================] - 0s 49ms/step - loss: 0.3065 - mae: 0.2245 - rmse: 0.3008 - val_loss: 0.2956 - val_mae: 0.2391 - val_rmse: 0.3198\n",
      "Epoch 8/30\n",
      "9/9 [==============================] - 0s 50ms/step - loss: 0.3063 - mae: 0.2222 - rmse: 0.2984 - val_loss: 0.2955 - val_mae: 0.2384 - val_rmse: 0.3200\n",
      "Epoch 9/30\n",
      "9/9 [==============================] - 0s 49ms/step - loss: 0.3046 - mae: 0.2171 - rmse: 0.2998 - val_loss: 0.2953 - val_mae: 0.2394 - val_rmse: 0.3193\n",
      "Epoch 10/30\n",
      "9/9 [==============================] - 0s 50ms/step - loss: 0.3027 - mae: 0.2192 - rmse: 0.2984 - val_loss: 0.2951 - val_mae: 0.2400 - val_rmse: 0.3190\n",
      "Epoch 11/30\n",
      "9/9 [==============================] - 0s 50ms/step - loss: 0.3092 - mae: 0.2255 - rmse: 0.3038 - val_loss: 0.2950 - val_mae: 0.2394 - val_rmse: 0.3190\n",
      "Epoch 12/30\n",
      "9/9 [==============================] - 0s 50ms/step - loss: 0.3040 - mae: 0.2218 - rmse: 0.2987 - val_loss: 0.2949 - val_mae: 0.2388 - val_rmse: 0.3191\n",
      "Epoch 13/30\n",
      "9/9 [==============================] - 0s 49ms/step - loss: 0.3012 - mae: 0.2211 - rmse: 0.2972 - val_loss: 0.2947 - val_mae: 0.2384 - val_rmse: 0.3191\n",
      "Epoch 14/30\n",
      "9/9 [==============================] - 0s 50ms/step - loss: 0.3077 - mae: 0.2238 - rmse: 0.3038 - val_loss: 0.2947 - val_mae: 0.2373 - val_rmse: 0.3194\n",
      "Epoch 15/30\n",
      "9/9 [==============================] - 0s 50ms/step - loss: 0.3119 - mae: 0.2243 - rmse: 0.3078 - val_loss: 0.2945 - val_mae: 0.2382 - val_rmse: 0.3188\n",
      "Epoch 16/30\n",
      "9/9 [==============================] - 0s 50ms/step - loss: 0.3068 - mae: 0.2242 - rmse: 0.3036 - val_loss: 0.2944 - val_mae: 0.2386 - val_rmse: 0.3185\n",
      "Epoch 17/30\n",
      "9/9 [==============================] - 0s 50ms/step - loss: 0.3057 - mae: 0.2189 - rmse: 0.3017 - val_loss: 0.2943 - val_mae: 0.2377 - val_rmse: 0.3187\n",
      "Epoch 18/30\n",
      "9/9 [==============================] - 0s 53ms/step - loss: 0.3016 - mae: 0.2156 - rmse: 0.2978 - val_loss: 0.2941 - val_mae: 0.2377 - val_rmse: 0.3185\n",
      "Epoch 19/30\n",
      "9/9 [==============================] - 0s 55ms/step - loss: 0.3053 - mae: 0.2196 - rmse: 0.3009 - val_loss: 0.2940 - val_mae: 0.2378 - val_rmse: 0.3183\n",
      "Epoch 20/30\n",
      "9/9 [==============================] - 0s 56ms/step - loss: 0.3061 - mae: 0.2196 - rmse: 0.3014 - val_loss: 0.2938 - val_mae: 0.2387 - val_rmse: 0.3178\n",
      "Epoch 21/30\n",
      "9/9 [==============================] - 0s 50ms/step - loss: 0.3065 - mae: 0.2215 - rmse: 0.3032 - val_loss: 0.2936 - val_mae: 0.2389 - val_rmse: 0.3175\n",
      "Epoch 22/30\n",
      "9/9 [==============================] - 0s 55ms/step - loss: 0.3031 - mae: 0.2207 - rmse: 0.3008 - val_loss: 0.2935 - val_mae: 0.2390 - val_rmse: 0.3173\n",
      "Epoch 23/30\n",
      "9/9 [==============================] - 0s 53ms/step - loss: 0.3094 - mae: 0.2219 - rmse: 0.3049 - val_loss: 0.2934 - val_mae: 0.2400 - val_rmse: 0.3169\n",
      "Epoch 24/30\n",
      "9/9 [==============================] - 0s 54ms/step - loss: 0.3073 - mae: 0.2263 - rmse: 0.3022 - val_loss: 0.2933 - val_mae: 0.2407 - val_rmse: 0.3166\n",
      "Epoch 25/30\n",
      "9/9 [==============================] - 1s 56ms/step - loss: 0.3055 - mae: 0.2207 - rmse: 0.3017 - val_loss: 0.2931 - val_mae: 0.2398 - val_rmse: 0.3167\n",
      "Epoch 26/30\n",
      "9/9 [==============================] - 0s 51ms/step - loss: 0.2988 - mae: 0.2190 - rmse: 0.2948 - val_loss: 0.2930 - val_mae: 0.2383 - val_rmse: 0.3169\n",
      "Epoch 27/30\n",
      "9/9 [==============================] - 1s 63ms/step - loss: 0.3041 - mae: 0.2210 - rmse: 0.2988 - val_loss: 0.2929 - val_mae: 0.2368 - val_rmse: 0.3173\n",
      "Epoch 28/30\n",
      "9/9 [==============================] - 0s 52ms/step - loss: 0.3110 - mae: 0.2250 - rmse: 0.3055 - val_loss: 0.2927 - val_mae: 0.2374 - val_rmse: 0.3169\n",
      "Epoch 29/30\n",
      "9/9 [==============================] - 0s 52ms/step - loss: 0.3004 - mae: 0.2183 - rmse: 0.2949 - val_loss: 0.2925 - val_mae: 0.2385 - val_rmse: 0.3163\n",
      "Epoch 30/30\n",
      "9/9 [==============================] - 0s 51ms/step - loss: 0.3015 - mae: 0.2173 - rmse: 0.2962 - val_loss: 0.2924 - val_mae: 0.2397 - val_rmse: 0.3159\n",
      "dict_keys(['loss', 'mae', 'rmse', 'val_loss', 'val_mae', 'val_rmse', 'lr'])\n"
     ]
    },
    {
     "data": {
      "image/png": "[encoded data removed]",
      "text/plain": [
       "<Figure size 432x288 with 1 Axes>"
      ]
     },
     "metadata": {
      "needs_background": "light"
     },
     "output_type": "display_data"
    },
    {
     "data": {
      "image/png": "[encoded data removed]",
      "text/plain": [
       "<Figure size 432x288 with 1 Axes>"
      ]
     },
     "metadata": {
      "needs_background": "light"
     },
     "output_type": "display_data"
    }
   ],
   "source": [
    "# fitting the model\n",
    "modelTime = build_model(TIMESTEPS, FEATURES, name = 'test')\n",
    "modelTime, hist_list, loss_list = compile_and_fit(modelTime, x, y, EPOCHS, BATCH_SIZE, CV_SPLITS)"
   ]
  },
  {
   "cell_type": "code",
   "execution_count": 17,
   "metadata": {},
   "outputs": [
    {
     "name": "stdout",
     "output_type": "stream",
     "text": [
      "yhat -0.5672227\n",
      "Transformed yhat 7.8207397\n",
      "yhat -0.58024585\n",
      "Transformed yhat 7.7860107\n",
      "yhat -0.5859851\n",
      "Transformed yhat 7.770706\n",
      "yhat -0.5880658\n",
      "Transformed yhat 7.7651577\n",
      "yhat -0.58789325\n",
      "Transformed yhat 7.765618\n",
      "yhat -0.5864226\n",
      "Transformed yhat 7.7695394\n",
      "yhat -0.5844867\n",
      "Transformed yhat 7.774702\n",
      "yhat -0.5825115\n",
      "Transformed yhat 7.7799697\n",
      "yhat -0.58051616\n",
      "Transformed yhat 7.7852902\n",
      "yhat -0.5790158\n",
      "Transformed yhat 7.7892914\n",
      "yhat -0.5773863\n",
      "Transformed yhat 7.7936363\n",
      "yhat -0.57609487\n",
      "Transformed yhat 7.7970805\n",
      "Real data: [ 8.48731809  7.69119889  9.08304281  8.34760915  7.11905752  7.11905752\n",
      "  7.56257796  7.11905752  8.84162269  7.11905752  7.7432699   7.11905752\n",
      "  7.11905752  7.11905752  7.11905752  7.11905752  7.11905752  9.64047124\n",
      " 10.13789648  8.98849619  7.28981289  7.11905752  7.2033264   7.11905752]\n",
      "Forecasting values: [8, 8, 8, 8, 8, 8, 8, 8, 8, 8, 8, 8]\n"
     ]
    },
    {
     "data": {
      "image/png": "[encoded data removed]",
      "text/plain": [
       "<Figure size 576x432 with 1 Axes>"
      ]
     },
     "metadata": {
      "needs_background": "light"
     },
     "output_type": "display_data"
    }
   ],
   "source": [
    "# Recursive Multi-step Forecast\n",
    "forecasts = forecast(modelTime,normalized_Time, scaler, TIMESTEPS, MULTISTEPS, FEATURES, BATCH_SIZE)\n",
    "\n",
    "plot_prediction(normalized_Time, forecasts, scaler)"
   ]
  },
  {
   "cell_type": "code",
   "execution_count": 18,
   "metadata": {},
   "outputs": [],
   "source": [
    "hour = []\n",
    "ts = traffic.iloc[-1]['timeStamp']\n",
    "tss = pd.to_datetime(ts).hour\n",
    "\n",
    "for i in range(12):\n",
    "    if tss == 23:\n",
    "        newHour =  ts + pd.DateOffset(hour=0)\n",
    "        day = pd.to_datetime(ts).day\n",
    "        newDay = newHour + pd.DateOffset(day=day+1)\n",
    "        tss = 0\n",
    "        ts = newDay\n",
    "        hour.append(newDay)\n",
    "    else: \n",
    "        h = pd.to_datetime(ts).hour\n",
    "        newHour = ts + pd.DateOffset(hour=h+1)\n",
    "        tss = tss+1\n",
    "        ts = newHour\n",
    "        hour.append(newHour)\n",
    "        \n",
    "#for i in hour:\n",
    "    #print(i)"
   ]
  },
  {
   "cell_type": "code",
   "execution_count": 19,
   "metadata": {},
   "outputs": [],
   "source": [
    "import csv\n",
    "\n",
    "with open('predictionsTime.csv', mode='a') as csv_file:\n",
    "    writer = csv.writer(csv_file, delimiter=',', quotechar='\"', quoting=csv.QUOTE_MINIMAL)\n",
    "    for i in range(12):\n",
    "        d = 'Cent.0',forecasts[i],hour[i]\n",
    "        writer.writerow(d)\n",
    "        "
   ]
  },
  {
   "cell_type": "markdown",
   "metadata": {},
   "source": [
    "# LSTM - Speed"
   ]
  },
  {
   "cell_type": "code",
   "execution_count": 20,
   "metadata": {},
   "outputs": [
    {
     "name": "stdout",
     "output_type": "stream",
     "text": [
      "Training shape: (284, 24, 1)\n",
      "Training labels shape: (284, 1)\n"
     ]
    }
   ],
   "source": [
    "# our supervised problem\n",
    "x, y = to_supervised(normalized_Speed, TIMESTEPS, FEATURES)\n",
    "print('Training shape:', x.shape)\n",
    "print('Training labels shape:', y.shape)"
   ]
  },
  {
   "cell_type": "code",
   "execution_count": null,
   "metadata": {},
   "outputs": [],
   "source": [
    "# fitting the model\n",
    "modelSpeed = build_model(TIMESTEPS, FEATURES, name = 'test')\n",
    "modelSpeed , hist_list, loss_list = compile_and_fit(modelSpeed, x, y, EPOCHS, BATCH_SIZE, CV_SPLITS)"
   ]
  },
  {
   "cell_type": "code",
   "execution_count": null,
   "metadata": {},
   "outputs": [],
   "source": [
    "# Recursive Multi-step Forecast\n",
    "forecastSpeed = forecast(modelSpeed,normalized_Speed, scaler, TIMESTEPS, MULTISTEPS, FEATURES, BATCH_SIZE)\n",
    "\n",
    "plot_prediction_Speed(normalized_Speed, forecastSpeed, scaler)"
   ]
  },
  {
   "cell_type": "code",
   "execution_count": null,
   "metadata": {},
   "outputs": [],
   "source": [
    "hour = []\n",
    "ts = traffic.iloc[-1]['timeStamp']\n",
    "tss = pd.to_datetime(ts).hour\n",
    "\n",
    "for i in range(12):\n",
    "    if tss == 23:\n",
    "        newHour =  ts + pd.DateOffset(hour=0)\n",
    "        day = pd.to_datetime(ts).day\n",
    "        newDay = newHour + pd.DateOffset(day=day+1)\n",
    "        tss = 0\n",
    "        ts = newDay\n",
    "        hour.append(newDay)\n",
    "    else: \n",
    "        h = pd.to_datetime(ts).hour\n",
    "        newHour = ts + pd.DateOffset(hour=h+1)\n",
    "        tss = tss+1\n",
    "        ts = newHour\n",
    "        hour.append(newHour)\n",
    "        \n",
    "#for i in hour:\n",
    "    #print(i)"
   ]
  },
  {
   "cell_type": "code",
   "execution_count": null,
   "metadata": {},
   "outputs": [],
   "source": [
    "import csv\n",
    "\n",
    "with open('predictionsSpeed.csv', mode='a') as csv_file:\n",
    "    writer = csv.writer(csv_file, delimiter=',', quotechar='\"', quoting=csv.QUOTE_MINIMAL)\n",
    "    for i in range(12):\n",
    "        d = 'Cent.0',forecasts[i],hour[i]\n",
    "        writer.writerow(d)\n"
   ]
  }
 ],
 "metadata": {
  "kernelspec": {
   "display_name": "Python 3",
   "language": "python",
   "name": "python3"
  },
  "language_info": {
   "codemirror_mode": {
    "name": "ipython",
    "version": 3
   },
   "file_extension": ".py",
   "mimetype": "text/x-python",
   "name": "python",
   "nbconvert_exporter": "python",
   "pygments_lexer": "ipython3",
   "version": "3.8.3"
  }
 },
 "nbformat": 4,
 "nbformat_minor": 4
}

{
 "cells": [
  {
   "cell_type": "markdown",
   "metadata": {},
   "source": [
    "# LSTM Travel Time + Speed Prediction - Cent.0"
   ]
  },
  {
   "cell_type": "code",
   "execution_count": 1,
   "metadata": {},
   "outputs": [],
   "source": [
    "import numpy as np\n",
    "import pandas as pd\n",
    "import seaborn as sns\n",
    "from datetime import datetime\n",
    "import matplotlib.pyplot as plt\n",
    "\n",
    "import tensorflow as tf\n",
    "from sklearn.model_selection import TimeSeriesSplit\n",
    "from tensorflow.keras.callbacks import EarlyStopping\n",
    "from tensorflow.keras.layers import LSTM, Dropout, Dense\n",
    "from tensorflow.keras.callbacks import ReduceLROnPlateau"
   ]
  },
  {
   "cell_type": "code",
   "execution_count": 2,
   "metadata": {
    "scrolled": true
   },
   "outputs": [
    {
     "data": {
      "text/html": [
       "<div>\n",
       "<style scoped>\n",
       "    .dataframe tbody tr th:only-of-type {\n",
       "        vertical-align: middle;\n",
       "    }\n",
       "\n",
       "    .dataframe tbody tr th {\n",
       "        vertical-align: top;\n",
       "    }\n",
       "\n",
       "    .dataframe thead th {\n",
       "        text-align: right;\n",
       "    }\n",
       "</style>\n",
       "<table border=\"1\" class=\"dataframe\">\n",
       "  <thead>\n",
       "    <tr style=\"text-align: right;\">\n",
       "      <th></th>\n",
       "      <th>currentSpeed</th>\n",
       "      <th>freeFlowSpeed</th>\n",
       "      <th>currentTravelTime</th>\n",
       "      <th>freeFlowTravelTime</th>\n",
       "      <th>roadName</th>\n",
       "      <th>roadClosure</th>\n",
       "      <th>timeStamp</th>\n",
       "    </tr>\n",
       "  </thead>\n",
       "  <tbody>\n",
       "    <tr>\n",
       "      <th>0</th>\n",
       "      <td>64</td>\n",
       "      <td>64</td>\n",
       "      <td>21</td>\n",
       "      <td>21</td>\n",
       "      <td>N103.1</td>\n",
       "      <td>False</td>\n",
       "      <td>2021-04-26 18:11:34</td>\n",
       "    </tr>\n",
       "    <tr>\n",
       "      <th>1</th>\n",
       "      <td>34</td>\n",
       "      <td>43</td>\n",
       "      <td>49</td>\n",
       "      <td>39</td>\n",
       "      <td>N103.0</td>\n",
       "      <td>False</td>\n",
       "      <td>2021-04-27 14:53:37</td>\n",
       "    </tr>\n",
       "    <tr>\n",
       "      <th>2</th>\n",
       "      <td>64</td>\n",
       "      <td>64</td>\n",
       "      <td>21</td>\n",
       "      <td>21</td>\n",
       "      <td>N103.1</td>\n",
       "      <td>False</td>\n",
       "      <td>2021-04-27 14:53:49</td>\n",
       "    </tr>\n",
       "    <tr>\n",
       "      <th>3</th>\n",
       "      <td>51</td>\n",
       "      <td>51</td>\n",
       "      <td>37</td>\n",
       "      <td>37</td>\n",
       "      <td>N103.2</td>\n",
       "      <td>False</td>\n",
       "      <td>2021-04-27 14:54:00</td>\n",
       "    </tr>\n",
       "    <tr>\n",
       "      <th>4</th>\n",
       "      <td>74</td>\n",
       "      <td>74</td>\n",
       "      <td>21</td>\n",
       "      <td>21</td>\n",
       "      <td>N101.0</td>\n",
       "      <td>False</td>\n",
       "      <td>2021-04-27 14:54:12</td>\n",
       "    </tr>\n",
       "    <tr>\n",
       "      <th>5</th>\n",
       "      <td>33</td>\n",
       "      <td>43</td>\n",
       "      <td>51</td>\n",
       "      <td>39</td>\n",
       "      <td>N103.0</td>\n",
       "      <td>False</td>\n",
       "      <td>2021-04-27 14:57:10</td>\n",
       "    </tr>\n",
       "    <tr>\n",
       "      <th>6</th>\n",
       "      <td>64</td>\n",
       "      <td>64</td>\n",
       "      <td>21</td>\n",
       "      <td>21</td>\n",
       "      <td>N103.1</td>\n",
       "      <td>False</td>\n",
       "      <td>2021-04-27 14:57:22</td>\n",
       "    </tr>\n",
       "    <tr>\n",
       "      <th>7</th>\n",
       "      <td>39</td>\n",
       "      <td>50</td>\n",
       "      <td>49</td>\n",
       "      <td>38</td>\n",
       "      <td>N103.2</td>\n",
       "      <td>False</td>\n",
       "      <td>2021-04-27 14:57:33</td>\n",
       "    </tr>\n",
       "    <tr>\n",
       "      <th>8</th>\n",
       "      <td>74</td>\n",
       "      <td>74</td>\n",
       "      <td>21</td>\n",
       "      <td>21</td>\n",
       "      <td>N101.0</td>\n",
       "      <td>False</td>\n",
       "      <td>2021-04-27 14:57:45</td>\n",
       "    </tr>\n",
       "    <tr>\n",
       "      <th>9</th>\n",
       "      <td>52</td>\n",
       "      <td>67</td>\n",
       "      <td>28</td>\n",
       "      <td>21</td>\n",
       "      <td>N101.1</td>\n",
       "      <td>False</td>\n",
       "      <td>2021-04-27 14:57:57</td>\n",
       "    </tr>\n",
       "  </tbody>\n",
       "</table>\n",
       "</div>"
      ],
      "text/plain": [
       "   currentSpeed  freeFlowSpeed  currentTravelTime  freeFlowTravelTime  \\\n",
       "0            64             64                 21                  21   \n",
       "1            34             43                 49                  39   \n",
       "2            64             64                 21                  21   \n",
       "3            51             51                 37                  37   \n",
       "4            74             74                 21                  21   \n",
       "5            33             43                 51                  39   \n",
       "6            64             64                 21                  21   \n",
       "7            39             50                 49                  38   \n",
       "8            74             74                 21                  21   \n",
       "9            52             67                 28                  21   \n",
       "\n",
       "  roadName  roadClosure           timeStamp  \n",
       "0   N103.1        False 2021-04-26 18:11:34  \n",
       "1   N103.0        False 2021-04-27 14:53:37  \n",
       "2   N103.1        False 2021-04-27 14:53:49  \n",
       "3   N103.2        False 2021-04-27 14:54:00  \n",
       "4   N101.0        False 2021-04-27 14:54:12  \n",
       "5   N103.0        False 2021-04-27 14:57:10  \n",
       "6   N103.1        False 2021-04-27 14:57:22  \n",
       "7   N103.2        False 2021-04-27 14:57:33  \n",
       "8   N101.0        False 2021-04-27 14:57:45  \n",
       "9   N101.1        False 2021-04-27 14:57:57  "
      ]
     },
     "execution_count": 2,
     "metadata": {},
     "output_type": "execute_result"
    }
   ],
   "source": [
    "traffic = pd.read_csv('../db.csv', parse_dates = [\"timeStamp\"])\n",
    "traffic.head(10)"
   ]
  },
  {
   "cell_type": "code",
   "execution_count": 3,
   "metadata": {},
   "outputs": [
    {
     "name": "stdout",
     "output_type": "stream",
     "text": [
      "<class 'pandas.core.frame.DataFrame'>\n",
      "RangeIndex: 245563 entries, 0 to 245562\n",
      "Data columns (total 7 columns):\n",
      " #   Column              Non-Null Count   Dtype         \n",
      "---  ------              --------------   -----         \n",
      " 0   currentSpeed        245563 non-null  int64         \n",
      " 1   freeFlowSpeed       245563 non-null  int64         \n",
      " 2   currentTravelTime   245563 non-null  int64         \n",
      " 3   freeFlowTravelTime  245563 non-null  int64         \n",
      " 4   roadName            245563 non-null  object        \n",
      " 5   roadClosure         245563 non-null  bool          \n",
      " 6   timeStamp           245563 non-null  datetime64[ns]\n",
      "dtypes: bool(1), datetime64[ns](1), int64(4), object(1)\n",
      "memory usage: 11.5+ MB\n"
     ]
    }
   ],
   "source": [
    "traffic.info()"
   ]
  },
  {
   "cell_type": "code",
   "execution_count": 4,
   "metadata": {},
   "outputs": [
    {
     "name": "stdout",
     "output_type": "stream",
     "text": [
      "['N103.1' 'N103.0' 'N103.2' 'N101.0' 'N101.1' 'N101.2' 'N101.3' 'N101.4'\n",
      " 'N101.5' 'Cent.0' 'Cent.1' 'Cent.2' 'Cent.3' 'Cent.4']\n"
     ]
    }
   ],
   "source": [
    "print(traffic['roadName'].unique())"
   ]
  },
  {
   "cell_type": "markdown",
   "metadata": {},
   "source": [
    "### Filter Roads"
   ]
  },
  {
   "cell_type": "code",
   "execution_count": 5,
   "metadata": {},
   "outputs": [],
   "source": [
    "#traffic = traffic[(traffic['roadName'] == 'Cent.0')]"
   ]
  },
  {
   "cell_type": "markdown",
   "metadata": {},
   "source": [
    "### Drop unwanted columns "
   ]
  },
  {
   "cell_type": "code",
   "execution_count": 6,
   "metadata": {},
   "outputs": [],
   "source": [
    "traffic = traffic.drop(columns = ['roadClosure', 'freeFlowTravelTime', 'freeFlowSpeed', 'roadName'])"
   ]
  },
  {
   "cell_type": "markdown",
   "metadata": {},
   "source": [
    "### Remove incomplete days"
   ]
  },
  {
   "cell_type": "code",
   "execution_count": 7,
   "metadata": {},
   "outputs": [],
   "source": [
    "tfc = traffic[(traffic['timeStamp'].dt.day != 26) \n",
    "                        & (traffic['timeStamp'].dt.day != 27) \n",
    "                        & (traffic['timeStamp'].dt.day != 3)]"
   ]
  },
  {
   "cell_type": "markdown",
   "metadata": {},
   "source": [
    "### Treat Date and Time"
   ]
  },
  {
   "cell_type": "code",
   "execution_count": 8,
   "metadata": {},
   "outputs": [
    {
     "name": "stderr",
     "output_type": "stream",
     "text": [
      "<ipython-input-8-7e39a034e481>:1: SettingWithCopyWarning: \n",
      "A value is trying to be set on a copy of a slice from a DataFrame.\n",
      "Try using .loc[row_indexer,col_indexer] = value instead\n",
      "\n",
      "See the caveats in the documentation: https://pandas.pydata.org/pandas-docs/stable/user_guide/indexing.html#returning-a-view-versus-a-copy\n",
      "  tfc['timeStamp'] = pd.to_datetime(tfc['timeStamp']).dt.strftime(\"%Y%m%d%H\")\n"
     ]
    }
   ],
   "source": [
    "tfc['timeStamp'] = pd.to_datetime(tfc['timeStamp']).dt.strftime(\"%Y%m%d%H\")"
   ]
  },
  {
   "cell_type": "code",
   "execution_count": 9,
   "metadata": {},
   "outputs": [
    {
     "data": {
      "text/html": [
       "<div>\n",
       "<style scoped>\n",
       "    .dataframe tbody tr th:only-of-type {\n",
       "        vertical-align: middle;\n",
       "    }\n",
       "\n",
       "    .dataframe tbody tr th {\n",
       "        vertical-align: top;\n",
       "    }\n",
       "\n",
       "    .dataframe thead th {\n",
       "        text-align: right;\n",
       "    }\n",
       "</style>\n",
       "<table border=\"1\" class=\"dataframe\">\n",
       "  <thead>\n",
       "    <tr style=\"text-align: right;\">\n",
       "      <th></th>\n",
       "      <th>currentSpeed</th>\n",
       "      <th>currentTravelTime</th>\n",
       "      <th>timeStamp</th>\n",
       "    </tr>\n",
       "  </thead>\n",
       "  <tbody>\n",
       "    <tr>\n",
       "      <th>6385</th>\n",
       "      <td>10</td>\n",
       "      <td>54</td>\n",
       "      <td>2021042800</td>\n",
       "    </tr>\n",
       "    <tr>\n",
       "      <th>6386</th>\n",
       "      <td>31</td>\n",
       "      <td>15</td>\n",
       "      <td>2021042800</td>\n",
       "    </tr>\n",
       "    <tr>\n",
       "      <th>6387</th>\n",
       "      <td>77</td>\n",
       "      <td>32</td>\n",
       "      <td>2021042800</td>\n",
       "    </tr>\n",
       "    <tr>\n",
       "      <th>6388</th>\n",
       "      <td>77</td>\n",
       "      <td>32</td>\n",
       "      <td>2021042800</td>\n",
       "    </tr>\n",
       "    <tr>\n",
       "      <th>6389</th>\n",
       "      <td>77</td>\n",
       "      <td>33</td>\n",
       "      <td>2021042800</td>\n",
       "    </tr>\n",
       "    <tr>\n",
       "      <th>...</th>\n",
       "      <td>...</td>\n",
       "      <td>...</td>\n",
       "      <td>...</td>\n",
       "    </tr>\n",
       "    <tr>\n",
       "      <th>245558</th>\n",
       "      <td>73</td>\n",
       "      <td>21</td>\n",
       "      <td>2021051213</td>\n",
       "    </tr>\n",
       "    <tr>\n",
       "      <th>245559</th>\n",
       "      <td>66</td>\n",
       "      <td>22</td>\n",
       "      <td>2021051213</td>\n",
       "    </tr>\n",
       "    <tr>\n",
       "      <th>245560</th>\n",
       "      <td>87</td>\n",
       "      <td>17</td>\n",
       "      <td>2021051213</td>\n",
       "    </tr>\n",
       "    <tr>\n",
       "      <th>245561</th>\n",
       "      <td>41</td>\n",
       "      <td>45</td>\n",
       "      <td>2021051213</td>\n",
       "    </tr>\n",
       "    <tr>\n",
       "      <th>245562</th>\n",
       "      <td>74</td>\n",
       "      <td>38</td>\n",
       "      <td>2021051213</td>\n",
       "    </tr>\n",
       "  </tbody>\n",
       "</table>\n",
       "<p>221918 rows × 3 columns</p>\n",
       "</div>"
      ],
      "text/plain": [
       "        currentSpeed  currentTravelTime   timeStamp\n",
       "6385              10                 54  2021042800\n",
       "6386              31                 15  2021042800\n",
       "6387              77                 32  2021042800\n",
       "6388              77                 32  2021042800\n",
       "6389              77                 33  2021042800\n",
       "...              ...                ...         ...\n",
       "245558            73                 21  2021051213\n",
       "245559            66                 22  2021051213\n",
       "245560            87                 17  2021051213\n",
       "245561            41                 45  2021051213\n",
       "245562            74                 38  2021051213\n",
       "\n",
       "[221918 rows x 3 columns]"
      ]
     },
     "execution_count": 9,
     "metadata": {},
     "output_type": "execute_result"
    }
   ],
   "source": [
    "tfc"
   ]
  },
  {
   "cell_type": "code",
   "execution_count": 10,
   "metadata": {},
   "outputs": [
    {
     "data": {
      "text/html": [
       "<div>\n",
       "<style scoped>\n",
       "    .dataframe tbody tr th:only-of-type {\n",
       "        vertical-align: middle;\n",
       "    }\n",
       "\n",
       "    .dataframe tbody tr th {\n",
       "        vertical-align: top;\n",
       "    }\n",
       "\n",
       "    .dataframe thead th {\n",
       "        text-align: right;\n",
       "    }\n",
       "</style>\n",
       "<table border=\"1\" class=\"dataframe\">\n",
       "  <thead>\n",
       "    <tr style=\"text-align: right;\">\n",
       "      <th></th>\n",
       "      <th>currentSpeed</th>\n",
       "      <th>currentTravelTime</th>\n",
       "    </tr>\n",
       "    <tr>\n",
       "      <th>timeStamp</th>\n",
       "      <th></th>\n",
       "      <th></th>\n",
       "    </tr>\n",
       "  </thead>\n",
       "  <tbody>\n",
       "    <tr>\n",
       "      <th>2021042800</th>\n",
       "      <td>60.599444</td>\n",
       "      <td>31.937413</td>\n",
       "    </tr>\n",
       "    <tr>\n",
       "      <th>2021042801</th>\n",
       "      <td>60.673611</td>\n",
       "      <td>31.877778</td>\n",
       "    </tr>\n",
       "    <tr>\n",
       "      <th>2021042802</th>\n",
       "      <td>59.844228</td>\n",
       "      <td>32.379694</td>\n",
       "    </tr>\n",
       "    <tr>\n",
       "      <th>2021042803</th>\n",
       "      <td>60.646732</td>\n",
       "      <td>31.948540</td>\n",
       "    </tr>\n",
       "    <tr>\n",
       "      <th>2021042804</th>\n",
       "      <td>60.684722</td>\n",
       "      <td>31.908333</td>\n",
       "    </tr>\n",
       "    <tr>\n",
       "      <th>...</th>\n",
       "      <td>...</td>\n",
       "      <td>...</td>\n",
       "    </tr>\n",
       "    <tr>\n",
       "      <th>2021051209</th>\n",
       "      <td>58.210014</td>\n",
       "      <td>36.824757</td>\n",
       "    </tr>\n",
       "    <tr>\n",
       "      <th>2021051210</th>\n",
       "      <td>58.887344</td>\n",
       "      <td>35.212796</td>\n",
       "    </tr>\n",
       "    <tr>\n",
       "      <th>2021051211</th>\n",
       "      <td>57.409722</td>\n",
       "      <td>36.970833</td>\n",
       "    </tr>\n",
       "    <tr>\n",
       "      <th>2021051212</th>\n",
       "      <td>57.553547</td>\n",
       "      <td>36.936022</td>\n",
       "    </tr>\n",
       "    <tr>\n",
       "      <th>2021051213</th>\n",
       "      <td>58.200000</td>\n",
       "      <td>35.947273</td>\n",
       "    </tr>\n",
       "  </tbody>\n",
       "</table>\n",
       "<p>309 rows × 2 columns</p>\n",
       "</div>"
      ],
      "text/plain": [
       "            currentSpeed  currentTravelTime\n",
       "timeStamp                                  \n",
       "2021042800     60.599444          31.937413\n",
       "2021042801     60.673611          31.877778\n",
       "2021042802     59.844228          32.379694\n",
       "2021042803     60.646732          31.948540\n",
       "2021042804     60.684722          31.908333\n",
       "...                  ...                ...\n",
       "2021051209     58.210014          36.824757\n",
       "2021051210     58.887344          35.212796\n",
       "2021051211     57.409722          36.970833\n",
       "2021051212     57.553547          36.936022\n",
       "2021051213     58.200000          35.947273\n",
       "\n",
       "[309 rows x 2 columns]"
      ]
     },
     "execution_count": 10,
     "metadata": {},
     "output_type": "execute_result"
    }
   ],
   "source": [
    "traffic_by_date = tfc.groupby(['timeStamp'])\n",
    "traffic_by_date_mean = traffic_by_date.mean()\n",
    "traffic_by_date_mean"
   ]
  },
  {
   "cell_type": "markdown",
   "metadata": {},
   "source": [
    "### Normalize Data"
   ]
  },
  {
   "cell_type": "code",
   "execution_count": 11,
   "metadata": {},
   "outputs": [
    {
     "data": {
      "text/html": [
       "<div>\n",
       "<style scoped>\n",
       "    .dataframe tbody tr th:only-of-type {\n",
       "        vertical-align: middle;\n",
       "    }\n",
       "\n",
       "    .dataframe tbody tr th {\n",
       "        vertical-align: top;\n",
       "    }\n",
       "\n",
       "    .dataframe thead th {\n",
       "        text-align: right;\n",
       "    }\n",
       "</style>\n",
       "<table border=\"1\" class=\"dataframe\">\n",
       "  <thead>\n",
       "    <tr style=\"text-align: right;\">\n",
       "      <th></th>\n",
       "      <th>currentSpeed</th>\n",
       "    </tr>\n",
       "    <tr>\n",
       "      <th>timeStamp</th>\n",
       "      <th></th>\n",
       "    </tr>\n",
       "  </thead>\n",
       "  <tbody>\n",
       "    <tr>\n",
       "      <th>2021042800</th>\n",
       "      <td>0.991345</td>\n",
       "    </tr>\n",
       "    <tr>\n",
       "      <th>2021042801</th>\n",
       "      <td>0.998872</td>\n",
       "    </tr>\n",
       "    <tr>\n",
       "      <th>2021042802</th>\n",
       "      <td>0.914695</td>\n",
       "    </tr>\n",
       "    <tr>\n",
       "      <th>2021042803</th>\n",
       "      <td>0.996144</td>\n",
       "    </tr>\n",
       "    <tr>\n",
       "      <th>2021042804</th>\n",
       "      <td>1.000000</td>\n",
       "    </tr>\n",
       "    <tr>\n",
       "      <th>...</th>\n",
       "      <td>...</td>\n",
       "    </tr>\n",
       "    <tr>\n",
       "      <th>2021051209</th>\n",
       "      <td>0.748832</td>\n",
       "    </tr>\n",
       "    <tr>\n",
       "      <th>2021051210</th>\n",
       "      <td>0.817577</td>\n",
       "    </tr>\n",
       "    <tr>\n",
       "      <th>2021051211</th>\n",
       "      <td>0.667607</td>\n",
       "    </tr>\n",
       "    <tr>\n",
       "      <th>2021051212</th>\n",
       "      <td>0.682204</td>\n",
       "    </tr>\n",
       "    <tr>\n",
       "      <th>2021051213</th>\n",
       "      <td>0.747815</td>\n",
       "    </tr>\n",
       "  </tbody>\n",
       "</table>\n",
       "<p>309 rows × 1 columns</p>\n",
       "</div>"
      ],
      "text/plain": [
       "            currentSpeed\n",
       "timeStamp               \n",
       "2021042800      0.991345\n",
       "2021042801      0.998872\n",
       "2021042802      0.914695\n",
       "2021042803      0.996144\n",
       "2021042804      1.000000\n",
       "...                  ...\n",
       "2021051209      0.748832\n",
       "2021051210      0.817577\n",
       "2021051211      0.667607\n",
       "2021051212      0.682204\n",
       "2021051213      0.747815\n",
       "\n",
       "[309 rows x 1 columns]"
      ]
     },
     "execution_count": 11,
     "metadata": {},
     "output_type": "execute_result"
    }
   ],
   "source": [
    "from sklearn.preprocessing import MinMaxScaler\n",
    "\n",
    "scaler = MinMaxScaler(feature_range = (-1, 1))\n",
    "\n",
    "normalized_Time = traffic_by_date_mean\n",
    "normalized_Speed = traffic_by_date_mean\n",
    "\n",
    "normalized_Time[['currentTravelTime']] = scaler.fit_transform(traffic_by_date_mean[['currentTravelTime']])\n",
    "normalized_Time = normalized_Time.drop(columns = ['currentSpeed'])\n",
    "normalized_Time\n",
    "\n",
    "normalized_Speed[['currentSpeed']] = scaler.fit_transform(traffic_by_date_mean[['currentSpeed']])\n",
    "normalized_Speed = normalized_Speed.drop(columns = ['currentTravelTime'])\n",
    "normalized_Speed\n",
    "\n"
   ]
  },
  {
   "cell_type": "markdown",
   "metadata": {},
   "source": [
    "# LSTM - Time"
   ]
  },
  {
   "cell_type": "code",
   "execution_count": 12,
   "metadata": {},
   "outputs": [],
   "source": [
    "# 24 hours that make the sequence\n",
    "TIMESTEPS = 24\n",
    "\n",
    "# number of features used by the model (using conf. cases to predict conf. cases)\n",
    "FEATURES = len(normalized_Time.columns)\n",
    "\n",
    "# number of hours to forecast - we will forecast the next 12 hours\n",
    "MULTISTEPS = 12\n",
    "\n",
    "# time series cross validator\n",
    "CV_SPLITS = 5\n",
    "\n",
    "EPOCHS = 30\n",
    "\n",
    "# 24 hours (1 day)\n",
    "BATCH_SIZE = 24"
   ]
  },
  {
   "cell_type": "code",
   "execution_count": 13,
   "metadata": {},
   "outputs": [],
   "source": [
    "# split data into training and validation sets\n",
    "def split_data(training, percentage = 15):\n",
    "    train_idx = np.arange(0, int(len(training) * (100 - percentage) / 100))\n",
    "    val_idx = np.arange(int(len(training) * (100 - percentage) / 100 + 1), len(training))\n",
    "    \n",
    "    return train_idx, val_idx"
   ]
  },
  {
   "cell_type": "code",
   "execution_count": 14,
   "metadata": {},
   "outputs": [],
   "source": [
    "# Preparing the dataset for the LSTM\n",
    "def to_supervised(df, timesteps, features = 2):\n",
    "\n",
    "    data = df.values\n",
    "    x, y = [], []\n",
    "    \n",
    "    # iterate over the training set to create x and y\n",
    "    dataset_size = len(data)\n",
    "    \n",
    "    for curr_pos in range(dataset_size):\n",
    "        # end of the input sequence is the current position + the number \n",
    "        # of timesteps of the input sequence\n",
    "        input_index = curr_pos + timesteps\n",
    "        \n",
    "        # end of the labels correspond to the end of the input sequence + 1\n",
    "        label_index = input_index + 1\n",
    "        \n",
    "        # if we have enough data for this sequence \n",
    "        if label_index < dataset_size:\n",
    "            x.append(data[curr_pos:input_index, :])\n",
    "            y.append(data[input_index:label_index, 0])\n",
    "        \n",
    "    # using np.float32 for GPU performance\n",
    "    return np.array(x).astype('float32'), np.array(y).astype('float32')\n",
    "\n",
    "\n",
    "def rmse(y_true, y_pred):\n",
    "    return tf.keras.backend.sqrt(tf.keras.backend.mean(tf.keras.backend.square(y_pred - y_true)))\n",
    "    \n",
    "\n",
    "def build_model(timesteps, features, name, h_neurons = 128):\n",
    "    \n",
    "    model = tf.keras.models.Sequential(name = name)\n",
    "    \n",
    "    model.add(LSTM(h_neurons, return_sequences = True,\n",
    "                   input_shape = (timesteps, features), \n",
    "                   activation = 'tanh'))\n",
    "    model.add(Dropout(0.2))\n",
    "    \n",
    "    model.add(LSTM(h_neurons, activation = 'tanh'))\n",
    "    model.add(Dropout(0.2))\n",
    "    \n",
    "    model.add(Dense(h_neurons, activation = 'tanh'))\n",
    "    model.add(Dropout(0.2))\n",
    "    model.add(Dense(h_neurons, activation = 'tanh'))\n",
    "    model.add(Dropout(0.2))\n",
    "    \n",
    "    model.add(Dense(features, activation = 'tanh'))\n",
    "    \n",
    "    return model\n",
    "\n",
    "\n",
    "# Compiling and fit the model\n",
    "def compile_and_fit(model, x, y, epochs = 25, batch_size = 24, cv_splits = 3):\n",
    "    callback = []\n",
    "    \n",
    "    callback.append(EarlyStopping(monitor = 'val_loss', min_delta = 0, \n",
    "                                  patience = 5, verbose = 0, \n",
    "                                  mode = 'auto', restore_best_weights = True))\n",
    "    \n",
    "    callback.append(ReduceLROnPlateau(monitor = 'val_loss', factor = 0.1, \n",
    "                                      patience = 4, verbose = 0,\n",
    "                                      mode = 'auto', cooldown = 0, \n",
    "                                      min_lr = 0.0001))\n",
    "    \n",
    "    # compile\n",
    "    model.compile(loss = rmse, \n",
    "                  optimizer = 'adam', \n",
    "                  metrics = ['mae', rmse])    \n",
    "    \n",
    "    # fit\n",
    "    hist_list = []\n",
    "    loss_list = []\n",
    "    \n",
    "    # time series cross validator\n",
    "    tscv = TimeSeriesSplit(n_splits = cv_splits)\n",
    "    \n",
    "    for train_index, test_index in tscv.split(x):\n",
    "        # further split into training and validation sets\n",
    "        train_idx, val_idx = split_data(train_index, percentage = 15)\n",
    "        \n",
    "        x_train, y_train = x[train_idx], y[train_idx]\n",
    "        x_val, y_val = x[val_idx], y[val_idx]\n",
    "        #x_test, y_test = x[test_index], y[test_index]\n",
    "        \n",
    "        history = model.fit(x_train, y_train, validation_data = (x_val, y_val), \n",
    "                            epochs = epochs, batch_size = batch_size, \n",
    "                            shuffle = False, callbacks = callback)\n",
    "        \n",
    "        plot_learning_curves(history, model_name = model.get_config()['name'])\n",
    "    \n",
    "    return model, hist_list, loss_list\n",
    "\n",
    "\n",
    "# Recursive Multi-step Forecast\n",
    "def forecast(model, df, scaler, timesteps = 24, \n",
    "             multisteps = 6, features = 2, batch_size = 24):\n",
    "    # getting the last sequence of known value\n",
    "    input_seq = df[-timesteps:].values\n",
    "    inp = input_seq\n",
    "    forecasts = []\n",
    "    \n",
    "    # multisteps tells us how many iterations we want to perform, i.e., how many days\n",
    "    # we want to predict\n",
    "    for step in range(1, multisteps + 1):\n",
    "     \n",
    "        inp = inp.reshape(1, timesteps, features)\n",
    "        \n",
    "        yhat = model.predict(inp)\n",
    "        \n",
    "        print('yhat', yhat[0][features-1])\n",
    "        \n",
    "        yhat_inversed = scaler.inverse_transform(yhat)\n",
    "        \n",
    "        print('Transformed yhat', yhat_inversed[0][features-1])\n",
    "        \n",
    "        forecasts.append(round(yhat_inversed[0][features-1]))\n",
    "    \n",
    "        inp = np.append(inp[0], yhat[0])\n",
    "        \n",
    "        inp = inp[-timesteps*features:]\n",
    "        \n",
    "    return forecasts\n",
    "\n",
    "\n",
    "def plot_prediction(data, forecasts, scaler):\n",
    "    \n",
    "    d = data.values[-24:, -1]\n",
    "    d = scaler.inverse_transform([d])[0]\n",
    "    \n",
    "    print('Real data:', d)\n",
    "    print('Forecasting values:', forecasts)\n",
    "    \n",
    "    f = []; f.append(round(d[-1])); f.extend(forecasts)\n",
    "    \n",
    "    plt.figure(figsize = (8, 6))\n",
    "    plt.plot(range(len(d)), d, color = 'mediumpurple', label = 'Real', linewidth=3)\n",
    "    plt.plot(range(len(d) - 1, len(d) + len(f) - 1),\n",
    "             f, color = 'purple', label = 'predicted', linewidth=3)\n",
    "    plt.title('Current Travel Time For The Next 12H')\n",
    "    plt.ylabel('Current Travel Time (min)')\n",
    "    plt.xlabel('Hours')\n",
    "    plt.legend()\n",
    "    plt.show()\n",
    "\n",
    "def plot_prediction_Speed(data, forecasts, scaler):\n",
    "    \n",
    "    d = data.values[-24:, -1]\n",
    "    d = scaler.inverse_transform([d])[0]\n",
    "    \n",
    "    print('Real data:', d)\n",
    "    print('Forecasting values:', forecasts)\n",
    "    \n",
    "    f = []; f.append(round(d[-1])); f.extend(forecasts)\n",
    "    \n",
    "    plt.figure(figsize = (8, 6))\n",
    "    plt.plot(range(len(d)), d, color = 'mediumpurple', label = 'Real', linewidth=3)\n",
    "    plt.plot(range(len(d) - 1, len(d) + len(f) - 1),\n",
    "             f, color = 'purple', label = 'predicted', linewidth=3)\n",
    "    plt.title('Current Speed For The Next 12H')\n",
    "    plt.ylabel('Current Speed (KM/H)')\n",
    "    plt.xlabel('Hours')\n",
    "    plt.legend()\n",
    "    plt.show()\n",
    "\n",
    "\n",
    "\n",
    "def plot_learning_curves(history, model_name):\n",
    "    print(history.history.keys())\n",
    "\n",
    "    # summarize history for accuracy\n",
    "    plt.plot(history.history['rmse'], color = 'mediumpurple',linewidth=3)\n",
    "    plt.plot(history.history['val_rmse'], color = 'purple',linewidth=3)\n",
    "    plt.title('Model ({}) rmse'.format(model_name))\n",
    "    plt.ylabel('RMSE')\n",
    "    plt.xlabel('Epoch')\n",
    "    plt.legend(['train', 'val'], bbox_to_anchor=(1.05, 1), loc='upper left', borderaxespad=0.)\n",
    "\n",
    "    plt.show()\n",
    "\n",
    "    # summarize history for loss\n",
    "    plt.plot(history.history['loss'], color = 'mediumpurple', linewidth=3)\n",
    "    plt.plot(history.history['val_loss'], color = 'purple', linewidth=3)\n",
    "    plt.title('Model ({}) loss'.format(model_name))\n",
    "    plt.ylabel('Loss')\n",
    "    plt.xlabel('Epoch')\n",
    "    plt.legend(['train', 'val'], bbox_to_anchor=(1.05, 1), loc='upper left', borderaxespad=0.)\n",
    "\n",
    "    plt.show()"
   ]
  },
  {
   "cell_type": "code",
   "execution_count": 15,
   "metadata": {},
   "outputs": [
    {
     "name": "stdout",
     "output_type": "stream",
     "text": [
      "Training shape: (284, 24, 1)\n",
      "Training labels shape: (284, 1)\n"
     ]
    }
   ],
   "source": [
    "# our supervised problem\n",
    "x, y = to_supervised(normalized_Time, TIMESTEPS, FEATURES)\n",
    "print('Training shape:', x.shape)\n",
    "print('Training labels shape:', y.shape)"
   ]
  },
  {
   "cell_type": "code",
   "execution_count": 16,
   "metadata": {},
   "outputs": [
    {
     "name": "stdout",
     "output_type": "stream",
     "text": [
      "Epoch 1/30\n",
      "2/2 [==============================] - 8s 2s/step - loss: 0.6409 - mae: 0.6070 - rmse: 0.6399 - val_loss: 0.2255 - val_mae: 0.2184 - val_rmse: 0.2255\n",
      "Epoch 2/30\n",
      "2/2 [==============================] - 0s 119ms/step - loss: 0.4714 - mae: 0.3685 - rmse: 0.4774 - val_loss: 0.1265 - val_mae: 0.1138 - val_rmse: 0.1265\n",
      "Epoch 3/30\n",
      "2/2 [==============================] - 0s 103ms/step - loss: 0.5074 - mae: 0.3028 - rmse: 0.5073 - val_loss: 0.0908 - val_mae: 0.0711 - val_rmse: 0.0908\n",
      "Epoch 4/30\n",
      "2/2 [==============================] - 0s 100ms/step - loss: 0.4836 - mae: 0.3188 - rmse: 0.4864 - val_loss: 0.1055 - val_mae: 0.0979 - val_rmse: 0.1055\n",
      "Epoch 5/30\n",
      "2/2 [==============================] - 0s 99ms/step - loss: 0.4482 - mae: 0.3413 - rmse: 0.4539 - val_loss: 0.2154 - val_mae: 0.2069 - val_rmse: 0.2154\n",
      "Epoch 6/30\n",
      "2/2 [==============================] - 0s 135ms/step - loss: 0.4519 - mae: 0.3567 - rmse: 0.4572 - val_loss: 0.2214 - val_mae: 0.2131 - val_rmse: 0.2214\n",
      "Epoch 7/30\n",
      "2/2 [==============================] - 0s 109ms/step - loss: 0.4500 - mae: 0.3588 - rmse: 0.4543 - val_loss: 0.1590 - val_mae: 0.1475 - val_rmse: 0.1590\n",
      "Epoch 8/30\n",
      "2/2 [==============================] - 0s 91ms/step - loss: 0.4375 - mae: 0.3142 - rmse: 0.4423 - val_loss: 0.1532 - val_mae: 0.1412 - val_rmse: 0.1532\n",
      "dict_keys(['loss', 'mae', 'rmse', 'val_loss', 'val_mae', 'val_rmse', 'lr'])\n"
     ]
    },
    {
     "data": {
      "image/png": "[encoded data removed]",
      "text/plain": [
       "<Figure size 432x288 with 1 Axes>"
      ]
     },
     "metadata": {
      "needs_background": "light"
     },
     "output_type": "display_data"
    },
    {
     "data": {
      "image/png": "[encoded data removed]",
      "text/plain": [
       "<Figure size 432x288 with 1 Axes>"
      ]
     },
     "metadata": {
      "needs_background": "light"
     },
     "output_type": "display_data"
    },
    {
     "name": "stdout",
     "output_type": "stream",
     "text": [
      "Epoch 1/30\n",
      "4/4 [==============================] - 0s 71ms/step - loss: 0.3151 - mae: 0.1972 - rmse: 0.2862 - val_loss: 0.3259 - val_mae: 0.2389 - val_rmse: 0.3259\n",
      "Epoch 2/30\n",
      "4/4 [==============================] - 0s 53ms/step - loss: 0.3071 - mae: 0.2001 - rmse: 0.2818 - val_loss: 0.3008 - val_mae: 0.2227 - val_rmse: 0.3008\n",
      "Epoch 3/30\n",
      "4/4 [==============================] - 0s 54ms/step - loss: 0.2921 - mae: 0.1976 - rmse: 0.2679 - val_loss: 0.2884 - val_mae: 0.2165 - val_rmse: 0.2884\n",
      "Epoch 4/30\n",
      "4/4 [==============================] - 0s 68ms/step - loss: 0.3008 - mae: 0.2046 - rmse: 0.2697 - val_loss: 0.2911 - val_mae: 0.2180 - val_rmse: 0.2911\n",
      "Epoch 5/30\n",
      "4/4 [==============================] - 0s 57ms/step - loss: 0.2936 - mae: 0.1888 - rmse: 0.2680 - val_loss: 0.3017 - val_mae: 0.2235 - val_rmse: 0.3017\n",
      "Epoch 6/30\n",
      "4/4 [==============================] - 0s 64ms/step - loss: 0.2920 - mae: 0.1903 - rmse: 0.2713 - val_loss: 0.3095 - val_mae: 0.2276 - val_rmse: 0.3095\n",
      "Epoch 7/30\n",
      "4/4 [==============================] - 0s 119ms/step - loss: 0.2936 - mae: 0.1865 - rmse: 0.2657 - val_loss: 0.3102 - val_mae: 0.2282 - val_rmse: 0.3102\n",
      "Epoch 8/30\n",
      "4/4 [==============================] - 0s 121ms/step - loss: 0.3077 - mae: 0.1985 - rmse: 0.2771 - val_loss: 0.3030 - val_mae: 0.2243 - val_rmse: 0.3030\n",
      "dict_keys(['loss', 'mae', 'rmse', 'val_loss', 'val_mae', 'val_rmse', 'lr'])\n"
     ]
    },
    {
     "data": {
      "image/png": "[encoded data removed]",
      "text/plain": [
       "<Figure size 432x288 with 1 Axes>"
      ]
     },
     "metadata": {
      "needs_background": "light"
     },
     "output_type": "display_data"
    },
    {
     "data": {
      "image/png": "[encoded data removed]",
      "text/plain": [
       "<Figure size 432x288 with 1 Axes>"
      ]
     },
     "metadata": {
      "needs_background": "light"
     },
     "output_type": "display_data"
    },
    {
     "name": "stdout",
     "output_type": "stream",
     "text": [
      "Epoch 1/30\n",
      "6/6 [==============================] - 0s 92ms/step - loss: 0.3037 - mae: 0.2157 - rmse: 0.3506 - val_loss: 0.1782 - val_mae: 0.1467 - val_rmse: 0.1782\n",
      "Epoch 2/30\n",
      "6/6 [==============================] - 0s 85ms/step - loss: 0.3021 - mae: 0.2214 - rmse: 0.3310 - val_loss: 0.1865 - val_mae: 0.1590 - val_rmse: 0.1865\n",
      "Epoch 3/30\n",
      "6/6 [==============================] - 0s 51ms/step - loss: 0.3026 - mae: 0.2292 - rmse: 0.3377 - val_loss: 0.1944 - val_mae: 0.1686 - val_rmse: 0.1944\n",
      "Epoch 4/30\n",
      "6/6 [==============================] - 0s 47ms/step - loss: 0.2965 - mae: 0.2293 - rmse: 0.3486 - val_loss: 0.1965 - val_mae: 0.1710 - val_rmse: 0.1965\n",
      "Epoch 5/30\n",
      "6/6 [==============================] - 0s 60ms/step - loss: 0.3025 - mae: 0.2325 - rmse: 0.3427 - val_loss: 0.1946 - val_mae: 0.1689 - val_rmse: 0.1946\n",
      "Epoch 6/30\n",
      "6/6 [==============================] - 1s 85ms/step - loss: 0.2971 - mae: 0.2297 - rmse: 0.3406 - val_loss: 0.1924 - val_mae: 0.1663 - val_rmse: 0.1924\n",
      "dict_keys(['loss', 'mae', 'rmse', 'val_loss', 'val_mae', 'val_rmse', 'lr'])\n"
     ]
    },
    {
     "data": {
      "image/png": "[encoded data removed]",
      "text/plain": [
       "<Figure size 432x288 with 1 Axes>"
      ]
     },
     "metadata": {
      "needs_background": "light"
     },
     "output_type": "display_data"
    },
    {
     "data": {
      "image/png": "[encoded data removed]",
      "text/plain": [
       "<Figure size 432x288 with 1 Axes>"
      ]
     },
     "metadata": {
      "needs_background": "light"
     },
     "output_type": "display_data"
    },
    {
     "name": "stdout",
     "output_type": "stream",
     "text": [
      "Epoch 1/30\n",
      "7/7 [==============================] - 0s 68ms/step - loss: 0.2896 - mae: 0.2060 - rmse: 0.2914 - val_loss: 0.3636 - val_mae: 0.2295 - val_rmse: 0.2664\n",
      "Epoch 2/30\n",
      "7/7 [==============================] - 0s 54ms/step - loss: 0.2848 - mae: 0.2079 - rmse: 0.2868 - val_loss: 0.3640 - val_mae: 0.2291 - val_rmse: 0.2670\n",
      "Epoch 3/30\n",
      "7/7 [==============================] - 1s 75ms/step - loss: 0.2921 - mae: 0.2110 - rmse: 0.2944 - val_loss: 0.3646 - val_mae: 0.2285 - val_rmse: 0.2681\n",
      "Epoch 4/30\n",
      "7/7 [==============================] - 0s 48ms/step - loss: 0.2928 - mae: 0.2132 - rmse: 0.2953 - val_loss: 0.3657 - val_mae: 0.2278 - val_rmse: 0.2697\n",
      "Epoch 5/30\n",
      "7/7 [==============================] - 0s 48ms/step - loss: 0.2884 - mae: 0.2006 - rmse: 0.2907 - val_loss: 0.3655 - val_mae: 0.2273 - val_rmse: 0.2696\n",
      "Epoch 6/30\n",
      "7/7 [==============================] - 0s 49ms/step - loss: 0.2885 - mae: 0.2057 - rmse: 0.2903 - val_loss: 0.3640 - val_mae: 0.2271 - val_rmse: 0.2678\n",
      "dict_keys(['loss', 'mae', 'rmse', 'val_loss', 'val_mae', 'val_rmse', 'lr'])\n"
     ]
    },
    {
     "data": {
      "image/png": "[encoded data removed]",
      "text/plain": [
       "<Figure size 432x288 with 1 Axes>"
      ]
     },
     "metadata": {
      "needs_background": "light"
     },
     "output_type": "display_data"
    },
    {
     "data": {
      "image/png": "[encoded data removed]",
      "text/plain": [
       "<Figure size 432x288 with 1 Axes>"
      ]
     },
     "metadata": {
      "needs_background": "light"
     },
     "output_type": "display_data"
    },
    {
     "name": "stdout",
     "output_type": "stream",
     "text": [
      "Epoch 1/30\n",
      "9/9 [==============================] - 0s 51ms/step - loss: 0.2993 - mae: 0.2145 - rmse: 0.2882 - val_loss: 0.1633 - val_mae: 0.1272 - val_rmse: 0.2020\n",
      "Epoch 2/30\n",
      "9/9 [==============================] - 0s 45ms/step - loss: 0.2960 - mae: 0.2023 - rmse: 0.2825 - val_loss: 0.1592 - val_mae: 0.1174 - val_rmse: 0.2022\n",
      "Epoch 3/30\n",
      "9/9 [==============================] - 0s 46ms/step - loss: 0.2927 - mae: 0.1933 - rmse: 0.2809 - val_loss: 0.1587 - val_mae: 0.1149 - val_rmse: 0.2027\n",
      "Epoch 4/30\n",
      "9/9 [==============================] - 0s 44ms/step - loss: 0.3004 - mae: 0.2024 - rmse: 0.2858 - val_loss: 0.1588 - val_mae: 0.1160 - val_rmse: 0.2023\n",
      "Epoch 5/30\n",
      "9/9 [==============================] - 0s 44ms/step - loss: 0.2912 - mae: 0.1988 - rmse: 0.2807 - val_loss: 0.1603 - val_mae: 0.1214 - val_rmse: 0.2014\n",
      "Epoch 6/30\n",
      "9/9 [==============================] - 0s 47ms/step - loss: 0.2963 - mae: 0.2028 - rmse: 0.2859 - val_loss: 0.1601 - val_mae: 0.1208 - val_rmse: 0.2014\n",
      "Epoch 7/30\n",
      "9/9 [==============================] - 0s 46ms/step - loss: 0.2877 - mae: 0.1931 - rmse: 0.2771 - val_loss: 0.1594 - val_mae: 0.1189 - val_rmse: 0.2015\n",
      "Epoch 8/30\n",
      "9/9 [==============================] - 0s 48ms/step - loss: 0.2845 - mae: 0.1883 - rmse: 0.2716 - val_loss: 0.1590 - val_mae: 0.1178 - val_rmse: 0.2015\n",
      "dict_keys(['loss', 'mae', 'rmse', 'val_loss', 'val_mae', 'val_rmse', 'lr'])\n"
     ]
    },
    {
     "data": {
      "image/png": "[encoded data removed]",
      "text/plain": [
       "<Figure size 432x288 with 1 Axes>"
      ]
     },
     "metadata": {
      "needs_background": "light"
     },
     "output_type": "display_data"
    },
    {
     "data": {
      "image/png": "[encoded data removed]",
      "text/plain": [
       "<Figure size 432x288 with 1 Axes>"
      ]
     },
     "metadata": {
      "needs_background": "light"
     },
     "output_type": "display_data"
    }
   ],
   "source": [
    "# fitting the model\n",
    "modelTime = build_model(TIMESTEPS, FEATURES, name = 'test')\n",
    "modelTime, hist_list, loss_list = compile_and_fit(modelTime, x, y, EPOCHS, BATCH_SIZE, CV_SPLITS)"
   ]
  },
  {
   "cell_type": "code",
   "execution_count": 17,
   "metadata": {},
   "outputs": [
    {
     "name": "stdout",
     "output_type": "stream",
     "text": [
      "yhat -0.601853\n",
      "Transformed yhat 44.902\n",
      "yhat -0.60659003\n",
      "Transformed yhat 44.855324\n",
      "yhat -0.610721\n",
      "Transformed yhat 44.81462\n",
      "yhat -0.6158633\n",
      "Transformed yhat 44.763958\n",
      "yhat -0.6217098\n",
      "Transformed yhat 44.706352\n",
      "yhat -0.62453794\n",
      "Transformed yhat 44.67849\n",
      "yhat -0.62650734\n",
      "Transformed yhat 44.659084\n",
      "yhat -0.62838256\n",
      "Transformed yhat 44.640606\n",
      "yhat -0.6300168\n",
      "Transformed yhat 44.624508\n",
      "yhat -0.63168097\n",
      "Transformed yhat 44.60811\n",
      "yhat -0.63304234\n",
      "Transformed yhat 44.594696\n",
      "yhat -0.63442343\n",
      "Transformed yhat 44.581085\n",
      "Real data: [45.94586329 45.65103558 51.81090487 57.37577294 46.79026388 43.90798371\n",
      " 44.04156339 43.59062639 44.27071226 43.53873908 44.09166783 43.35411676\n",
      " 43.32479439 43.41493352 43.33142963 43.53439502 43.46271812 50.52386862\n",
      " 52.19100964 44.84195543 43.58326563 44.95601853 44.92883652 44.15677758]\n",
      "Forecasting values: [45, 45, 45, 45, 45, 45, 45, 45, 45, 45, 45, 45]\n"
     ]
    },
    {
     "data": {
      "image/png": "[encoded data removed]",
      "text/plain": [
       "<Figure size 576x432 with 1 Axes>"
      ]
     },
     "metadata": {
      "needs_background": "light"
     },
     "output_type": "display_data"
    }
   ],
   "source": [
    "# Recursive Multi-step Forecast\n",
    "forecasts = forecast(modelTime,normalized_Time, scaler, TIMESTEPS, MULTISTEPS, FEATURES, BATCH_SIZE)\n",
    "\n",
    "plot_prediction(normalized_Time, forecasts, scaler)"
   ]
  },
  {
   "cell_type": "code",
   "execution_count": 18,
   "metadata": {},
   "outputs": [],
   "source": [
    "hour = []\n",
    "ts = traffic.iloc[-1]['timeStamp']\n",
    "tss = pd.to_datetime(ts).hour\n",
    "\n",
    "for i in range(12):\n",
    "    if tss == 23:\n",
    "        newHour =  ts + pd.DateOffset(hour=0)\n",
    "        day = pd.to_datetime(ts).day\n",
    "        newDay = newHour + pd.DateOffset(day=day+1)\n",
    "        tss = 0\n",
    "        ts = newDay\n",
    "        hour.append(newDay)\n",
    "    else: \n",
    "        h = pd.to_datetime(ts).hour\n",
    "        newHour = ts + pd.DateOffset(hour=h+1)\n",
    "        tss = tss+1\n",
    "        ts = newHour\n",
    "        hour.append(newHour)\n",
    "        \n",
    "#for i in hour:\n",
    "    #print(i)"
   ]
  },
  {
   "cell_type": "code",
   "execution_count": 19,
   "metadata": {},
   "outputs": [
    {
     "data": {
      "text/plain": [
       "'\\nwith open(\\'predictionsTime.csv\\', mode=\\'a\\') as csv_file:\\n    writer = csv.writer(csv_file, delimiter=\\',\\', quotechar=\\'\"\\', quoting=csv.QUOTE_MINIMAL)\\n    for i in range(12):\\n        d = \\'Cent.0\\',forecasts[i],hour[i]\\n        writer.writerow(d)\\n    '"
      ]
     },
     "execution_count": 19,
     "metadata": {},
     "output_type": "execute_result"
    }
   ],
   "source": [
    "import csv\n",
    "'''\n",
    "with open('predictionsTime.csv', mode='a') as csv_file:\n",
    "    writer = csv.writer(csv_file, delimiter=',', quotechar='\"', quoting=csv.QUOTE_MINIMAL)\n",
    "    for i in range(12):\n",
    "        d = 'Cent.0',forecasts[i],hour[i]\n",
    "        writer.writerow(d)\n",
    "    '''    "
   ]
  },
  {
   "cell_type": "markdown",
   "metadata": {},
   "source": [
    "# LSTM - Speed"
   ]
  },
  {
   "cell_type": "code",
   "execution_count": 20,
   "metadata": {},
   "outputs": [
    {
     "name": "stdout",
     "output_type": "stream",
     "text": [
      "Training shape: (284, 24, 1)\n",
      "Training labels shape: (284, 1)\n"
     ]
    }
   ],
   "source": [
    "# our supervised problem\n",
    "x, y = to_supervised(normalized_Speed, TIMESTEPS, FEATURES)\n",
    "print('Training shape:', x.shape)\n",
    "print('Training labels shape:', y.shape)"
   ]
  },
  {
   "cell_type": "code",
   "execution_count": null,
   "metadata": {},
   "outputs": [
    {
     "name": "stdout",
     "output_type": "stream",
     "text": [
      "Epoch 1/30\n",
      "2/2 [==============================] - 6s 1s/step - loss: 0.7067 - mae: 0.6792 - rmse: 0.7024 - val_loss: 0.2969 - val_mae: 0.2951 - val_rmse: 0.2969\n",
      "Epoch 2/30\n",
      "2/2 [==============================] - 0s 148ms/step - loss: 0.4452 - mae: 0.3613 - rmse: 0.4506 - val_loss: 0.0943 - val_mae: 0.0884 - val_rmse: 0.0943\n",
      "Epoch 3/30\n",
      "2/2 [==============================] - 0s 109ms/step - loss: 0.4503 - mae: 0.2617 - rmse: 0.4563 - val_loss: 0.1237 - val_mae: 0.1195 - val_rmse: 0.1237\n",
      "Epoch 4/30\n",
      "2/2 [==============================] - 0s 88ms/step - loss: 0.4632 - mae: 0.2809 - rmse: 0.4676 - val_loss: 0.0402 - val_mae: 0.0309 - val_rmse: 0.0402\n",
      "Epoch 5/30\n",
      "2/2 [==============================] - 0s 83ms/step - loss: 0.4112 - mae: 0.2805 - rmse: 0.4180 - val_loss: 0.1499 - val_mae: 0.1467 - val_rmse: 0.1499\n",
      "Epoch 6/30\n",
      "2/2 [==============================] - 0s 98ms/step - loss: 0.4035 - mae: 0.3217 - rmse: 0.4104 - val_loss: 0.2007 - val_mae: 0.1982 - val_rmse: 0.2007\n",
      "Epoch 7/30\n",
      "2/2 [==============================] - 0s 84ms/step - loss: 0.3870 - mae: 0.3171 - rmse: 0.3951 - val_loss: 0.1187 - val_mae: 0.1146 - val_rmse: 0.1187\n",
      "Epoch 8/30\n",
      "2/2 [==============================] - 0s 94ms/step - loss: 0.3828 - mae: 0.2781 - rmse: 0.3898 - val_loss: 0.0499 - val_mae: 0.0429 - val_rmse: 0.0499\n",
      "Epoch 9/30\n",
      "2/2 [==============================] - 0s 84ms/step - loss: 0.4055 - mae: 0.2668 - rmse: 0.4103 - val_loss: 0.0486 - val_mae: 0.0418 - val_rmse: 0.0486\n",
      "dict_keys(['loss', 'mae', 'rmse', 'val_loss', 'val_mae', 'val_rmse', 'lr'])\n"
     ]
    },
    {
     "data": {
      "image/png": "[encoded data removed]",
      "text/plain": [
       "<Figure size 432x288 with 1 Axes>"
      ]
     },
     "metadata": {
      "needs_background": "light"
     },
     "output_type": "display_data"
    },
    {
     "data": {
      "image/png": "[encoded data removed]",
      "text/plain": [
       "<Figure size 432x288 with 1 Axes>"
      ]
     },
     "metadata": {
      "needs_background": "light"
     },
     "output_type": "display_data"
    },
    {
     "name": "stdout",
     "output_type": "stream",
     "text": [
      "Epoch 1/30\n",
      "4/4 [==============================] - 0s 118ms/step - loss: 0.2937 - mae: 0.1729 - rmse: 0.2859 - val_loss: 0.2564 - val_mae: 0.1881 - val_rmse: 0.2564\n",
      "Epoch 2/30\n",
      "4/4 [==============================] - 0s 75ms/step - loss: 0.2842 - mae: 0.1789 - rmse: 0.2738 - val_loss: 0.2506 - val_mae: 0.1853 - val_rmse: 0.2506\n",
      "Epoch 3/30\n",
      "4/4 [==============================] - 0s 76ms/step - loss: 0.2846 - mae: 0.1719 - rmse: 0.2750 - val_loss: 0.2459 - val_mae: 0.1828 - val_rmse: 0.2459\n",
      "Epoch 4/30\n",
      "4/4 [==============================] - 0s 89ms/step - loss: 0.2779 - mae: 0.1775 - rmse: 0.2710 - val_loss: 0.2412 - val_mae: 0.1800 - val_rmse: 0.2412\n",
      "Epoch 5/30\n",
      "4/4 [==============================] - 0s 74ms/step - loss: 0.2743 - mae: 0.1772 - rmse: 0.2660 - val_loss: 0.2379 - val_mae: 0.1780 - val_rmse: 0.2379\n",
      "Epoch 6/30\n",
      "1/4 [======>.......................] - ETA: 0s - loss: 0.3585 - mae: 0.2474 - rmse: 0.3585"
     ]
    }
   ],
   "source": [
    "# fitting the model\n",
    "modelSpeed = build_model(TIMESTEPS, FEATURES, name = 'test')\n",
    "modelSpeed , hist_list, loss_list = compile_and_fit(modelSpeed, x, y, EPOCHS, BATCH_SIZE, CV_SPLITS)"
   ]
  },
  {
   "cell_type": "code",
   "execution_count": null,
   "metadata": {},
   "outputs": [],
   "source": [
    "# Recursive Multi-step Forecast\n",
    "forecastSpeed = forecast(modelSpeed,normalized_Speed, scaler, TIMESTEPS, MULTISTEPS, FEATURES, BATCH_SIZE)\n",
    "\n",
    "plot_prediction_Speed(normalized_Speed, forecastSpeed, scaler)"
   ]
  },
  {
   "cell_type": "code",
   "execution_count": null,
   "metadata": {},
   "outputs": [],
   "source": [
    "hour = []\n",
    "ts = traffic.iloc[-1]['timeStamp']\n",
    "tss = pd.to_datetime(ts).hour\n",
    "\n",
    "for i in range(12):\n",
    "    if tss == 23:\n",
    "        newHour =  ts + pd.DateOffset(hour=0)\n",
    "        day = pd.to_datetime(ts).day\n",
    "        newDay = newHour + pd.DateOffset(day=day+1)\n",
    "        tss = 0\n",
    "        ts = newDay\n",
    "        hour.append(newDay)\n",
    "    else: \n",
    "        h = pd.to_datetime(ts).hour\n",
    "        newHour = ts + pd.DateOffset(hour=h+1)\n",
    "        tss = tss+1\n",
    "        ts = newHour\n",
    "        hour.append(newHour)\n",
    "        \n",
    "#for i in hour:\n",
    "    #print(i)"
   ]
  },
  {
   "cell_type": "code",
   "execution_count": null,
   "metadata": {},
   "outputs": [],
   "source": [
    "import csv\n",
    "'''\n",
    "with open('predictionsSpeed.csv', mode='a') as csv_file:\n",
    "    writer = csv.writer(csv_file, delimiter=',', quotechar='\"', quoting=csv.QUOTE_MINIMAL)\n",
    "    for i in range(12):\n",
    "        d = 'Cent.0',forecasts[i],hour[i]\n",
    "        writer.writerow(d)\n",
    "'''"
   ]
  }
 ],
 "metadata": {
  "kernelspec": {
   "display_name": "Python 3",
   "language": "python",
   "name": "python3"
  },
  "language_info": {
   "codemirror_mode": {
    "name": "ipython",
    "version": 3
   },
   "file_extension": ".py",
   "mimetype": "text/x-python",
   "name": "python",
   "nbconvert_exporter": "python",
   "pygments_lexer": "ipython3",
   "version": "3.8.3"
  }
 },
 "nbformat": 4,
 "nbformat_minor": 4
}

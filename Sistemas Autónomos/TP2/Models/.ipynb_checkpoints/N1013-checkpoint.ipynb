{
 "cells": [
  {
   "cell_type": "markdown",
   "metadata": {},
   "source": [
    "# LSTM Travel Time + Speed Prediction - N101.3"
   ]
  },
  {
   "cell_type": "code",
   "execution_count": 1,
   "metadata": {},
   "outputs": [],
   "source": [
    "import numpy as np\n",
    "import pandas as pd\n",
    "import seaborn as sns\n",
    "from datetime import datetime\n",
    "import matplotlib.pyplot as plt\n",
    "\n",
    "import tensorflow as tf\n",
    "from sklearn.model_selection import TimeSeriesSplit\n",
    "from tensorflow.keras.callbacks import EarlyStopping\n",
    "from tensorflow.keras.layers import LSTM, Dropout, Dense\n",
    "from tensorflow.keras.callbacks import ReduceLROnPlateau"
   ]
  },
  {
   "cell_type": "code",
   "execution_count": 2,
   "metadata": {
    "scrolled": true
   },
   "outputs": [
    {
     "data": {
      "text/html": [
       "<div>\n",
       "<style scoped>\n",
       "    .dataframe tbody tr th:only-of-type {\n",
       "        vertical-align: middle;\n",
       "    }\n",
       "\n",
       "    .dataframe tbody tr th {\n",
       "        vertical-align: top;\n",
       "    }\n",
       "\n",
       "    .dataframe thead th {\n",
       "        text-align: right;\n",
       "    }\n",
       "</style>\n",
       "<table border=\"1\" class=\"dataframe\">\n",
       "  <thead>\n",
       "    <tr style=\"text-align: right;\">\n",
       "      <th></th>\n",
       "      <th>currentSpeed</th>\n",
       "      <th>freeFlowSpeed</th>\n",
       "      <th>currentTravelTime</th>\n",
       "      <th>freeFlowTravelTime</th>\n",
       "      <th>roadName</th>\n",
       "      <th>roadClosure</th>\n",
       "      <th>timeStamp</th>\n",
       "    </tr>\n",
       "  </thead>\n",
       "  <tbody>\n",
       "    <tr>\n",
       "      <th>0</th>\n",
       "      <td>64</td>\n",
       "      <td>64</td>\n",
       "      <td>21</td>\n",
       "      <td>21</td>\n",
       "      <td>N103.1</td>\n",
       "      <td>False</td>\n",
       "      <td>2021-04-26 18:11:34</td>\n",
       "    </tr>\n",
       "    <tr>\n",
       "      <th>1</th>\n",
       "      <td>34</td>\n",
       "      <td>43</td>\n",
       "      <td>49</td>\n",
       "      <td>39</td>\n",
       "      <td>N103.0</td>\n",
       "      <td>False</td>\n",
       "      <td>2021-04-27 14:53:37</td>\n",
       "    </tr>\n",
       "    <tr>\n",
       "      <th>2</th>\n",
       "      <td>64</td>\n",
       "      <td>64</td>\n",
       "      <td>21</td>\n",
       "      <td>21</td>\n",
       "      <td>N103.1</td>\n",
       "      <td>False</td>\n",
       "      <td>2021-04-27 14:53:49</td>\n",
       "    </tr>\n",
       "    <tr>\n",
       "      <th>3</th>\n",
       "      <td>51</td>\n",
       "      <td>51</td>\n",
       "      <td>37</td>\n",
       "      <td>37</td>\n",
       "      <td>N103.2</td>\n",
       "      <td>False</td>\n",
       "      <td>2021-04-27 14:54:00</td>\n",
       "    </tr>\n",
       "    <tr>\n",
       "      <th>4</th>\n",
       "      <td>74</td>\n",
       "      <td>74</td>\n",
       "      <td>21</td>\n",
       "      <td>21</td>\n",
       "      <td>N101.0</td>\n",
       "      <td>False</td>\n",
       "      <td>2021-04-27 14:54:12</td>\n",
       "    </tr>\n",
       "    <tr>\n",
       "      <th>5</th>\n",
       "      <td>33</td>\n",
       "      <td>43</td>\n",
       "      <td>51</td>\n",
       "      <td>39</td>\n",
       "      <td>N103.0</td>\n",
       "      <td>False</td>\n",
       "      <td>2021-04-27 14:57:10</td>\n",
       "    </tr>\n",
       "    <tr>\n",
       "      <th>6</th>\n",
       "      <td>64</td>\n",
       "      <td>64</td>\n",
       "      <td>21</td>\n",
       "      <td>21</td>\n",
       "      <td>N103.1</td>\n",
       "      <td>False</td>\n",
       "      <td>2021-04-27 14:57:22</td>\n",
       "    </tr>\n",
       "    <tr>\n",
       "      <th>7</th>\n",
       "      <td>39</td>\n",
       "      <td>50</td>\n",
       "      <td>49</td>\n",
       "      <td>38</td>\n",
       "      <td>N103.2</td>\n",
       "      <td>False</td>\n",
       "      <td>2021-04-27 14:57:33</td>\n",
       "    </tr>\n",
       "    <tr>\n",
       "      <th>8</th>\n",
       "      <td>74</td>\n",
       "      <td>74</td>\n",
       "      <td>21</td>\n",
       "      <td>21</td>\n",
       "      <td>N101.0</td>\n",
       "      <td>False</td>\n",
       "      <td>2021-04-27 14:57:45</td>\n",
       "    </tr>\n",
       "    <tr>\n",
       "      <th>9</th>\n",
       "      <td>52</td>\n",
       "      <td>67</td>\n",
       "      <td>28</td>\n",
       "      <td>21</td>\n",
       "      <td>N101.1</td>\n",
       "      <td>False</td>\n",
       "      <td>2021-04-27 14:57:57</td>\n",
       "    </tr>\n",
       "  </tbody>\n",
       "</table>\n",
       "</div>"
      ],
      "text/plain": [
       "   currentSpeed  freeFlowSpeed  currentTravelTime  freeFlowTravelTime  \\\n",
       "0            64             64                 21                  21   \n",
       "1            34             43                 49                  39   \n",
       "2            64             64                 21                  21   \n",
       "3            51             51                 37                  37   \n",
       "4            74             74                 21                  21   \n",
       "5            33             43                 51                  39   \n",
       "6            64             64                 21                  21   \n",
       "7            39             50                 49                  38   \n",
       "8            74             74                 21                  21   \n",
       "9            52             67                 28                  21   \n",
       "\n",
       "  roadName  roadClosure           timeStamp  \n",
       "0   N103.1        False 2021-04-26 18:11:34  \n",
       "1   N103.0        False 2021-04-27 14:53:37  \n",
       "2   N103.1        False 2021-04-27 14:53:49  \n",
       "3   N103.2        False 2021-04-27 14:54:00  \n",
       "4   N101.0        False 2021-04-27 14:54:12  \n",
       "5   N103.0        False 2021-04-27 14:57:10  \n",
       "6   N103.1        False 2021-04-27 14:57:22  \n",
       "7   N103.2        False 2021-04-27 14:57:33  \n",
       "8   N101.0        False 2021-04-27 14:57:45  \n",
       "9   N101.1        False 2021-04-27 14:57:57  "
      ]
     },
     "execution_count": 2,
     "metadata": {},
     "output_type": "execute_result"
    }
   ],
   "source": [
    "traffic = pd.read_csv('../db.csv', parse_dates = [\"timeStamp\"])\n",
    "traffic.head(10)"
   ]
  },
  {
   "cell_type": "code",
   "execution_count": 3,
   "metadata": {},
   "outputs": [
    {
     "name": "stdout",
     "output_type": "stream",
     "text": [
      "<class 'pandas.core.frame.DataFrame'>\n",
      "RangeIndex: 245563 entries, 0 to 245562\n",
      "Data columns (total 7 columns):\n",
      " #   Column              Non-Null Count   Dtype         \n",
      "---  ------              --------------   -----         \n",
      " 0   currentSpeed        245563 non-null  int64         \n",
      " 1   freeFlowSpeed       245563 non-null  int64         \n",
      " 2   currentTravelTime   245563 non-null  int64         \n",
      " 3   freeFlowTravelTime  245563 non-null  int64         \n",
      " 4   roadName            245563 non-null  object        \n",
      " 5   roadClosure         245563 non-null  bool          \n",
      " 6   timeStamp           245563 non-null  datetime64[ns]\n",
      "dtypes: bool(1), datetime64[ns](1), int64(4), object(1)\n",
      "memory usage: 11.5+ MB\n"
     ]
    }
   ],
   "source": [
    "traffic.info()"
   ]
  },
  {
   "cell_type": "code",
   "execution_count": 4,
   "metadata": {},
   "outputs": [
    {
     "name": "stdout",
     "output_type": "stream",
     "text": [
      "['N103.1' 'N103.0' 'N103.2' 'N101.0' 'N101.1' 'N101.2' 'N101.3' 'N101.4'\n",
      " 'N101.5' 'Cent.0' 'Cent.1' 'Cent.2' 'Cent.3' 'Cent.4']\n"
     ]
    }
   ],
   "source": [
    "print(traffic['roadName'].unique())"
   ]
  },
  {
   "cell_type": "markdown",
   "metadata": {},
   "source": [
    "### Filter Roads"
   ]
  },
  {
   "cell_type": "code",
   "execution_count": 5,
   "metadata": {},
   "outputs": [],
   "source": [
    "traffic = traffic[(traffic['roadName'] == 'N101.3')]"
   ]
  },
  {
   "cell_type": "markdown",
   "metadata": {},
   "source": [
    "### Drop unwanted columns "
   ]
  },
  {
   "cell_type": "code",
   "execution_count": 6,
   "metadata": {},
   "outputs": [],
   "source": [
    "traffic = traffic.drop(columns = ['roadClosure', 'freeFlowTravelTime', 'freeFlowSpeed', 'roadName'])"
   ]
  },
  {
   "cell_type": "markdown",
   "metadata": {},
   "source": [
    "### Remove incomplete days"
   ]
  },
  {
   "cell_type": "code",
   "execution_count": 7,
   "metadata": {},
   "outputs": [],
   "source": [
    "tfc = traffic[(traffic['timeStamp'].dt.day != 26) \n",
    "                        & (traffic['timeStamp'].dt.day != 27) \n",
    "                        & (traffic['timeStamp'].dt.day != 3)]"
   ]
  },
  {
   "cell_type": "markdown",
   "metadata": {},
   "source": [
    "### Treat Date and Time"
   ]
  },
  {
   "cell_type": "code",
   "execution_count": 8,
   "metadata": {},
   "outputs": [
    {
     "name": "stderr",
     "output_type": "stream",
     "text": [
      "<ipython-input-8-7e39a034e481>:1: SettingWithCopyWarning: \n",
      "A value is trying to be set on a copy of a slice from a DataFrame.\n",
      "Try using .loc[row_indexer,col_indexer] = value instead\n",
      "\n",
      "See the caveats in the documentation: https://pandas.pydata.org/pandas-docs/stable/user_guide/indexing.html#returning-a-view-versus-a-copy\n",
      "  tfc['timeStamp'] = pd.to_datetime(tfc['timeStamp']).dt.strftime(\"%Y%m%d%H\")\n"
     ]
    }
   ],
   "source": [
    "tfc['timeStamp'] = pd.to_datetime(tfc['timeStamp']).dt.strftime(\"%Y%m%d%H\")"
   ]
  },
  {
   "cell_type": "code",
   "execution_count": 9,
   "metadata": {},
   "outputs": [
    {
     "data": {
      "text/html": [
       "<div>\n",
       "<style scoped>\n",
       "    .dataframe tbody tr th:only-of-type {\n",
       "        vertical-align: middle;\n",
       "    }\n",
       "\n",
       "    .dataframe tbody tr th {\n",
       "        vertical-align: top;\n",
       "    }\n",
       "\n",
       "    .dataframe thead th {\n",
       "        text-align: right;\n",
       "    }\n",
       "</style>\n",
       "<table border=\"1\" class=\"dataframe\">\n",
       "  <thead>\n",
       "    <tr style=\"text-align: right;\">\n",
       "      <th></th>\n",
       "      <th>currentSpeed</th>\n",
       "      <th>currentTravelTime</th>\n",
       "      <th>timeStamp</th>\n",
       "    </tr>\n",
       "  </thead>\n",
       "  <tbody>\n",
       "    <tr>\n",
       "      <th>6396</th>\n",
       "      <td>42</td>\n",
       "      <td>44</td>\n",
       "      <td>2021042800</td>\n",
       "    </tr>\n",
       "    <tr>\n",
       "      <th>6410</th>\n",
       "      <td>42</td>\n",
       "      <td>44</td>\n",
       "      <td>2021042800</td>\n",
       "    </tr>\n",
       "    <tr>\n",
       "      <th>6424</th>\n",
       "      <td>42</td>\n",
       "      <td>44</td>\n",
       "      <td>2021042800</td>\n",
       "    </tr>\n",
       "    <tr>\n",
       "      <th>6438</th>\n",
       "      <td>42</td>\n",
       "      <td>44</td>\n",
       "      <td>2021042800</td>\n",
       "    </tr>\n",
       "    <tr>\n",
       "      <th>6452</th>\n",
       "      <td>42</td>\n",
       "      <td>44</td>\n",
       "      <td>2021042800</td>\n",
       "    </tr>\n",
       "    <tr>\n",
       "      <th>...</th>\n",
       "      <td>...</td>\n",
       "      <td>...</td>\n",
       "      <td>...</td>\n",
       "    </tr>\n",
       "    <tr>\n",
       "      <th>245505</th>\n",
       "      <td>41</td>\n",
       "      <td>45</td>\n",
       "      <td>2021051213</td>\n",
       "    </tr>\n",
       "    <tr>\n",
       "      <th>245519</th>\n",
       "      <td>41</td>\n",
       "      <td>45</td>\n",
       "      <td>2021051213</td>\n",
       "    </tr>\n",
       "    <tr>\n",
       "      <th>245533</th>\n",
       "      <td>41</td>\n",
       "      <td>45</td>\n",
       "      <td>2021051213</td>\n",
       "    </tr>\n",
       "    <tr>\n",
       "      <th>245547</th>\n",
       "      <td>41</td>\n",
       "      <td>45</td>\n",
       "      <td>2021051213</td>\n",
       "    </tr>\n",
       "    <tr>\n",
       "      <th>245561</th>\n",
       "      <td>41</td>\n",
       "      <td>45</td>\n",
       "      <td>2021051213</td>\n",
       "    </tr>\n",
       "  </tbody>\n",
       "</table>\n",
       "<p>15851 rows × 3 columns</p>\n",
       "</div>"
      ],
      "text/plain": [
       "        currentSpeed  currentTravelTime   timeStamp\n",
       "6396              42                 44  2021042800\n",
       "6410              42                 44  2021042800\n",
       "6424              42                 44  2021042800\n",
       "6438              42                 44  2021042800\n",
       "6452              42                 44  2021042800\n",
       "...              ...                ...         ...\n",
       "245505            41                 45  2021051213\n",
       "245519            41                 45  2021051213\n",
       "245533            41                 45  2021051213\n",
       "245547            41                 45  2021051213\n",
       "245561            41                 45  2021051213\n",
       "\n",
       "[15851 rows x 3 columns]"
      ]
     },
     "execution_count": 9,
     "metadata": {},
     "output_type": "execute_result"
    }
   ],
   "source": [
    "tfc"
   ]
  },
  {
   "cell_type": "code",
   "execution_count": 10,
   "metadata": {},
   "outputs": [
    {
     "data": {
      "text/html": [
       "<div>\n",
       "<style scoped>\n",
       "    .dataframe tbody tr th:only-of-type {\n",
       "        vertical-align: middle;\n",
       "    }\n",
       "\n",
       "    .dataframe tbody tr th {\n",
       "        vertical-align: top;\n",
       "    }\n",
       "\n",
       "    .dataframe thead th {\n",
       "        text-align: right;\n",
       "    }\n",
       "</style>\n",
       "<table border=\"1\" class=\"dataframe\">\n",
       "  <thead>\n",
       "    <tr style=\"text-align: right;\">\n",
       "      <th></th>\n",
       "      <th>currentSpeed</th>\n",
       "      <th>currentTravelTime</th>\n",
       "    </tr>\n",
       "    <tr>\n",
       "      <th>timeStamp</th>\n",
       "      <th></th>\n",
       "      <th></th>\n",
       "    </tr>\n",
       "  </thead>\n",
       "  <tbody>\n",
       "    <tr>\n",
       "      <th>2021042800</th>\n",
       "      <td>42.000000</td>\n",
       "      <td>44.000000</td>\n",
       "    </tr>\n",
       "    <tr>\n",
       "      <th>2021042801</th>\n",
       "      <td>42.000000</td>\n",
       "      <td>44.000000</td>\n",
       "    </tr>\n",
       "    <tr>\n",
       "      <th>2021042802</th>\n",
       "      <td>42.000000</td>\n",
       "      <td>44.000000</td>\n",
       "    </tr>\n",
       "    <tr>\n",
       "      <th>2021042803</th>\n",
       "      <td>42.000000</td>\n",
       "      <td>44.000000</td>\n",
       "    </tr>\n",
       "    <tr>\n",
       "      <th>2021042804</th>\n",
       "      <td>42.000000</td>\n",
       "      <td>44.000000</td>\n",
       "    </tr>\n",
       "    <tr>\n",
       "      <th>...</th>\n",
       "      <td>...</td>\n",
       "      <td>...</td>\n",
       "    </tr>\n",
       "    <tr>\n",
       "      <th>2021051209</th>\n",
       "      <td>39.294118</td>\n",
       "      <td>47.627451</td>\n",
       "    </tr>\n",
       "    <tr>\n",
       "      <th>2021051210</th>\n",
       "      <td>41.000000</td>\n",
       "      <td>45.000000</td>\n",
       "    </tr>\n",
       "    <tr>\n",
       "      <th>2021051211</th>\n",
       "      <td>41.000000</td>\n",
       "      <td>45.000000</td>\n",
       "    </tr>\n",
       "    <tr>\n",
       "      <th>2021051212</th>\n",
       "      <td>38.333333</td>\n",
       "      <td>49.941176</td>\n",
       "    </tr>\n",
       "    <tr>\n",
       "      <th>2021051213</th>\n",
       "      <td>41.250000</td>\n",
       "      <td>44.750000</td>\n",
       "    </tr>\n",
       "  </tbody>\n",
       "</table>\n",
       "<p>309 rows × 2 columns</p>\n",
       "</div>"
      ],
      "text/plain": [
       "            currentSpeed  currentTravelTime\n",
       "timeStamp                                  \n",
       "2021042800     42.000000          44.000000\n",
       "2021042801     42.000000          44.000000\n",
       "2021042802     42.000000          44.000000\n",
       "2021042803     42.000000          44.000000\n",
       "2021042804     42.000000          44.000000\n",
       "...                  ...                ...\n",
       "2021051209     39.294118          47.627451\n",
       "2021051210     41.000000          45.000000\n",
       "2021051211     41.000000          45.000000\n",
       "2021051212     38.333333          49.941176\n",
       "2021051213     41.250000          44.750000\n",
       "\n",
       "[309 rows x 2 columns]"
      ]
     },
     "execution_count": 10,
     "metadata": {},
     "output_type": "execute_result"
    }
   ],
   "source": [
    "traffic_by_date = tfc.groupby(['timeStamp'])\n",
    "traffic_by_date_mean = traffic_by_date.mean()\n",
    "traffic_by_date_mean"
   ]
  },
  {
   "cell_type": "markdown",
   "metadata": {},
   "source": [
    "### Normalize Data"
   ]
  },
  {
   "cell_type": "code",
   "execution_count": 11,
   "metadata": {},
   "outputs": [
    {
     "data": {
      "text/html": [
       "<div>\n",
       "<style scoped>\n",
       "    .dataframe tbody tr th:only-of-type {\n",
       "        vertical-align: middle;\n",
       "    }\n",
       "\n",
       "    .dataframe tbody tr th {\n",
       "        vertical-align: top;\n",
       "    }\n",
       "\n",
       "    .dataframe thead th {\n",
       "        text-align: right;\n",
       "    }\n",
       "</style>\n",
       "<table border=\"1\" class=\"dataframe\">\n",
       "  <thead>\n",
       "    <tr style=\"text-align: right;\">\n",
       "      <th></th>\n",
       "      <th>currentSpeed</th>\n",
       "    </tr>\n",
       "    <tr>\n",
       "      <th>timeStamp</th>\n",
       "      <th></th>\n",
       "    </tr>\n",
       "  </thead>\n",
       "  <tbody>\n",
       "    <tr>\n",
       "      <th>2021042800</th>\n",
       "      <td>1.000000</td>\n",
       "    </tr>\n",
       "    <tr>\n",
       "      <th>2021042801</th>\n",
       "      <td>1.000000</td>\n",
       "    </tr>\n",
       "    <tr>\n",
       "      <th>2021042802</th>\n",
       "      <td>1.000000</td>\n",
       "    </tr>\n",
       "    <tr>\n",
       "      <th>2021042803</th>\n",
       "      <td>1.000000</td>\n",
       "    </tr>\n",
       "    <tr>\n",
       "      <th>2021042804</th>\n",
       "      <td>1.000000</td>\n",
       "    </tr>\n",
       "    <tr>\n",
       "      <th>...</th>\n",
       "      <td>...</td>\n",
       "    </tr>\n",
       "    <tr>\n",
       "      <th>2021051209</th>\n",
       "      <td>0.795404</td>\n",
       "    </tr>\n",
       "    <tr>\n",
       "      <th>2021051210</th>\n",
       "      <td>0.924388</td>\n",
       "    </tr>\n",
       "    <tr>\n",
       "      <th>2021051211</th>\n",
       "      <td>0.924388</td>\n",
       "    </tr>\n",
       "    <tr>\n",
       "      <th>2021051212</th>\n",
       "      <td>0.722758</td>\n",
       "    </tr>\n",
       "    <tr>\n",
       "      <th>2021051213</th>\n",
       "      <td>0.943291</td>\n",
       "    </tr>\n",
       "  </tbody>\n",
       "</table>\n",
       "<p>309 rows × 1 columns</p>\n",
       "</div>"
      ],
      "text/plain": [
       "            currentSpeed\n",
       "timeStamp               \n",
       "2021042800      1.000000\n",
       "2021042801      1.000000\n",
       "2021042802      1.000000\n",
       "2021042803      1.000000\n",
       "2021042804      1.000000\n",
       "...                  ...\n",
       "2021051209      0.795404\n",
       "2021051210      0.924388\n",
       "2021051211      0.924388\n",
       "2021051212      0.722758\n",
       "2021051213      0.943291\n",
       "\n",
       "[309 rows x 1 columns]"
      ]
     },
     "execution_count": 11,
     "metadata": {},
     "output_type": "execute_result"
    }
   ],
   "source": [
    "from sklearn.preprocessing import MinMaxScaler\n",
    "\n",
    "scaler = MinMaxScaler(feature_range = (-1, 1))\n",
    "\n",
    "normalized_Time = traffic_by_date_mean\n",
    "normalized_Speed = traffic_by_date_mean\n",
    "\n",
    "normalized_Time[['currentTravelTime']] = scaler.fit_transform(traffic_by_date_mean[['currentTravelTime']])\n",
    "normalized_Time = normalized_Time.drop(columns = ['currentSpeed'])\n",
    "normalized_Time\n",
    "\n",
    "normalized_Speed[['currentSpeed']] = scaler.fit_transform(traffic_by_date_mean[['currentSpeed']])\n",
    "normalized_Speed = normalized_Speed.drop(columns = ['currentTravelTime'])\n",
    "normalized_Speed\n",
    "\n"
   ]
  },
  {
   "cell_type": "markdown",
   "metadata": {},
   "source": [
    "# LSTM - Time"
   ]
  },
  {
   "cell_type": "code",
   "execution_count": 12,
   "metadata": {},
   "outputs": [],
   "source": [
    "# 24 hours that make the sequence\n",
    "TIMESTEPS = 24\n",
    "\n",
    "# number of features used by the model (using conf. cases to predict conf. cases)\n",
    "FEATURES = len(normalized_Time.columns)\n",
    "\n",
    "# number of hours to forecast - we will forecast the next 12 hours\n",
    "MULTISTEPS = 12\n",
    "\n",
    "# time series cross validator\n",
    "CV_SPLITS = 5\n",
    "\n",
    "EPOCHS = 30\n",
    "\n",
    "# 24 hours (1 day)\n",
    "BATCH_SIZE = 24"
   ]
  },
  {
   "cell_type": "code",
   "execution_count": 13,
   "metadata": {},
   "outputs": [],
   "source": [
    "# split data into training and validation sets\n",
    "def split_data(training, percentage = 15):\n",
    "    train_idx = np.arange(0, int(len(training) * (100 - percentage) / 100))\n",
    "    val_idx = np.arange(int(len(training) * (100 - percentage) / 100 + 1), len(training))\n",
    "    \n",
    "    return train_idx, val_idx"
   ]
  },
  {
   "cell_type": "code",
   "execution_count": 14,
   "metadata": {},
   "outputs": [],
   "source": [
    "# Preparing the dataset for the LSTM\n",
    "def to_supervised(df, timesteps, features = 2):\n",
    "\n",
    "    data = df.values\n",
    "    x, y = [], []\n",
    "    \n",
    "    # iterate over the training set to create x and y\n",
    "    dataset_size = len(data)\n",
    "    \n",
    "    for curr_pos in range(dataset_size):\n",
    "        # end of the input sequence is the current position + the number \n",
    "        # of timesteps of the input sequence\n",
    "        input_index = curr_pos + timesteps\n",
    "        \n",
    "        # end of the labels correspond to the end of the input sequence + 1\n",
    "        label_index = input_index + 1\n",
    "        \n",
    "        # if we have enough data for this sequence \n",
    "        if label_index < dataset_size:\n",
    "            x.append(data[curr_pos:input_index, :])\n",
    "            y.append(data[input_index:label_index, 0])\n",
    "        \n",
    "    # using np.float32 for GPU performance\n",
    "    return np.array(x).astype('float32'), np.array(y).astype('float32')\n",
    "\n",
    "\n",
    "def rmse(y_true, y_pred):\n",
    "    return tf.keras.backend.sqrt(tf.keras.backend.mean(tf.keras.backend.square(y_pred - y_true)))\n",
    "    \n",
    "\n",
    "def build_model(timesteps, features, name, h_neurons = 128):\n",
    "    \n",
    "    model = tf.keras.models.Sequential(name = name)\n",
    "    \n",
    "    model.add(LSTM(h_neurons, return_sequences = True,\n",
    "                   input_shape = (timesteps, features), \n",
    "                   activation = 'tanh'))\n",
    "    model.add(Dropout(0.2))\n",
    "    \n",
    "    model.add(LSTM(h_neurons, activation = 'tanh'))\n",
    "    model.add(Dropout(0.2))\n",
    "    \n",
    "    model.add(Dense(h_neurons, activation = 'tanh'))\n",
    "    model.add(Dropout(0.2))\n",
    "    model.add(Dense(h_neurons, activation = 'tanh'))\n",
    "    model.add(Dropout(0.2))\n",
    "    \n",
    "    model.add(Dense(features, activation = 'tanh'))\n",
    "    \n",
    "    return model\n",
    "\n",
    "\n",
    "# Compiling and fit the model\n",
    "def compile_and_fit(model, x, y, epochs = 25, batch_size = 24, cv_splits = 3):\n",
    "    callback = []\n",
    "    \n",
    "    callback.append(EarlyStopping(monitor = 'val_loss', min_delta = 0, \n",
    "                                  patience = 5, verbose = 0, \n",
    "                                  mode = 'auto', restore_best_weights = True))\n",
    "    \n",
    "    callback.append(ReduceLROnPlateau(monitor = 'val_loss', factor = 0.1, \n",
    "                                      patience = 4, verbose = 0,\n",
    "                                      mode = 'auto', cooldown = 0, \n",
    "                                      min_lr = 0.0001))\n",
    "    \n",
    "    # compile\n",
    "    model.compile(loss = rmse, \n",
    "                  optimizer = 'adam', \n",
    "                  metrics = ['mae', rmse])    \n",
    "    \n",
    "    # fit\n",
    "    hist_list = []\n",
    "    loss_list = []\n",
    "    \n",
    "    # time series cross validator\n",
    "    tscv = TimeSeriesSplit(n_splits = cv_splits)\n",
    "    \n",
    "    for train_index, test_index in tscv.split(x):\n",
    "        # further split into training and validation sets\n",
    "        train_idx, val_idx = split_data(train_index, percentage = 15)\n",
    "        \n",
    "        x_train, y_train = x[train_idx], y[train_idx]\n",
    "        x_val, y_val = x[val_idx], y[val_idx]\n",
    "        #x_test, y_test = x[test_index], y[test_index]\n",
    "        \n",
    "        history = model.fit(x_train, y_train, validation_data = (x_val, y_val), \n",
    "                            epochs = epochs, batch_size = batch_size, \n",
    "                            shuffle = False, callbacks = callback)\n",
    "        \n",
    "        plot_learning_curves(history, model_name = model.get_config()['name'])\n",
    "    \n",
    "    return model, hist_list, loss_list\n",
    "\n",
    "\n",
    "# Recursive Multi-step Forecast\n",
    "def forecast(model, df, scaler, timesteps = 24, \n",
    "             multisteps = 6, features = 2, batch_size = 24):\n",
    "    # getting the last sequence of known value\n",
    "    input_seq = df[-timesteps:].values\n",
    "    inp = input_seq\n",
    "    forecasts = []\n",
    "    \n",
    "    # multisteps tells us how many iterations we want to perform, i.e., how many days\n",
    "    # we want to predict\n",
    "    for step in range(1, multisteps + 1):\n",
    "     \n",
    "        inp = inp.reshape(1, timesteps, features)\n",
    "        \n",
    "        yhat = model.predict(inp)\n",
    "        \n",
    "        print('yhat', yhat[0][features-1])\n",
    "        \n",
    "        yhat_inversed = scaler.inverse_transform(yhat)\n",
    "        \n",
    "        print('Transformed yhat', yhat_inversed[0][features-1])\n",
    "        \n",
    "        forecasts.append(round(yhat_inversed[0][features-1]))\n",
    "    \n",
    "        inp = np.append(inp[0], yhat[0])\n",
    "        \n",
    "        inp = inp[-timesteps*features:]\n",
    "        \n",
    "    return forecasts\n",
    "\n",
    "\n",
    "def plot_prediction(data, forecasts, scaler):\n",
    "    \n",
    "    d = data.values[-24:, -1]\n",
    "    d = scaler.inverse_transform([d])[0]\n",
    "    \n",
    "    print('Real data:', d)\n",
    "    print('Forecasting values:', forecasts)\n",
    "    \n",
    "    f = []; f.append(round(d[-1])); f.extend(forecasts)\n",
    "    \n",
    "    plt.figure(figsize = (8, 6))\n",
    "    plt.plot(range(len(d)), d, color = 'mediumpurple', label = 'Real', linewidth=3)\n",
    "    plt.plot(range(len(d) - 1, len(d) + len(f) - 1),\n",
    "             f, color = 'purple', label = 'predicted', linewidth=3)\n",
    "    plt.title('Current Travel Time For The Next 12H')\n",
    "    plt.ylabel('Current Travel Time (min)')\n",
    "    plt.xlabel('Hours')\n",
    "    plt.legend()\n",
    "    plt.show()\n",
    "\n",
    "def plot_prediction_Speed(data, forecasts, scaler):\n",
    "    \n",
    "    d = data.values[-24:, -1]\n",
    "    d = scaler.inverse_transform([d])[0]\n",
    "    \n",
    "    print('Real data:', d)\n",
    "    print('Forecasting values:', forecasts)\n",
    "    \n",
    "    f = []; f.append(round(d[-1])); f.extend(forecasts)\n",
    "    \n",
    "    plt.figure(figsize = (8, 6))\n",
    "    plt.plot(range(len(d)), d, color = 'mediumpurple', label = 'Real', linewidth=3)\n",
    "    plt.plot(range(len(d) - 1, len(d) + len(f) - 1),\n",
    "             f, color = 'purple', label = 'predicted', linewidth=3)\n",
    "    plt.title('Current Speed For The Next 12H')\n",
    "    plt.ylabel('Current Speed (KM/H)')\n",
    "    plt.xlabel('Hours')\n",
    "    plt.legend()\n",
    "    plt.show()\n",
    "\n",
    "\n",
    "\n",
    "def plot_learning_curves(history, model_name):\n",
    "    print(history.history.keys())\n",
    "\n",
    "    # summarize history for accuracy\n",
    "    plt.plot(history.history['rmse'], color = 'mediumpurple',linewidth=3)\n",
    "    plt.plot(history.history['val_rmse'], color = 'purple',linewidth=3)\n",
    "    plt.title('Model ({}) rmse'.format(model_name))\n",
    "    plt.ylabel('RMSE')\n",
    "    plt.xlabel('Epoch')\n",
    "    plt.legend(['train', 'val'], bbox_to_anchor=(1.05, 1), loc='upper left', borderaxespad=0.)\n",
    "\n",
    "    plt.show()\n",
    "\n",
    "    # summarize history for loss\n",
    "    plt.plot(history.history['loss'], color = 'mediumpurple', linewidth=3)\n",
    "    plt.plot(history.history['val_loss'], color = 'purple', linewidth=3)\n",
    "    plt.title('Model ({}) loss'.format(model_name))\n",
    "    plt.ylabel('Loss')\n",
    "    plt.xlabel('Epoch')\n",
    "    plt.legend(['train', 'val'], bbox_to_anchor=(1.05, 1), loc='upper left', borderaxespad=0.)\n",
    "\n",
    "    plt.show()"
   ]
  },
  {
   "cell_type": "code",
   "execution_count": 15,
   "metadata": {},
   "outputs": [
    {
     "name": "stdout",
     "output_type": "stream",
     "text": [
      "Training shape: (284, 24, 1)\n",
      "Training labels shape: (284, 1)\n"
     ]
    }
   ],
   "source": [
    "# our supervised problem\n",
    "x, y = to_supervised(normalized_Time, TIMESTEPS, FEATURES)\n",
    "print('Training shape:', x.shape)\n",
    "print('Training labels shape:', y.shape)"
   ]
  },
  {
   "cell_type": "code",
   "execution_count": 16,
   "metadata": {},
   "outputs": [
    {
     "name": "stdout",
     "output_type": "stream",
     "text": [
      "Epoch 1/30\n",
      "2/2 [==============================] - 6s 1s/step - loss: 0.7560 - mae: 0.7211 - rmse: 0.7477 - val_loss: 0.2317 - val_mae: 0.1776 - val_rmse: 0.2317\n",
      "Epoch 2/30\n",
      "2/2 [==============================] - 0s 95ms/step - loss: 0.5035 - mae: 0.3628 - rmse: 0.5032 - val_loss: 0.3039 - val_mae: 0.2002 - val_rmse: 0.3039\n",
      "Epoch 3/30\n",
      "2/2 [==============================] - 0s 98ms/step - loss: 0.5197 - mae: 0.2666 - rmse: 0.5186 - val_loss: 0.3173 - val_mae: 0.2199 - val_rmse: 0.3173\n",
      "Epoch 4/30\n",
      "2/2 [==============================] - 0s 97ms/step - loss: 0.5300 - mae: 0.2529 - rmse: 0.5281 - val_loss: 0.3189 - val_mae: 0.2222 - val_rmse: 0.3189\n",
      "Epoch 5/30\n",
      "2/2 [==============================] - 0s 103ms/step - loss: 0.5324 - mae: 0.2578 - rmse: 0.5304 - val_loss: 0.3193 - val_mae: 0.2228 - val_rmse: 0.3193\n",
      "Epoch 6/30\n",
      "2/2 [==============================] - 0s 100ms/step - loss: 0.5319 - mae: 0.2585 - rmse: 0.5300 - val_loss: 0.3193 - val_mae: 0.2228 - val_rmse: 0.3193\n",
      "dict_keys(['loss', 'mae', 'rmse', 'val_loss', 'val_mae', 'val_rmse', 'lr'])\n"
     ]
    },
    {
     "data": {
      "image/png": "[encoded data removed]",
      "text/plain": [
       "<Figure size 432x288 with 1 Axes>"
      ]
     },
     "metadata": {
      "needs_background": "light"
     },
     "output_type": "display_data"
    },
    {
     "data": {
      "image/png": "[encoded data removed]",
      "text/plain": [
       "<Figure size 432x288 with 1 Axes>"
      ]
     },
     "metadata": {
      "needs_background": "light"
     },
     "output_type": "display_data"
    },
    {
     "name": "stdout",
     "output_type": "stream",
     "text": [
      "Epoch 1/30\n",
      "4/4 [==============================] - 0s 78ms/step - loss: 0.3539 - mae: 0.2859 - rmse: 0.3298 - val_loss: 0.4361 - val_mae: 0.3140 - val_rmse: 0.4361\n",
      "Epoch 2/30\n",
      "4/4 [==============================] - 0s 63ms/step - loss: 0.3523 - mae: 0.2706 - rmse: 0.3239 - val_loss: 0.4673 - val_mae: 0.3148 - val_rmse: 0.4673\n",
      "Epoch 3/30\n",
      "4/4 [==============================] - 0s 62ms/step - loss: 0.3150 - mae: 0.2144 - rmse: 0.2816 - val_loss: 0.4945 - val_mae: 0.3225 - val_rmse: 0.4945\n",
      "Epoch 4/30\n",
      "4/4 [==============================] - 0s 58ms/step - loss: 0.3106 - mae: 0.1926 - rmse: 0.2748 - val_loss: 0.5110 - val_mae: 0.3344 - val_rmse: 0.5110\n",
      "Epoch 5/30\n",
      "4/4 [==============================] - 0s 62ms/step - loss: 0.3174 - mae: 0.1870 - rmse: 0.2802 - val_loss: 0.5199 - val_mae: 0.3407 - val_rmse: 0.5199\n",
      "Epoch 6/30\n",
      "4/4 [==============================] - 0s 63ms/step - loss: 0.3186 - mae: 0.1809 - rmse: 0.2805 - val_loss: 0.5241 - val_mae: 0.3436 - val_rmse: 0.5241\n",
      "dict_keys(['loss', 'mae', 'rmse', 'val_loss', 'val_mae', 'val_rmse', 'lr'])\n"
     ]
    },
    {
     "data": {
      "image/png": "[encoded data removed]",
      "text/plain": [
       "<Figure size 432x288 with 1 Axes>"
      ]
     },
     "metadata": {
      "needs_background": "light"
     },
     "output_type": "display_data"
    },
    {
     "data": {
      "image/png": "[encoded data removed]",
      "text/plain": [
       "<Figure size 432x288 with 1 Axes>"
      ]
     },
     "metadata": {
      "needs_background": "light"
     },
     "output_type": "display_data"
    },
    {
     "name": "stdout",
     "output_type": "stream",
     "text": [
      "Epoch 1/30\n",
      "6/6 [==============================] - 0s 61ms/step - loss: 0.3288 - mae: 0.2527 - rmse: 0.3171 - val_loss: 0.1610 - val_mae: 0.1323 - val_rmse: 0.1610\n",
      "Epoch 2/30\n",
      "6/6 [==============================] - 0s 48ms/step - loss: 0.3260 - mae: 0.2304 - rmse: 0.3220 - val_loss: 0.1533 - val_mae: 0.1180 - val_rmse: 0.1533\n",
      "Epoch 3/30\n",
      "6/6 [==============================] - 0s 47ms/step - loss: 0.3122 - mae: 0.2139 - rmse: 0.3180 - val_loss: 0.1512 - val_mae: 0.1111 - val_rmse: 0.1512\n",
      "Epoch 4/30\n",
      "6/6 [==============================] - 0s 50ms/step - loss: 0.3119 - mae: 0.2121 - rmse: 0.3144 - val_loss: 0.1505 - val_mae: 0.1079 - val_rmse: 0.1505\n",
      "Epoch 5/30\n",
      "6/6 [==============================] - 0s 48ms/step - loss: 0.3101 - mae: 0.2067 - rmse: 0.3045 - val_loss: 0.1507 - val_mae: 0.1088 - val_rmse: 0.1507\n",
      "Epoch 6/30\n",
      "6/6 [==============================] - 0s 47ms/step - loss: 0.3157 - mae: 0.2104 - rmse: 0.2904 - val_loss: 0.1516 - val_mae: 0.1130 - val_rmse: 0.1516\n",
      "Epoch 7/30\n",
      "6/6 [==============================] - 0s 47ms/step - loss: 0.3189 - mae: 0.2177 - rmse: 0.3191 - val_loss: 0.1536 - val_mae: 0.1189 - val_rmse: 0.1536\n",
      "Epoch 8/30\n",
      "6/6 [==============================] - 0s 49ms/step - loss: 0.3160 - mae: 0.2198 - rmse: 0.3127 - val_loss: 0.1541 - val_mae: 0.1202 - val_rmse: 0.1541\n",
      "Epoch 9/30\n",
      "6/6 [==============================] - 0s 50ms/step - loss: 0.3229 - mae: 0.2274 - rmse: 0.3117 - val_loss: 0.1543 - val_mae: 0.1207 - val_rmse: 0.1543\n",
      "dict_keys(['loss', 'mae', 'rmse', 'val_loss', 'val_mae', 'val_rmse', 'lr'])\n"
     ]
    },
    {
     "data": {
      "image/png": "[encoded data removed]",
      "text/plain": [
       "<Figure size 432x288 with 1 Axes>"
      ]
     },
     "metadata": {
      "needs_background": "light"
     },
     "output_type": "display_data"
    },
    {
     "data": {
      "image/png": "[encoded data removed]",
      "text/plain": [
       "<Figure size 432x288 with 1 Axes>"
      ]
     },
     "metadata": {
      "needs_background": "light"
     },
     "output_type": "display_data"
    },
    {
     "name": "stdout",
     "output_type": "stream",
     "text": [
      "Epoch 1/30\n",
      "7/7 [==============================] - 0s 60ms/step - loss: 0.2725 - mae: 0.1869 - rmse: 0.2672 - val_loss: 0.1804 - val_mae: 0.1283 - val_rmse: 0.1569\n",
      "Epoch 2/30\n",
      "7/7 [==============================] - 0s 51ms/step - loss: 0.2724 - mae: 0.1858 - rmse: 0.2662 - val_loss: 0.1834 - val_mae: 0.1242 - val_rmse: 0.1634\n",
      "Epoch 3/30\n",
      "7/7 [==============================] - 0s 52ms/step - loss: 0.2706 - mae: 0.1700 - rmse: 0.2644 - val_loss: 0.1868 - val_mae: 0.1218 - val_rmse: 0.1694\n",
      "Epoch 4/30\n",
      "7/7 [==============================] - 0s 50ms/step - loss: 0.2701 - mae: 0.1656 - rmse: 0.2635 - val_loss: 0.1879 - val_mae: 0.1211 - val_rmse: 0.1712\n",
      "Epoch 5/30\n",
      "7/7 [==============================] - 0s 53ms/step - loss: 0.2666 - mae: 0.1622 - rmse: 0.2602 - val_loss: 0.1870 - val_mae: 0.1216 - val_rmse: 0.1697\n",
      "Epoch 6/30\n",
      "7/7 [==============================] - 0s 55ms/step - loss: 0.2670 - mae: 0.1656 - rmse: 0.2600 - val_loss: 0.1855 - val_mae: 0.1226 - val_rmse: 0.1672\n",
      "dict_keys(['loss', 'mae', 'rmse', 'val_loss', 'val_mae', 'val_rmse', 'lr'])\n"
     ]
    },
    {
     "data": {
      "image/png": "[encoded data removed]",
      "text/plain": [
       "<Figure size 432x288 with 1 Axes>"
      ]
     },
     "metadata": {
      "needs_background": "light"
     },
     "output_type": "display_data"
    },
    {
     "data": {
      "image/png": "[encoded data removed]",
      "text/plain": [
       "<Figure size 432x288 with 1 Axes>"
      ]
     },
     "metadata": {
      "needs_background": "light"
     },
     "output_type": "display_data"
    },
    {
     "name": "stdout",
     "output_type": "stream",
     "text": [
      "Epoch 1/30\n",
      "9/9 [==============================] - 0s 54ms/step - loss: 0.2495 - mae: 0.1675 - rmse: 0.2369 - val_loss: 0.0757 - val_mae: 0.0695 - val_rmse: 0.0802\n",
      "Epoch 2/30\n",
      "9/9 [==============================] - 0s 48ms/step - loss: 0.2460 - mae: 0.1581 - rmse: 0.2339 - val_loss: 0.0640 - val_mae: 0.0552 - val_rmse: 0.0724\n",
      "Epoch 3/30\n",
      "9/9 [==============================] - 0s 50ms/step - loss: 0.2492 - mae: 0.1546 - rmse: 0.2380 - val_loss: 0.0586 - val_mae: 0.0487 - val_rmse: 0.0691\n",
      "Epoch 4/30\n",
      "9/9 [==============================] - 0s 48ms/step - loss: 0.2460 - mae: 0.1472 - rmse: 0.2337 - val_loss: 0.0573 - val_mae: 0.0471 - val_rmse: 0.0684\n",
      "Epoch 5/30\n",
      "9/9 [==============================] - 0s 47ms/step - loss: 0.2451 - mae: 0.1460 - rmse: 0.2320 - val_loss: 0.0596 - val_mae: 0.0500 - val_rmse: 0.0697\n",
      "Epoch 6/30\n",
      "9/9 [==============================] - 0s 48ms/step - loss: 0.2455 - mae: 0.1489 - rmse: 0.2330 - val_loss: 0.0631 - val_mae: 0.0541 - val_rmse: 0.0718\n",
      "Epoch 7/30\n",
      "9/9 [==============================] - 0s 47ms/step - loss: 0.2453 - mae: 0.1519 - rmse: 0.2324 - val_loss: 0.0661 - val_mae: 0.0578 - val_rmse: 0.0737\n",
      "Epoch 8/30\n",
      "9/9 [==============================] - 0s 48ms/step - loss: 0.2423 - mae: 0.1522 - rmse: 0.2299 - val_loss: 0.0676 - val_mae: 0.0596 - val_rmse: 0.0746\n",
      "Epoch 9/30\n",
      "9/9 [==============================] - 0s 48ms/step - loss: 0.2404 - mae: 0.1504 - rmse: 0.2279 - val_loss: 0.0666 - val_mae: 0.0584 - val_rmse: 0.0740\n",
      "dict_keys(['loss', 'mae', 'rmse', 'val_loss', 'val_mae', 'val_rmse', 'lr'])\n"
     ]
    },
    {
     "data": {
      "image/png": "[encoded data removed]",
      "text/plain": [
       "<Figure size 432x288 with 1 Axes>"
      ]
     },
     "metadata": {
      "needs_background": "light"
     },
     "output_type": "display_data"
    },
    {
     "data": {
      "image/png": "[encoded data removed]",
      "text/plain": [
       "<Figure size 432x288 with 1 Axes>"
      ]
     },
     "metadata": {
      "needs_background": "light"
     },
     "output_type": "display_data"
    }
   ],
   "source": [
    "# fitting the model\n",
    "modelTime = build_model(TIMESTEPS, FEATURES, name = 'test')\n",
    "modelTime, hist_list, loss_list = compile_and_fit(modelTime, x, y, EPOCHS, BATCH_SIZE, CV_SPLITS)"
   ]
  },
  {
   "cell_type": "code",
   "execution_count": 17,
   "metadata": {},
   "outputs": [
    {
     "name": "stdout",
     "output_type": "stream",
     "text": [
      "yhat -0.9549399\n",
      "Transformed yhat 16.144962\n",
      "yhat -0.95551544\n",
      "Transformed yhat 16.13735\n",
      "yhat -0.95560765\n",
      "Transformed yhat 16.13613\n",
      "yhat -0.9560688\n",
      "Transformed yhat 16.130032\n",
      "yhat -0.9572717\n",
      "Transformed yhat 16.114122\n",
      "yhat -0.95751935\n",
      "Transformed yhat 16.110847\n",
      "yhat -0.95743036\n",
      "Transformed yhat 16.112022\n",
      "yhat -0.9573567\n",
      "Transformed yhat 16.112997\n",
      "yhat -0.95729536\n",
      "Transformed yhat 16.11381\n",
      "yhat -0.9572445\n",
      "Transformed yhat 16.114481\n",
      "yhat -0.9572025\n",
      "Transformed yhat 16.115038\n",
      "yhat -0.95716757\n",
      "Transformed yhat 16.1155\n",
      "Real data: [18.83793916 15.67312978 18.43995126 24.51597953 18.26750972 15.81275372\n",
      " 15.81275372 15.81275372 15.81275372 15.81275372 15.81275372 15.81275372\n",
      " 15.81275372 15.81275372 15.81275372 15.81275372 15.81275372 16.7332375\n",
      " 16.61409969 16.50570218 15.81275372 15.81275372 17.11591053 15.74682019]\n",
      "Forecasting values: [16, 16, 16, 16, 16, 16, 16, 16, 16, 16, 16, 16]\n"
     ]
    },
    {
     "data": {
      "image/png": "[encoded data removed]",
      "text/plain": [
       "<Figure size 576x432 with 1 Axes>"
      ]
     },
     "metadata": {
      "needs_background": "light"
     },
     "output_type": "display_data"
    }
   ],
   "source": [
    "# Recursive Multi-step Forecast\n",
    "forecasts = forecast(modelTime,normalized_Time, scaler, TIMESTEPS, MULTISTEPS, FEATURES, BATCH_SIZE)\n",
    "\n",
    "plot_prediction(normalized_Time, forecasts, scaler)"
   ]
  },
  {
   "cell_type": "code",
   "execution_count": 18,
   "metadata": {},
   "outputs": [],
   "source": [
    "hour = []\n",
    "ts = traffic.iloc[-1]['timeStamp']\n",
    "tss = pd.to_datetime(ts).hour\n",
    "\n",
    "for i in range(12):\n",
    "    if tss == 23:\n",
    "        newHour =  ts + pd.DateOffset(hour=0)\n",
    "        day = pd.to_datetime(ts).day\n",
    "        newDay = newHour + pd.DateOffset(day=day+1)\n",
    "        tss = 0\n",
    "        ts = newDay\n",
    "        hour.append(newDay)\n",
    "    else: \n",
    "        h = pd.to_datetime(ts).hour\n",
    "        newHour = ts + pd.DateOffset(hour=h+1)\n",
    "        tss = tss+1\n",
    "        ts = newHour\n",
    "        hour.append(newHour)\n",
    "        \n",
    "#for i in hour:\n",
    "    #print(i)"
   ]
  },
  {
   "cell_type": "code",
   "execution_count": 19,
   "metadata": {},
   "outputs": [],
   "source": [
    "import csv\n",
    "\n",
    "with open('predictionsTime.csv', mode='a') as csv_file:\n",
    "    writer = csv.writer(csv_file, delimiter=',', quotechar='\"', quoting=csv.QUOTE_MINIMAL)\n",
    "    for i in range(12):\n",
    "        d = 'N101.3',forecasts[i],hour[i]\n",
    "        writer.writerow(d)\n",
    "        "
   ]
  },
  {
   "cell_type": "markdown",
   "metadata": {},
   "source": [
    "# LSTM - Speed"
   ]
  },
  {
   "cell_type": "code",
   "execution_count": 20,
   "metadata": {},
   "outputs": [
    {
     "name": "stdout",
     "output_type": "stream",
     "text": [
      "Training shape: (284, 24, 1)\n",
      "Training labels shape: (284, 1)\n"
     ]
    }
   ],
   "source": [
    "# our supervised problem\n",
    "x, y = to_supervised(normalized_Speed, TIMESTEPS, FEATURES)\n",
    "print('Training shape:', x.shape)\n",
    "print('Training labels shape:', y.shape)"
   ]
  },
  {
   "cell_type": "code",
   "execution_count": null,
   "metadata": {},
   "outputs": [
    {
     "name": "stdout",
     "output_type": "stream",
     "text": [
      "Epoch 1/30\n",
      "2/2 [==============================] - 6s 1s/step - loss: 0.7931 - mae: 0.7428 - rmse: 0.7893 - val_loss: 0.3193 - val_mae: 0.2546 - val_rmse: 0.3193\n",
      "Epoch 2/30\n",
      "2/2 [==============================] - 0s 117ms/step - loss: 0.5986 - mae: 0.5287 - rmse: 0.5952 - val_loss: 0.4259 - val_mae: 0.2902 - val_rmse: 0.4259\n",
      "Epoch 3/30\n",
      "2/2 [==============================] - 0s 174ms/step - loss: 0.6101 - mae: 0.4452 - rmse: 0.6041 - val_loss: 0.4720 - val_mae: 0.3548 - val_rmse: 0.4720\n",
      "Epoch 4/30\n",
      "2/2 [==============================] - 0s 164ms/step - loss: 0.6205 - mae: 0.4265 - rmse: 0.6127 - val_loss: 0.4554 - val_mae: 0.3304 - val_rmse: 0.4554\n",
      "Epoch 5/30\n",
      "2/2 [==============================] - 0s 157ms/step - loss: 0.5767 - mae: 0.4067 - rmse: 0.5702 - val_loss: 0.3941 - val_mae: 0.2431 - val_rmse: 0.3941\n",
      "Epoch 6/30\n",
      "2/2 [==============================] - 0s 183ms/step - loss: 0.5782 - mae: 0.4429 - rmse: 0.5734 - val_loss: 0.3866 - val_mae: 0.2374 - val_rmse: 0.3866\n",
      "dict_keys(['loss', 'mae', 'rmse', 'val_loss', 'val_mae', 'val_rmse', 'lr'])\n"
     ]
    },
    {
     "data": {
      "image/png": "[encoded data removed]",
      "text/plain": [
       "<Figure size 432x288 with 1 Axes>"
      ]
     },
     "metadata": {
      "needs_background": "light"
     },
     "output_type": "display_data"
    },
    {
     "data": {
      "image/png": "[encoded data removed]",
      "text/plain": [
       "<Figure size 432x288 with 1 Axes>"
      ]
     },
     "metadata": {
      "needs_background": "light"
     },
     "output_type": "display_data"
    },
    {
     "name": "stdout",
     "output_type": "stream",
     "text": [
      "Epoch 1/30\n",
      "4/4 [==============================] - 1s 140ms/step - loss: 0.5121 - mae: 0.4635 - rmse: 0.4922 - val_loss: 0.5855 - val_mae: 0.5065 - val_rmse: 0.5855\n",
      "Epoch 2/30\n",
      "4/4 [==============================] - 0s 103ms/step - loss: 0.4729 - mae: 0.4218 - rmse: 0.4486 - val_loss: 0.6138 - val_mae: 0.5060 - val_rmse: 0.6138\n",
      "Epoch 3/30\n",
      "4/4 [==============================] - 0s 114ms/step - loss: 0.4520 - mae: 0.3890 - rmse: 0.4140 - val_loss: 0.6552 - val_mae: 0.5062 - val_rmse: 0.6552\n",
      "Epoch 4/30\n",
      "4/4 [==============================] - 0s 96ms/step - loss: 0.4299 - mae: 0.3613 - rmse: 0.3877 - val_loss: 0.6985 - val_mae: 0.5184 - val_rmse: 0.6985\n",
      "Epoch 5/30\n",
      "4/4 [==============================] - 1s 133ms/step - loss: 0.4210 - mae: 0.3382 - rmse: 0.3810 - val_loss: 0.7323 - val_mae: 0.5424 - val_rmse: 0.7323\n",
      "Epoch 6/30\n",
      "4/4 [==============================] - 0s 69ms/step - loss: 0.4225 - mae: 0.3216 - rmse: 0.3799 - val_loss: 0.7536 - val_mae: 0.5574 - val_rmse: 0.7536\n",
      "dict_keys(['loss', 'mae', 'rmse', 'val_loss', 'val_mae', 'val_rmse', 'lr'])\n"
     ]
    },
    {
     "data": {
      "image/png": "[encoded data removed]",
      "text/plain": [
       "<Figure size 432x288 with 1 Axes>"
      ]
     },
     "metadata": {
      "needs_background": "light"
     },
     "output_type": "display_data"
    },
    {
     "data": {
      "image/png": "[encoded data removed]",
      "text/plain": [
       "<Figure size 432x288 with 1 Axes>"
      ]
     },
     "metadata": {
      "needs_background": "light"
     },
     "output_type": "display_data"
    },
    {
     "name": "stdout",
     "output_type": "stream",
     "text": [
      "Epoch 1/30\n",
      "6/6 [==============================] - 1s 91ms/step - loss: 0.4748 - mae: 0.4182 - rmse: 0.4757 - val_loss: 0.3135 - val_mae: 0.2853 - val_rmse: 0.3135\n",
      "Epoch 2/30\n",
      "6/6 [==============================] - 1s 87ms/step - loss: 0.4550 - mae: 0.3892 - rmse: 0.4761 - val_loss: 0.2893 - val_mae: 0.2587 - val_rmse: 0.2893\n",
      "Epoch 3/30\n",
      "6/6 [==============================] - 0s 74ms/step - loss: 0.4622 - mae: 0.3907 - rmse: 0.4783 - val_loss: 0.2790 - val_mae: 0.2460 - val_rmse: 0.2790\n",
      "Epoch 4/30\n",
      "6/6 [==============================] - 0s 59ms/step - loss: 0.4582 - mae: 0.3798 - rmse: 0.4773 - val_loss: 0.2762 - val_mae: 0.2428 - val_rmse: 0.2762\n",
      "Epoch 5/30\n",
      "2/6 [=========>....................] - ETA: 0s - loss: 0.5425 - mae: 0.4512 - rmse: 0.5425"
     ]
    }
   ],
   "source": [
    "# fitting the model\n",
    "modelSpeed = build_model(TIMESTEPS, FEATURES, name = 'test')\n",
    "modelSpeed , hist_list, loss_list = compile_and_fit(modelSpeed, x, y, EPOCHS, BATCH_SIZE, CV_SPLITS)"
   ]
  },
  {
   "cell_type": "code",
   "execution_count": null,
   "metadata": {},
   "outputs": [],
   "source": [
    "# Recursive Multi-step Forecast\n",
    "forecastSpeed = forecast(modelSpeed,normalized_Speed, scaler, TIMESTEPS, MULTISTEPS, FEATURES, BATCH_SIZE)\n",
    "\n",
    "plot_prediction_Speed(normalized_Speed, forecastSpeed, scaler)"
   ]
  },
  {
   "cell_type": "code",
   "execution_count": null,
   "metadata": {},
   "outputs": [],
   "source": [
    "hour = []\n",
    "ts = traffic.iloc[-1]['timeStamp']\n",
    "tss = pd.to_datetime(ts).hour\n",
    "\n",
    "for i in range(12):\n",
    "    if tss == 23:\n",
    "        newHour =  ts + pd.DateOffset(hour=0)\n",
    "        day = pd.to_datetime(ts).day\n",
    "        newDay = newHour + pd.DateOffset(day=day+1)\n",
    "        tss = 0\n",
    "        ts = newDay\n",
    "        hour.append(newDay)\n",
    "    else: \n",
    "        h = pd.to_datetime(ts).hour\n",
    "        newHour = ts + pd.DateOffset(hour=h+1)\n",
    "        tss = tss+1\n",
    "        ts = newHour\n",
    "        hour.append(newHour)\n",
    "        \n",
    "#for i in hour:\n",
    "    #print(i)"
   ]
  },
  {
   "cell_type": "code",
   "execution_count": null,
   "metadata": {},
   "outputs": [],
   "source": [
    "import csv\n",
    "\n",
    "with open('predictionsSpeed.csv', mode='a') as csv_file:\n",
    "    writer = csv.writer(csv_file, delimiter=',', quotechar='\"', quoting=csv.QUOTE_MINIMAL)\n",
    "    for i in range(12):\n",
    "        d = 'N101.3',forecasts[i],hour[i]\n",
    "        writer.writerow(d)\n"
   ]
  }
 ],
 "metadata": {
  "kernelspec": {
   "display_name": "Python 3",
   "language": "python",
   "name": "python3"
  },
  "language_info": {
   "codemirror_mode": {
    "name": "ipython",
    "version": 3
   },
   "file_extension": ".py",
   "mimetype": "text/x-python",
   "name": "python",
   "nbconvert_exporter": "python",
   "pygments_lexer": "ipython3",
   "version": "3.8.3"
  }
 },
 "nbformat": 4,
 "nbformat_minor": 4
}

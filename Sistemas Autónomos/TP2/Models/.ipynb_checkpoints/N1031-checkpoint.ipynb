{
 "cells": [
  {
   "cell_type": "markdown",
   "metadata": {},
   "source": [
    "# LSTM Travel Time + Speed Prediction - N103.1"
   ]
  },
  {
   "cell_type": "code",
   "execution_count": 1,
   "metadata": {},
   "outputs": [],
   "source": [
    "import numpy as np\n",
    "import pandas as pd\n",
    "import seaborn as sns\n",
    "from datetime import datetime\n",
    "import matplotlib.pyplot as plt\n",
    "\n",
    "import tensorflow as tf\n",
    "from sklearn.model_selection import TimeSeriesSplit\n",
    "from tensorflow.keras.callbacks import EarlyStopping\n",
    "from tensorflow.keras.layers import LSTM, Dropout, Dense\n",
    "from tensorflow.keras.callbacks import ReduceLROnPlateau"
   ]
  },
  {
   "cell_type": "code",
   "execution_count": 2,
   "metadata": {
    "scrolled": true
   },
   "outputs": [
    {
     "data": {
      "text/html": [
       "<div>\n",
       "<style scoped>\n",
       "    .dataframe tbody tr th:only-of-type {\n",
       "        vertical-align: middle;\n",
       "    }\n",
       "\n",
       "    .dataframe tbody tr th {\n",
       "        vertical-align: top;\n",
       "    }\n",
       "\n",
       "    .dataframe thead th {\n",
       "        text-align: right;\n",
       "    }\n",
       "</style>\n",
       "<table border=\"1\" class=\"dataframe\">\n",
       "  <thead>\n",
       "    <tr style=\"text-align: right;\">\n",
       "      <th></th>\n",
       "      <th>currentSpeed</th>\n",
       "      <th>freeFlowSpeed</th>\n",
       "      <th>currentTravelTime</th>\n",
       "      <th>freeFlowTravelTime</th>\n",
       "      <th>roadName</th>\n",
       "      <th>roadClosure</th>\n",
       "      <th>timeStamp</th>\n",
       "    </tr>\n",
       "  </thead>\n",
       "  <tbody>\n",
       "    <tr>\n",
       "      <th>0</th>\n",
       "      <td>64</td>\n",
       "      <td>64</td>\n",
       "      <td>21</td>\n",
       "      <td>21</td>\n",
       "      <td>N103.1</td>\n",
       "      <td>False</td>\n",
       "      <td>2021-04-26 18:11:34</td>\n",
       "    </tr>\n",
       "    <tr>\n",
       "      <th>1</th>\n",
       "      <td>34</td>\n",
       "      <td>43</td>\n",
       "      <td>49</td>\n",
       "      <td>39</td>\n",
       "      <td>N103.0</td>\n",
       "      <td>False</td>\n",
       "      <td>2021-04-27 14:53:37</td>\n",
       "    </tr>\n",
       "    <tr>\n",
       "      <th>2</th>\n",
       "      <td>64</td>\n",
       "      <td>64</td>\n",
       "      <td>21</td>\n",
       "      <td>21</td>\n",
       "      <td>N103.1</td>\n",
       "      <td>False</td>\n",
       "      <td>2021-04-27 14:53:49</td>\n",
       "    </tr>\n",
       "    <tr>\n",
       "      <th>3</th>\n",
       "      <td>51</td>\n",
       "      <td>51</td>\n",
       "      <td>37</td>\n",
       "      <td>37</td>\n",
       "      <td>N103.2</td>\n",
       "      <td>False</td>\n",
       "      <td>2021-04-27 14:54:00</td>\n",
       "    </tr>\n",
       "    <tr>\n",
       "      <th>4</th>\n",
       "      <td>74</td>\n",
       "      <td>74</td>\n",
       "      <td>21</td>\n",
       "      <td>21</td>\n",
       "      <td>N101.0</td>\n",
       "      <td>False</td>\n",
       "      <td>2021-04-27 14:54:12</td>\n",
       "    </tr>\n",
       "    <tr>\n",
       "      <th>5</th>\n",
       "      <td>33</td>\n",
       "      <td>43</td>\n",
       "      <td>51</td>\n",
       "      <td>39</td>\n",
       "      <td>N103.0</td>\n",
       "      <td>False</td>\n",
       "      <td>2021-04-27 14:57:10</td>\n",
       "    </tr>\n",
       "    <tr>\n",
       "      <th>6</th>\n",
       "      <td>64</td>\n",
       "      <td>64</td>\n",
       "      <td>21</td>\n",
       "      <td>21</td>\n",
       "      <td>N103.1</td>\n",
       "      <td>False</td>\n",
       "      <td>2021-04-27 14:57:22</td>\n",
       "    </tr>\n",
       "    <tr>\n",
       "      <th>7</th>\n",
       "      <td>39</td>\n",
       "      <td>50</td>\n",
       "      <td>49</td>\n",
       "      <td>38</td>\n",
       "      <td>N103.2</td>\n",
       "      <td>False</td>\n",
       "      <td>2021-04-27 14:57:33</td>\n",
       "    </tr>\n",
       "    <tr>\n",
       "      <th>8</th>\n",
       "      <td>74</td>\n",
       "      <td>74</td>\n",
       "      <td>21</td>\n",
       "      <td>21</td>\n",
       "      <td>N101.0</td>\n",
       "      <td>False</td>\n",
       "      <td>2021-04-27 14:57:45</td>\n",
       "    </tr>\n",
       "    <tr>\n",
       "      <th>9</th>\n",
       "      <td>52</td>\n",
       "      <td>67</td>\n",
       "      <td>28</td>\n",
       "      <td>21</td>\n",
       "      <td>N101.1</td>\n",
       "      <td>False</td>\n",
       "      <td>2021-04-27 14:57:57</td>\n",
       "    </tr>\n",
       "  </tbody>\n",
       "</table>\n",
       "</div>"
      ],
      "text/plain": [
       "   currentSpeed  freeFlowSpeed  currentTravelTime  freeFlowTravelTime  \\\n",
       "0            64             64                 21                  21   \n",
       "1            34             43                 49                  39   \n",
       "2            64             64                 21                  21   \n",
       "3            51             51                 37                  37   \n",
       "4            74             74                 21                  21   \n",
       "5            33             43                 51                  39   \n",
       "6            64             64                 21                  21   \n",
       "7            39             50                 49                  38   \n",
       "8            74             74                 21                  21   \n",
       "9            52             67                 28                  21   \n",
       "\n",
       "  roadName  roadClosure           timeStamp  \n",
       "0   N103.1        False 2021-04-26 18:11:34  \n",
       "1   N103.0        False 2021-04-27 14:53:37  \n",
       "2   N103.1        False 2021-04-27 14:53:49  \n",
       "3   N103.2        False 2021-04-27 14:54:00  \n",
       "4   N101.0        False 2021-04-27 14:54:12  \n",
       "5   N103.0        False 2021-04-27 14:57:10  \n",
       "6   N103.1        False 2021-04-27 14:57:22  \n",
       "7   N103.2        False 2021-04-27 14:57:33  \n",
       "8   N101.0        False 2021-04-27 14:57:45  \n",
       "9   N101.1        False 2021-04-27 14:57:57  "
      ]
     },
     "execution_count": 2,
     "metadata": {},
     "output_type": "execute_result"
    }
   ],
   "source": [
    "traffic = pd.read_csv('../db.csv', parse_dates = [\"timeStamp\"])\n",
    "traffic.head(10)"
   ]
  },
  {
   "cell_type": "code",
   "execution_count": 3,
   "metadata": {},
   "outputs": [
    {
     "name": "stdout",
     "output_type": "stream",
     "text": [
      "<class 'pandas.core.frame.DataFrame'>\n",
      "RangeIndex: 245563 entries, 0 to 245562\n",
      "Data columns (total 7 columns):\n",
      " #   Column              Non-Null Count   Dtype         \n",
      "---  ------              --------------   -----         \n",
      " 0   currentSpeed        245563 non-null  int64         \n",
      " 1   freeFlowSpeed       245563 non-null  int64         \n",
      " 2   currentTravelTime   245563 non-null  int64         \n",
      " 3   freeFlowTravelTime  245563 non-null  int64         \n",
      " 4   roadName            245563 non-null  object        \n",
      " 5   roadClosure         245563 non-null  bool          \n",
      " 6   timeStamp           245563 non-null  datetime64[ns]\n",
      "dtypes: bool(1), datetime64[ns](1), int64(4), object(1)\n",
      "memory usage: 11.5+ MB\n"
     ]
    }
   ],
   "source": [
    "traffic.info()"
   ]
  },
  {
   "cell_type": "code",
   "execution_count": 4,
   "metadata": {},
   "outputs": [
    {
     "name": "stdout",
     "output_type": "stream",
     "text": [
      "['N103.1' 'N103.0' 'N103.2' 'N101.0' 'N101.1' 'N101.2' 'N101.3' 'N101.4'\n",
      " 'N101.5' 'Cent.0' 'Cent.1' 'Cent.2' 'Cent.3' 'Cent.4']\n"
     ]
    }
   ],
   "source": [
    "print(traffic['roadName'].unique())"
   ]
  },
  {
   "cell_type": "markdown",
   "metadata": {},
   "source": [
    "### Filter Roads"
   ]
  },
  {
   "cell_type": "code",
   "execution_count": 5,
   "metadata": {},
   "outputs": [],
   "source": [
    "traffic = traffic[(traffic['roadName'] == 'N103.1')]"
   ]
  },
  {
   "cell_type": "markdown",
   "metadata": {},
   "source": [
    "### Drop unwanted columns "
   ]
  },
  {
   "cell_type": "code",
   "execution_count": 6,
   "metadata": {},
   "outputs": [],
   "source": [
    "traffic = traffic.drop(columns = ['roadClosure', 'freeFlowTravelTime', 'freeFlowSpeed', 'roadName'])"
   ]
  },
  {
   "cell_type": "markdown",
   "metadata": {},
   "source": [
    "### Remove incomplete days"
   ]
  },
  {
   "cell_type": "code",
   "execution_count": 7,
   "metadata": {},
   "outputs": [],
   "source": [
    "tfc = traffic[(traffic['timeStamp'].dt.day != 26) \n",
    "                        & (traffic['timeStamp'].dt.day != 27) \n",
    "                        & (traffic['timeStamp'].dt.day != 3)]"
   ]
  },
  {
   "cell_type": "markdown",
   "metadata": {},
   "source": [
    "### Treat Date and Time"
   ]
  },
  {
   "cell_type": "code",
   "execution_count": 8,
   "metadata": {},
   "outputs": [
    {
     "name": "stderr",
     "output_type": "stream",
     "text": [
      "<ipython-input-8-7e39a034e481>:1: SettingWithCopyWarning: \n",
      "A value is trying to be set on a copy of a slice from a DataFrame.\n",
      "Try using .loc[row_indexer,col_indexer] = value instead\n",
      "\n",
      "See the caveats in the documentation: https://pandas.pydata.org/pandas-docs/stable/user_guide/indexing.html#returning-a-view-versus-a-copy\n",
      "  tfc['timeStamp'] = pd.to_datetime(tfc['timeStamp']).dt.strftime(\"%Y%m%d%H\")\n"
     ]
    }
   ],
   "source": [
    "tfc['timeStamp'] = pd.to_datetime(tfc['timeStamp']).dt.strftime(\"%Y%m%d%H\")"
   ]
  },
  {
   "cell_type": "code",
   "execution_count": 9,
   "metadata": {},
   "outputs": [
    {
     "data": {
      "text/html": [
       "<div>\n",
       "<style scoped>\n",
       "    .dataframe tbody tr th:only-of-type {\n",
       "        vertical-align: middle;\n",
       "    }\n",
       "\n",
       "    .dataframe tbody tr th {\n",
       "        vertical-align: top;\n",
       "    }\n",
       "\n",
       "    .dataframe thead th {\n",
       "        text-align: right;\n",
       "    }\n",
       "</style>\n",
       "<table border=\"1\" class=\"dataframe\">\n",
       "  <thead>\n",
       "    <tr style=\"text-align: right;\">\n",
       "      <th></th>\n",
       "      <th>currentSpeed</th>\n",
       "      <th>currentTravelTime</th>\n",
       "      <th>timeStamp</th>\n",
       "    </tr>\n",
       "  </thead>\n",
       "  <tbody>\n",
       "    <tr>\n",
       "      <th>6391</th>\n",
       "      <td>65</td>\n",
       "      <td>21</td>\n",
       "      <td>2021042800</td>\n",
       "    </tr>\n",
       "    <tr>\n",
       "      <th>6405</th>\n",
       "      <td>65</td>\n",
       "      <td>21</td>\n",
       "      <td>2021042800</td>\n",
       "    </tr>\n",
       "    <tr>\n",
       "      <th>6419</th>\n",
       "      <td>65</td>\n",
       "      <td>21</td>\n",
       "      <td>2021042800</td>\n",
       "    </tr>\n",
       "    <tr>\n",
       "      <th>6433</th>\n",
       "      <td>65</td>\n",
       "      <td>21</td>\n",
       "      <td>2021042800</td>\n",
       "    </tr>\n",
       "    <tr>\n",
       "      <th>6447</th>\n",
       "      <td>65</td>\n",
       "      <td>21</td>\n",
       "      <td>2021042800</td>\n",
       "    </tr>\n",
       "    <tr>\n",
       "      <th>...</th>\n",
       "      <td>...</td>\n",
       "      <td>...</td>\n",
       "      <td>...</td>\n",
       "    </tr>\n",
       "    <tr>\n",
       "      <th>245500</th>\n",
       "      <td>65</td>\n",
       "      <td>21</td>\n",
       "      <td>2021051213</td>\n",
       "    </tr>\n",
       "    <tr>\n",
       "      <th>245514</th>\n",
       "      <td>65</td>\n",
       "      <td>21</td>\n",
       "      <td>2021051213</td>\n",
       "    </tr>\n",
       "    <tr>\n",
       "      <th>245528</th>\n",
       "      <td>65</td>\n",
       "      <td>21</td>\n",
       "      <td>2021051213</td>\n",
       "    </tr>\n",
       "    <tr>\n",
       "      <th>245542</th>\n",
       "      <td>65</td>\n",
       "      <td>21</td>\n",
       "      <td>2021051213</td>\n",
       "    </tr>\n",
       "    <tr>\n",
       "      <th>245556</th>\n",
       "      <td>65</td>\n",
       "      <td>21</td>\n",
       "      <td>2021051213</td>\n",
       "    </tr>\n",
       "  </tbody>\n",
       "</table>\n",
       "<p>15852 rows × 3 columns</p>\n",
       "</div>"
      ],
      "text/plain": [
       "        currentSpeed  currentTravelTime   timeStamp\n",
       "6391              65                 21  2021042800\n",
       "6405              65                 21  2021042800\n",
       "6419              65                 21  2021042800\n",
       "6433              65                 21  2021042800\n",
       "6447              65                 21  2021042800\n",
       "...              ...                ...         ...\n",
       "245500            65                 21  2021051213\n",
       "245514            65                 21  2021051213\n",
       "245528            65                 21  2021051213\n",
       "245542            65                 21  2021051213\n",
       "245556            65                 21  2021051213\n",
       "\n",
       "[15852 rows x 3 columns]"
      ]
     },
     "execution_count": 9,
     "metadata": {},
     "output_type": "execute_result"
    }
   ],
   "source": [
    "tfc"
   ]
  },
  {
   "cell_type": "code",
   "execution_count": 10,
   "metadata": {},
   "outputs": [
    {
     "data": {
      "text/html": [
       "<div>\n",
       "<style scoped>\n",
       "    .dataframe tbody tr th:only-of-type {\n",
       "        vertical-align: middle;\n",
       "    }\n",
       "\n",
       "    .dataframe tbody tr th {\n",
       "        vertical-align: top;\n",
       "    }\n",
       "\n",
       "    .dataframe thead th {\n",
       "        text-align: right;\n",
       "    }\n",
       "</style>\n",
       "<table border=\"1\" class=\"dataframe\">\n",
       "  <thead>\n",
       "    <tr style=\"text-align: right;\">\n",
       "      <th></th>\n",
       "      <th>currentSpeed</th>\n",
       "      <th>currentTravelTime</th>\n",
       "    </tr>\n",
       "    <tr>\n",
       "      <th>timeStamp</th>\n",
       "      <th></th>\n",
       "      <th></th>\n",
       "    </tr>\n",
       "  </thead>\n",
       "  <tbody>\n",
       "    <tr>\n",
       "      <th>2021042800</th>\n",
       "      <td>65.0</td>\n",
       "      <td>21.0</td>\n",
       "    </tr>\n",
       "    <tr>\n",
       "      <th>2021042801</th>\n",
       "      <td>65.0</td>\n",
       "      <td>21.0</td>\n",
       "    </tr>\n",
       "    <tr>\n",
       "      <th>2021042802</th>\n",
       "      <td>65.0</td>\n",
       "      <td>21.0</td>\n",
       "    </tr>\n",
       "    <tr>\n",
       "      <th>2021042803</th>\n",
       "      <td>65.0</td>\n",
       "      <td>21.0</td>\n",
       "    </tr>\n",
       "    <tr>\n",
       "      <th>2021042804</th>\n",
       "      <td>65.0</td>\n",
       "      <td>21.0</td>\n",
       "    </tr>\n",
       "    <tr>\n",
       "      <th>...</th>\n",
       "      <td>...</td>\n",
       "      <td>...</td>\n",
       "    </tr>\n",
       "    <tr>\n",
       "      <th>2021051209</th>\n",
       "      <td>65.0</td>\n",
       "      <td>21.0</td>\n",
       "    </tr>\n",
       "    <tr>\n",
       "      <th>2021051210</th>\n",
       "      <td>65.0</td>\n",
       "      <td>21.0</td>\n",
       "    </tr>\n",
       "    <tr>\n",
       "      <th>2021051211</th>\n",
       "      <td>65.0</td>\n",
       "      <td>21.0</td>\n",
       "    </tr>\n",
       "    <tr>\n",
       "      <th>2021051212</th>\n",
       "      <td>65.0</td>\n",
       "      <td>21.0</td>\n",
       "    </tr>\n",
       "    <tr>\n",
       "      <th>2021051213</th>\n",
       "      <td>65.0</td>\n",
       "      <td>21.0</td>\n",
       "    </tr>\n",
       "  </tbody>\n",
       "</table>\n",
       "<p>309 rows × 2 columns</p>\n",
       "</div>"
      ],
      "text/plain": [
       "            currentSpeed  currentTravelTime\n",
       "timeStamp                                  \n",
       "2021042800          65.0               21.0\n",
       "2021042801          65.0               21.0\n",
       "2021042802          65.0               21.0\n",
       "2021042803          65.0               21.0\n",
       "2021042804          65.0               21.0\n",
       "...                  ...                ...\n",
       "2021051209          65.0               21.0\n",
       "2021051210          65.0               21.0\n",
       "2021051211          65.0               21.0\n",
       "2021051212          65.0               21.0\n",
       "2021051213          65.0               21.0\n",
       "\n",
       "[309 rows x 2 columns]"
      ]
     },
     "execution_count": 10,
     "metadata": {},
     "output_type": "execute_result"
    }
   ],
   "source": [
    "traffic_by_date = tfc.groupby(['timeStamp'])\n",
    "traffic_by_date_mean = traffic_by_date.mean()\n",
    "traffic_by_date_mean"
   ]
  },
  {
   "cell_type": "markdown",
   "metadata": {},
   "source": [
    "### Normalize Data"
   ]
  },
  {
   "cell_type": "code",
   "execution_count": 11,
   "metadata": {},
   "outputs": [
    {
     "data": {
      "text/html": [
       "<div>\n",
       "<style scoped>\n",
       "    .dataframe tbody tr th:only-of-type {\n",
       "        vertical-align: middle;\n",
       "    }\n",
       "\n",
       "    .dataframe tbody tr th {\n",
       "        vertical-align: top;\n",
       "    }\n",
       "\n",
       "    .dataframe thead th {\n",
       "        text-align: right;\n",
       "    }\n",
       "</style>\n",
       "<table border=\"1\" class=\"dataframe\">\n",
       "  <thead>\n",
       "    <tr style=\"text-align: right;\">\n",
       "      <th></th>\n",
       "      <th>currentSpeed</th>\n",
       "    </tr>\n",
       "    <tr>\n",
       "      <th>timeStamp</th>\n",
       "      <th></th>\n",
       "    </tr>\n",
       "  </thead>\n",
       "  <tbody>\n",
       "    <tr>\n",
       "      <th>2021042800</th>\n",
       "      <td>1.0</td>\n",
       "    </tr>\n",
       "    <tr>\n",
       "      <th>2021042801</th>\n",
       "      <td>1.0</td>\n",
       "    </tr>\n",
       "    <tr>\n",
       "      <th>2021042802</th>\n",
       "      <td>1.0</td>\n",
       "    </tr>\n",
       "    <tr>\n",
       "      <th>2021042803</th>\n",
       "      <td>1.0</td>\n",
       "    </tr>\n",
       "    <tr>\n",
       "      <th>2021042804</th>\n",
       "      <td>1.0</td>\n",
       "    </tr>\n",
       "    <tr>\n",
       "      <th>...</th>\n",
       "      <td>...</td>\n",
       "    </tr>\n",
       "    <tr>\n",
       "      <th>2021051209</th>\n",
       "      <td>1.0</td>\n",
       "    </tr>\n",
       "    <tr>\n",
       "      <th>2021051210</th>\n",
       "      <td>1.0</td>\n",
       "    </tr>\n",
       "    <tr>\n",
       "      <th>2021051211</th>\n",
       "      <td>1.0</td>\n",
       "    </tr>\n",
       "    <tr>\n",
       "      <th>2021051212</th>\n",
       "      <td>1.0</td>\n",
       "    </tr>\n",
       "    <tr>\n",
       "      <th>2021051213</th>\n",
       "      <td>1.0</td>\n",
       "    </tr>\n",
       "  </tbody>\n",
       "</table>\n",
       "<p>309 rows × 1 columns</p>\n",
       "</div>"
      ],
      "text/plain": [
       "            currentSpeed\n",
       "timeStamp               \n",
       "2021042800           1.0\n",
       "2021042801           1.0\n",
       "2021042802           1.0\n",
       "2021042803           1.0\n",
       "2021042804           1.0\n",
       "...                  ...\n",
       "2021051209           1.0\n",
       "2021051210           1.0\n",
       "2021051211           1.0\n",
       "2021051212           1.0\n",
       "2021051213           1.0\n",
       "\n",
       "[309 rows x 1 columns]"
      ]
     },
     "execution_count": 11,
     "metadata": {},
     "output_type": "execute_result"
    }
   ],
   "source": [
    "from sklearn.preprocessing import MinMaxScaler\n",
    "\n",
    "scaler = MinMaxScaler(feature_range = (-1, 1))\n",
    "\n",
    "normalized_Time = traffic_by_date_mean\n",
    "normalized_Speed = traffic_by_date_mean\n",
    "\n",
    "normalized_Time[['currentTravelTime']] = scaler.fit_transform(traffic_by_date_mean[['currentTravelTime']])\n",
    "normalized_Time = normalized_Time.drop(columns = ['currentSpeed'])\n",
    "normalized_Time\n",
    "\n",
    "normalized_Speed[['currentSpeed']] = scaler.fit_transform(traffic_by_date_mean[['currentSpeed']])\n",
    "normalized_Speed = normalized_Speed.drop(columns = ['currentTravelTime'])\n",
    "normalized_Speed\n",
    "\n"
   ]
  },
  {
   "cell_type": "markdown",
   "metadata": {},
   "source": [
    "# LSTM - Time"
   ]
  },
  {
   "cell_type": "code",
   "execution_count": 12,
   "metadata": {},
   "outputs": [],
   "source": [
    "# 24 hours that make the sequence\n",
    "TIMESTEPS = 24\n",
    "\n",
    "# number of features used by the model (using conf. cases to predict conf. cases)\n",
    "FEATURES = len(normalized_Time.columns)\n",
    "\n",
    "# number of hours to forecast - we will forecast the next 12 hours\n",
    "MULTISTEPS = 12\n",
    "\n",
    "# time series cross validator\n",
    "CV_SPLITS = 5\n",
    "\n",
    "EPOCHS = 30\n",
    "\n",
    "# 24 hours (1 day)\n",
    "BATCH_SIZE = 24"
   ]
  },
  {
   "cell_type": "code",
   "execution_count": 13,
   "metadata": {},
   "outputs": [],
   "source": [
    "# split data into training and validation sets\n",
    "def split_data(training, percentage = 15):\n",
    "    train_idx = np.arange(0, int(len(training) * (100 - percentage) / 100))\n",
    "    val_idx = np.arange(int(len(training) * (100 - percentage) / 100 + 1), len(training))\n",
    "    \n",
    "    return train_idx, val_idx"
   ]
  },
  {
   "cell_type": "code",
   "execution_count": 14,
   "metadata": {},
   "outputs": [],
   "source": [
    "# Preparing the dataset for the LSTM\n",
    "def to_supervised(df, timesteps, features = 2):\n",
    "\n",
    "    data = df.values\n",
    "    x, y = [], []\n",
    "    \n",
    "    # iterate over the training set to create x and y\n",
    "    dataset_size = len(data)\n",
    "    \n",
    "    for curr_pos in range(dataset_size):\n",
    "        # end of the input sequence is the current position + the number \n",
    "        # of timesteps of the input sequence\n",
    "        input_index = curr_pos + timesteps\n",
    "        \n",
    "        # end of the labels correspond to the end of the input sequence + 1\n",
    "        label_index = input_index + 1\n",
    "        \n",
    "        # if we have enough data for this sequence \n",
    "        if label_index < dataset_size:\n",
    "            x.append(data[curr_pos:input_index, :])\n",
    "            y.append(data[input_index:label_index, 0])\n",
    "        \n",
    "    # using np.float32 for GPU performance\n",
    "    return np.array(x).astype('float32'), np.array(y).astype('float32')\n",
    "\n",
    "\n",
    "def rmse(y_true, y_pred):\n",
    "    return tf.keras.backend.sqrt(tf.keras.backend.mean(tf.keras.backend.square(y_pred - y_true)))\n",
    "    \n",
    "\n",
    "def build_model(timesteps, features, name, h_neurons = 128):\n",
    "    \n",
    "    model = tf.keras.models.Sequential(name = name)\n",
    "    \n",
    "    model.add(LSTM(h_neurons, return_sequences = True,\n",
    "                   input_shape = (timesteps, features), \n",
    "                   activation = 'tanh'))\n",
    "    model.add(Dropout(0.2))\n",
    "    \n",
    "    model.add(LSTM(h_neurons, activation = 'tanh'))\n",
    "    model.add(Dropout(0.2))\n",
    "    \n",
    "    model.add(Dense(h_neurons, activation = 'tanh'))\n",
    "    model.add(Dropout(0.2))\n",
    "    model.add(Dense(h_neurons, activation = 'tanh'))\n",
    "    model.add(Dropout(0.2))\n",
    "    \n",
    "    model.add(Dense(features, activation = 'tanh'))\n",
    "    \n",
    "    return model\n",
    "\n",
    "\n",
    "# Compiling and fit the model\n",
    "def compile_and_fit(model, x, y, epochs = 25, batch_size = 24, cv_splits = 3):\n",
    "    callback = []\n",
    "    \n",
    "    callback.append(EarlyStopping(monitor = 'val_loss', min_delta = 0, \n",
    "                                  patience = 5, verbose = 0, \n",
    "                                  mode = 'auto', restore_best_weights = True))\n",
    "    \n",
    "    callback.append(ReduceLROnPlateau(monitor = 'val_loss', factor = 0.1, \n",
    "                                      patience = 4, verbose = 0,\n",
    "                                      mode = 'auto', cooldown = 0, \n",
    "                                      min_lr = 0.0001))\n",
    "    \n",
    "    # compile\n",
    "    model.compile(loss = rmse, \n",
    "                  optimizer = 'adam', \n",
    "                  metrics = ['mae', rmse])    \n",
    "    \n",
    "    # fit\n",
    "    hist_list = []\n",
    "    loss_list = []\n",
    "    \n",
    "    # time series cross validator\n",
    "    tscv = TimeSeriesSplit(n_splits = cv_splits)\n",
    "    \n",
    "    for train_index, test_index in tscv.split(x):\n",
    "        # further split into training and validation sets\n",
    "        train_idx, val_idx = split_data(train_index, percentage = 15)\n",
    "        \n",
    "        x_train, y_train = x[train_idx], y[train_idx]\n",
    "        x_val, y_val = x[val_idx], y[val_idx]\n",
    "        #x_test, y_test = x[test_index], y[test_index]\n",
    "        \n",
    "        history = model.fit(x_train, y_train, validation_data = (x_val, y_val), \n",
    "                            epochs = epochs, batch_size = batch_size, \n",
    "                            shuffle = False, callbacks = callback)\n",
    "        \n",
    "        plot_learning_curves(history, model_name = model.get_config()['name'])\n",
    "    \n",
    "    return model, hist_list, loss_list\n",
    "\n",
    "\n",
    "# Recursive Multi-step Forecast\n",
    "def forecast(model, df, scaler, timesteps = 24, \n",
    "             multisteps = 6, features = 2, batch_size = 24):\n",
    "    # getting the last sequence of known value\n",
    "    input_seq = df[-timesteps:].values\n",
    "    inp = input_seq\n",
    "    forecasts = []\n",
    "    \n",
    "    # multisteps tells us how many iterations we want to perform, i.e., how many days\n",
    "    # we want to predict\n",
    "    for step in range(1, multisteps + 1):\n",
    "     \n",
    "        inp = inp.reshape(1, timesteps, features)\n",
    "        \n",
    "        yhat = model.predict(inp)\n",
    "        \n",
    "        print('yhat', yhat[0][features-1])\n",
    "        \n",
    "        yhat_inversed = scaler.inverse_transform(yhat)\n",
    "        \n",
    "        print('Transformed yhat', yhat_inversed[0][features-1])\n",
    "        \n",
    "        forecasts.append(round(yhat_inversed[0][features-1]))\n",
    "    \n",
    "        inp = np.append(inp[0], yhat[0])\n",
    "        \n",
    "        inp = inp[-timesteps*features:]\n",
    "        \n",
    "    return forecasts\n",
    "\n",
    "\n",
    "def plot_prediction(data, forecasts, scaler):\n",
    "    \n",
    "    d = data.values[-24:, -1]\n",
    "    d = scaler.inverse_transform([d])[0]\n",
    "    \n",
    "    print('Real data:', d)\n",
    "    print('Forecasting values:', forecasts)\n",
    "    \n",
    "    f = []; f.append(round(d[-1])); f.extend(forecasts)\n",
    "    \n",
    "    plt.figure(figsize = (8, 6))\n",
    "    plt.plot(range(len(d)), d, color = 'mediumpurple', label = 'Real', linewidth=3)\n",
    "    plt.plot(range(len(d) - 1, len(d) + len(f) - 1),\n",
    "             f, color = 'purple', label = 'predicted', linewidth=3)\n",
    "    plt.title('Current Travel Time For The Next 12H')\n",
    "    plt.ylabel('Current Travel Time (min)')\n",
    "    plt.xlabel('Hours')\n",
    "    plt.legend()\n",
    "    plt.show()\n",
    "\n",
    "def plot_prediction_Speed(data, forecasts, scaler):\n",
    "    \n",
    "    d = data.values[-24:, -1]\n",
    "    d = scaler.inverse_transform([d])[0]\n",
    "    \n",
    "    print('Real data:', d)\n",
    "    print('Forecasting values:', forecasts)\n",
    "    \n",
    "    f = []; f.append(round(d[-1])); f.extend(forecasts)\n",
    "    \n",
    "    plt.figure(figsize = (8, 6))\n",
    "    plt.plot(range(len(d)), d, color = 'mediumpurple', label = 'Real', linewidth=3)\n",
    "    plt.plot(range(len(d) - 1, len(d) + len(f) - 1),\n",
    "             f, color = 'purple', label = 'predicted', linewidth=3)\n",
    "    plt.title('Current Speed For The Next 12H')\n",
    "    plt.ylabel('Current Speed (KM/H)')\n",
    "    plt.xlabel('Hours')\n",
    "    plt.legend()\n",
    "    plt.show()\n",
    "\n",
    "\n",
    "\n",
    "def plot_learning_curves(history, model_name):\n",
    "    print(history.history.keys())\n",
    "\n",
    "    # summarize history for accuracy\n",
    "    plt.plot(history.history['rmse'], color = 'mediumpurple',linewidth=3)\n",
    "    plt.plot(history.history['val_rmse'], color = 'purple',linewidth=3)\n",
    "    plt.title('Model ({}) rmse'.format(model_name))\n",
    "    plt.ylabel('RMSE')\n",
    "    plt.xlabel('Epoch')\n",
    "    plt.legend(['train', 'val'], bbox_to_anchor=(1.05, 1), loc='upper left', borderaxespad=0.)\n",
    "\n",
    "    plt.show()\n",
    "\n",
    "    # summarize history for loss\n",
    "    plt.plot(history.history['loss'], color = 'mediumpurple', linewidth=3)\n",
    "    plt.plot(history.history['val_loss'], color = 'purple', linewidth=3)\n",
    "    plt.title('Model ({}) loss'.format(model_name))\n",
    "    plt.ylabel('Loss')\n",
    "    plt.xlabel('Epoch')\n",
    "    plt.legend(['train', 'val'], bbox_to_anchor=(1.05, 1), loc='upper left', borderaxespad=0.)\n",
    "\n",
    "    plt.show()"
   ]
  },
  {
   "cell_type": "code",
   "execution_count": 15,
   "metadata": {},
   "outputs": [
    {
     "name": "stdout",
     "output_type": "stream",
     "text": [
      "Training shape: (284, 24, 1)\n",
      "Training labels shape: (284, 1)\n"
     ]
    }
   ],
   "source": [
    "# our supervised problem\n",
    "x, y = to_supervised(normalized_Time, TIMESTEPS, FEATURES)\n",
    "print('Training shape:', x.shape)\n",
    "print('Training labels shape:', y.shape)"
   ]
  },
  {
   "cell_type": "code",
   "execution_count": 16,
   "metadata": {},
   "outputs": [
    {
     "name": "stdout",
     "output_type": "stream",
     "text": [
      "Epoch 1/30\n",
      "2/2 [==============================] - 5s 1s/step - loss: 1.0035 - mae: 0.9908 - rmse: 0.9841 - val_loss: 0.4020 - val_mae: 0.4016 - val_rmse: 0.4020\n",
      "Epoch 2/30\n",
      "2/2 [==============================] - 0s 93ms/step - loss: 0.3411 - mae: 0.3248 - rmse: 0.3267 - val_loss: 0.0277 - val_mae: 0.0276 - val_rmse: 0.0277\n",
      "Epoch 3/30\n",
      "2/2 [==============================] - 0s 89ms/step - loss: 0.1440 - mae: 0.0754 - rmse: 0.1381 - val_loss: 0.0185 - val_mae: 0.0076 - val_rmse: 0.0185\n",
      "Epoch 4/30\n",
      "2/2 [==============================] - 0s 89ms/step - loss: 0.1459 - mae: 0.0506 - rmse: 0.1398 - val_loss: 0.0187 - val_mae: 0.0071 - val_rmse: 0.0187\n",
      "Epoch 5/30\n",
      "2/2 [==============================] - 0s 89ms/step - loss: 0.1461 - mae: 0.0498 - rmse: 0.1400 - val_loss: 0.0187 - val_mae: 0.0071 - val_rmse: 0.0187\n",
      "Epoch 6/30\n",
      "2/2 [==============================] - 0s 87ms/step - loss: 0.1461 - mae: 0.0497 - rmse: 0.1401 - val_loss: 0.0187 - val_mae: 0.0071 - val_rmse: 0.0187\n",
      "Epoch 7/30\n",
      "2/2 [==============================] - 0s 91ms/step - loss: 0.1461 - mae: 0.0497 - rmse: 0.1401 - val_loss: 0.0187 - val_mae: 0.0071 - val_rmse: 0.0187\n",
      "Epoch 8/30\n",
      "2/2 [==============================] - 0s 93ms/step - loss: 0.1461 - mae: 0.0497 - rmse: 0.1401 - val_loss: 0.0187 - val_mae: 0.0071 - val_rmse: 0.0187\n",
      "dict_keys(['loss', 'mae', 'rmse', 'val_loss', 'val_mae', 'val_rmse', 'lr'])\n"
     ]
    },
    {
     "data": {
      "image/png": "[encoded data removed]",
      "text/plain": [
       "<Figure size 432x288 with 1 Axes>"
      ]
     },
     "metadata": {
      "needs_background": "light"
     },
     "output_type": "display_data"
    },
    {
     "data": {
      "image/png": "[encoded data removed]",
      "text/plain": [
       "<Figure size 432x288 with 1 Axes>"
      ]
     },
     "metadata": {
      "needs_background": "light"
     },
     "output_type": "display_data"
    },
    {
     "name": "stdout",
     "output_type": "stream",
     "text": [
      "Epoch 1/30\n",
      "4/4 [==============================] - 0s 66ms/step - loss: 0.0718 - mae: 0.0249 - rmse: 0.0607 - val_loss: 0.2009 - val_mae: 0.0872 - val_rmse: 0.2009\n",
      "Epoch 2/30\n",
      "4/4 [==============================] - 0s 54ms/step - loss: 0.0721 - mae: 0.0247 - rmse: 0.0611 - val_loss: 0.2010 - val_mae: 0.0871 - val_rmse: 0.2010\n",
      "Epoch 3/30\n",
      "4/4 [==============================] - 0s 55ms/step - loss: 0.0719 - mae: 0.0248 - rmse: 0.0608 - val_loss: 0.2010 - val_mae: 0.0871 - val_rmse: 0.2010\n",
      "Epoch 4/30\n",
      "4/4 [==============================] - 0s 55ms/step - loss: 0.0721 - mae: 0.0247 - rmse: 0.0610 - val_loss: 0.2010 - val_mae: 0.0871 - val_rmse: 0.2010\n",
      "Epoch 5/30\n",
      "4/4 [==============================] - 0s 59ms/step - loss: 0.0721 - mae: 0.0245 - rmse: 0.0610 - val_loss: 0.2010 - val_mae: 0.0871 - val_rmse: 0.2010\n",
      "Epoch 6/30\n",
      "4/4 [==============================] - 0s 56ms/step - loss: 0.0722 - mae: 0.0245 - rmse: 0.0613 - val_loss: 0.2010 - val_mae: 0.0870 - val_rmse: 0.2010\n",
      "dict_keys(['loss', 'mae', 'rmse', 'val_loss', 'val_mae', 'val_rmse', 'lr'])\n"
     ]
    },
    {
     "data": {
      "image/png": "[encoded data removed]",
      "text/plain": [
       "<Figure size 432x288 with 1 Axes>"
      ]
     },
     "metadata": {
      "needs_background": "light"
     },
     "output_type": "display_data"
    },
    {
     "data": {
      "image/png": "[encoded data removed]",
      "text/plain": [
       "<Figure size 432x288 with 1 Axes>"
      ]
     },
     "metadata": {
      "needs_background": "light"
     },
     "output_type": "display_data"
    },
    {
     "name": "stdout",
     "output_type": "stream",
     "text": [
      "Epoch 1/30\n",
      "6/6 [==============================] - 0s 59ms/step - loss: 0.1145 - mae: 0.0350 - rmse: 0.1092 - val_loss: 0.1078 - val_mae: 0.0355 - val_rmse: 0.1078\n",
      "Epoch 2/30\n",
      "6/6 [==============================] - 0s 45ms/step - loss: 0.1145 - mae: 0.0350 - rmse: 0.1083 - val_loss: 0.1078 - val_mae: 0.0355 - val_rmse: 0.1078\n",
      "Epoch 3/30\n",
      "6/6 [==============================] - 0s 45ms/step - loss: 0.1146 - mae: 0.0352 - rmse: 0.1092 - val_loss: 0.1078 - val_mae: 0.0355 - val_rmse: 0.1078\n",
      "Epoch 4/30\n",
      "6/6 [==============================] - 0s 46ms/step - loss: 0.1144 - mae: 0.0352 - rmse: 0.1092 - val_loss: 0.1078 - val_mae: 0.0355 - val_rmse: 0.1078\n",
      "Epoch 5/30\n",
      "6/6 [==============================] - 0s 45ms/step - loss: 0.1144 - mae: 0.0352 - rmse: 0.1090 - val_loss: 0.1077 - val_mae: 0.0356 - val_rmse: 0.1077\n",
      "Epoch 6/30\n",
      "6/6 [==============================] - 0s 47ms/step - loss: 0.1144 - mae: 0.0354 - rmse: 0.1090 - val_loss: 0.1077 - val_mae: 0.0356 - val_rmse: 0.1077\n",
      "Epoch 7/30\n",
      "6/6 [==============================] - 0s 45ms/step - loss: 0.1143 - mae: 0.0354 - rmse: 0.1088 - val_loss: 0.1077 - val_mae: 0.0357 - val_rmse: 0.1077\n",
      "Epoch 8/30\n",
      "6/6 [==============================] - 0s 45ms/step - loss: 0.1145 - mae: 0.0353 - rmse: 0.1092 - val_loss: 0.1077 - val_mae: 0.0357 - val_rmse: 0.1077\n",
      "Epoch 9/30\n",
      "6/6 [==============================] - 0s 46ms/step - loss: 0.1146 - mae: 0.0358 - rmse: 0.1088 - val_loss: 0.1076 - val_mae: 0.0358 - val_rmse: 0.1076\n",
      "Epoch 10/30\n",
      "6/6 [==============================] - 0s 45ms/step - loss: 0.1145 - mae: 0.0357 - rmse: 0.1090 - val_loss: 0.1076 - val_mae: 0.0359 - val_rmse: 0.1076\n",
      "Epoch 11/30\n",
      "6/6 [==============================] - 0s 45ms/step - loss: 0.1141 - mae: 0.0357 - rmse: 0.1077 - val_loss: 0.1075 - val_mae: 0.0360 - val_rmse: 0.1075\n",
      "Epoch 12/30\n",
      "6/6 [==============================] - 0s 46ms/step - loss: 0.1138 - mae: 0.0361 - rmse: 0.1086 - val_loss: 0.1074 - val_mae: 0.0362 - val_rmse: 0.1074\n",
      "Epoch 13/30\n",
      "6/6 [==============================] - 0s 47ms/step - loss: 0.1140 - mae: 0.0364 - rmse: 0.1083 - val_loss: 0.1073 - val_mae: 0.0364 - val_rmse: 0.1073\n",
      "Epoch 14/30\n",
      "6/6 [==============================] - 0s 65ms/step - loss: 0.1141 - mae: 0.0365 - rmse: 0.1088 - val_loss: 0.1072 - val_mae: 0.0367 - val_rmse: 0.1072\n",
      "Epoch 15/30\n",
      "6/6 [==============================] - 0s 66ms/step - loss: 0.1142 - mae: 0.0371 - rmse: 0.1087 - val_loss: 0.1071 - val_mae: 0.0370 - val_rmse: 0.1071\n",
      "Epoch 16/30\n",
      "6/6 [==============================] - 1s 85ms/step - loss: 0.1144 - mae: 0.0380 - rmse: 0.1085 - val_loss: 0.1070 - val_mae: 0.0372 - val_rmse: 0.1070\n",
      "Epoch 17/30\n",
      "6/6 [==============================] - 1s 94ms/step - loss: 0.1141 - mae: 0.0378 - rmse: 0.1083 - val_loss: 0.1068 - val_mae: 0.0375 - val_rmse: 0.1068\n",
      "Epoch 18/30\n",
      "6/6 [==============================] - 0s 53ms/step - loss: 0.1143 - mae: 0.0389 - rmse: 0.1082 - val_loss: 0.1067 - val_mae: 0.0379 - val_rmse: 0.1067\n",
      "Epoch 19/30\n",
      "6/6 [==============================] - 0s 82ms/step - loss: 0.1137 - mae: 0.0390 - rmse: 0.1061 - val_loss: 0.1064 - val_mae: 0.0385 - val_rmse: 0.1064\n",
      "Epoch 20/30\n",
      "6/6 [==============================] - 0s 57ms/step - loss: 0.1140 - mae: 0.0400 - rmse: 0.1073 - val_loss: 0.1060 - val_mae: 0.0396 - val_rmse: 0.1060\n",
      "Epoch 21/30\n",
      "6/6 [==============================] - 0s 87ms/step - loss: 0.1153 - mae: 0.0436 - rmse: 0.1085 - val_loss: 0.1056 - val_mae: 0.0404 - val_rmse: 0.1056\n",
      "Epoch 22/30\n",
      "6/6 [==============================] - 0s 49ms/step - loss: 0.1150 - mae: 0.0426 - rmse: 0.1088 - val_loss: 0.1054 - val_mae: 0.0411 - val_rmse: 0.1054\n",
      "Epoch 23/30\n",
      "6/6 [==============================] - 0s 49ms/step - loss: 0.1138 - mae: 0.0436 - rmse: 0.1068 - val_loss: 0.1052 - val_mae: 0.0416 - val_rmse: 0.1052\n",
      "Epoch 24/30\n",
      "6/6 [==============================] - 0s 48ms/step - loss: 0.1128 - mae: 0.0450 - rmse: 0.1038 - val_loss: 0.1048 - val_mae: 0.0429 - val_rmse: 0.1048\n",
      "Epoch 25/30\n",
      "6/6 [==============================] - 0s 47ms/step - loss: 0.1144 - mae: 0.0478 - rmse: 0.1075 - val_loss: 0.1042 - val_mae: 0.0448 - val_rmse: 0.1042\n",
      "Epoch 26/30\n",
      "6/6 [==============================] - 0s 48ms/step - loss: 0.1153 - mae: 0.0503 - rmse: 0.1088 - val_loss: 0.1041 - val_mae: 0.0455 - val_rmse: 0.1041\n",
      "Epoch 27/30\n",
      "6/6 [==============================] - 0s 47ms/step - loss: 0.1140 - mae: 0.0478 - rmse: 0.1074 - val_loss: 0.1040 - val_mae: 0.0458 - val_rmse: 0.1040\n",
      "Epoch 28/30\n",
      "6/6 [==============================] - 0s 47ms/step - loss: 0.1136 - mae: 0.0494 - rmse: 0.1070 - val_loss: 0.1040 - val_mae: 0.0458 - val_rmse: 0.1040\n",
      "Epoch 29/30\n",
      "6/6 [==============================] - 0s 47ms/step - loss: 0.1149 - mae: 0.0493 - rmse: 0.1042 - val_loss: 0.1040 - val_mae: 0.0458 - val_rmse: 0.1040\n",
      "Epoch 30/30\n",
      "6/6 [==============================] - 0s 49ms/step - loss: 0.1141 - mae: 0.0504 - rmse: 0.1008 - val_loss: 0.1036 - val_mae: 0.0476 - val_rmse: 0.1036\n",
      "dict_keys(['loss', 'mae', 'rmse', 'val_loss', 'val_mae', 'val_rmse', 'lr'])\n"
     ]
    },
    {
     "data": {
      "image/png": "[encoded data removed]",
      "text/plain": [
       "<Figure size 432x288 with 1 Axes>"
      ]
     },
     "metadata": {
      "needs_background": "light"
     },
     "output_type": "display_data"
    },
    {
     "data": {
      "image/png": "[encoded data removed]",
      "text/plain": [
       "<Figure size 432x288 with 1 Axes>"
      ]
     },
     "metadata": {
      "needs_background": "light"
     },
     "output_type": "display_data"
    },
    {
     "name": "stdout",
     "output_type": "stream",
     "text": [
      "Epoch 1/30\n",
      "7/7 [==============================] - 0s 54ms/step - loss: 0.1162 - mae: 0.0553 - rmse: 0.1182 - val_loss: 0.0812 - val_mae: 0.0458 - val_rmse: 0.0567\n",
      "Epoch 2/30\n",
      "7/7 [==============================] - 0s 49ms/step - loss: 0.1182 - mae: 0.0584 - rmse: 0.1199 - val_loss: 0.0811 - val_mae: 0.0441 - val_rmse: 0.0558\n",
      "Epoch 3/30\n",
      "7/7 [==============================] - 0s 50ms/step - loss: 0.1179 - mae: 0.0569 - rmse: 0.1198 - val_loss: 0.0810 - val_mae: 0.0410 - val_rmse: 0.0542\n",
      "Epoch 4/30\n",
      "7/7 [==============================] - 0s 52ms/step - loss: 0.1176 - mae: 0.0523 - rmse: 0.1193 - val_loss: 0.0811 - val_mae: 0.0383 - val_rmse: 0.0527\n",
      "Epoch 5/30\n",
      "7/7 [==============================] - 0s 59ms/step - loss: 0.1180 - mae: 0.0510 - rmse: 0.1199 - val_loss: 0.0813 - val_mae: 0.0364 - val_rmse: 0.0517\n",
      "Epoch 6/30\n",
      "7/7 [==============================] - 1s 91ms/step - loss: 0.1174 - mae: 0.0483 - rmse: 0.1192 - val_loss: 0.0814 - val_mae: 0.0354 - val_rmse: 0.0512\n",
      "Epoch 7/30\n",
      "7/7 [==============================] - 0s 74ms/step - loss: 0.1157 - mae: 0.0461 - rmse: 0.1177 - val_loss: 0.0814 - val_mae: 0.0355 - val_rmse: 0.0512\n",
      "Epoch 8/30\n",
      "7/7 [==============================] - 0s 55ms/step - loss: 0.1169 - mae: 0.0472 - rmse: 0.1186 - val_loss: 0.0814 - val_mae: 0.0356 - val_rmse: 0.0513\n",
      "dict_keys(['loss', 'mae', 'rmse', 'val_loss', 'val_mae', 'val_rmse', 'lr'])\n"
     ]
    },
    {
     "data": {
      "image/png": "[encoded data removed]",
      "text/plain": [
       "<Figure size 432x288 with 1 Axes>"
      ]
     },
     "metadata": {
      "needs_background": "light"
     },
     "output_type": "display_data"
    },
    {
     "data": {
      "image/png": "[encoded data removed]",
      "text/plain": [
       "<Figure size 432x288 with 1 Axes>"
      ]
     },
     "metadata": {
      "needs_background": "light"
     },
     "output_type": "display_data"
    },
    {
     "name": "stdout",
     "output_type": "stream",
     "text": [
      "Epoch 1/30\n",
      "9/9 [==============================] - 0s 50ms/step - loss: 0.1078 - mae: 0.0489 - rmse: 0.1014 - val_loss: 0.1560 - val_mae: 0.0703 - val_rmse: 0.2383\n",
      "Epoch 2/30\n",
      "9/9 [==============================] - 0s 49ms/step - loss: 0.1077 - mae: 0.0471 - rmse: 0.1014 - val_loss: 0.1551 - val_mae: 0.0676 - val_rmse: 0.2379\n",
      "Epoch 3/30\n",
      "9/9 [==============================] - 0s 45ms/step - loss: 0.1080 - mae: 0.0452 - rmse: 0.1016 - val_loss: 0.1545 - val_mae: 0.0652 - val_rmse: 0.2378\n",
      "Epoch 4/30\n",
      "9/9 [==============================] - 0s 46ms/step - loss: 0.1074 - mae: 0.0414 - rmse: 0.1006 - val_loss: 0.1544 - val_mae: 0.0639 - val_rmse: 0.2379\n",
      "Epoch 5/30\n",
      "9/9 [==============================] - 0s 48ms/step - loss: 0.1074 - mae: 0.0409 - rmse: 0.1007 - val_loss: 0.1544 - val_mae: 0.0635 - val_rmse: 0.2379\n",
      "Epoch 6/30\n",
      "9/9 [==============================] - 0s 50ms/step - loss: 0.1087 - mae: 0.0424 - rmse: 0.1021 - val_loss: 0.1544 - val_mae: 0.0631 - val_rmse: 0.2380\n",
      "Epoch 7/30\n",
      "9/9 [==============================] - 0s 48ms/step - loss: 0.1082 - mae: 0.0407 - rmse: 0.1012 - val_loss: 0.1544 - val_mae: 0.0623 - val_rmse: 0.2381\n",
      "Epoch 8/30\n",
      "9/9 [==============================] - 0s 48ms/step - loss: 0.1073 - mae: 0.0393 - rmse: 0.1003 - val_loss: 0.1544 - val_mae: 0.0618 - val_rmse: 0.2382\n",
      "Epoch 9/30\n",
      "9/9 [==============================] - 0s 46ms/step - loss: 0.1080 - mae: 0.0390 - rmse: 0.1013 - val_loss: 0.1544 - val_mae: 0.0618 - val_rmse: 0.2382\n",
      "Epoch 10/30\n",
      "9/9 [==============================] - 0s 46ms/step - loss: 0.1082 - mae: 0.0394 - rmse: 0.1011 - val_loss: 0.1544 - val_mae: 0.0617 - val_rmse: 0.2382\n",
      "Epoch 11/30\n",
      "9/9 [==============================] - 0s 46ms/step - loss: 0.1076 - mae: 0.0388 - rmse: 0.1007 - val_loss: 0.1544 - val_mae: 0.0619 - val_rmse: 0.2381\n",
      "dict_keys(['loss', 'mae', 'rmse', 'val_loss', 'val_mae', 'val_rmse', 'lr'])\n"
     ]
    },
    {
     "data": {
      "image/png": "[encoded data removed]",
      "text/plain": [
       "<Figure size 432x288 with 1 Axes>"
      ]
     },
     "metadata": {
      "needs_background": "light"
     },
     "output_type": "display_data"
    },
    {
     "data": {
      "image/png": "[encoded data removed]",
      "text/plain": [
       "<Figure size 432x288 with 1 Axes>"
      ]
     },
     "metadata": {
      "needs_background": "light"
     },
     "output_type": "display_data"
    }
   ],
   "source": [
    "# fitting the model\n",
    "modelTime = build_model(TIMESTEPS, FEATURES, name = 'test')\n",
    "modelTime, hist_list, loss_list = compile_and_fit(modelTime, x, y, EPOCHS, BATCH_SIZE, CV_SPLITS)"
   ]
  },
  {
   "cell_type": "code",
   "execution_count": null,
   "metadata": {},
   "outputs": [
    {
     "name": "stdout",
     "output_type": "stream",
     "text": [
      "yhat -0.99299395\n",
      "Transformed yhat 43.66324\n",
      "yhat -0.99304444\n",
      "Transformed yhat 43.662697\n",
      "yhat -0.99310696\n",
      "Transformed yhat 43.66203\n",
      "yhat -0.99323976\n",
      "Transformed yhat 43.66061\n",
      "yhat -0.99336\n",
      "Transformed yhat 43.659325\n",
      "yhat -0.9934132\n",
      "Transformed yhat 43.658752\n",
      "yhat -0.99346656\n",
      "Transformed yhat 43.65818\n",
      "yhat -0.9935189\n",
      "Transformed yhat 43.65762\n",
      "yhat -0.99356836\n",
      "Transformed yhat 43.657093\n",
      "yhat -0.9936149\n",
      "Transformed yhat 43.656593\n",
      "yhat -0.99365777\n",
      "Transformed yhat 43.65613\n"
     ]
    }
   ],
   "source": [
    "# Recursive Multi-step Forecast\n",
    "forecasts = forecast(modelTime,normalized_Time, scaler, TIMESTEPS, MULTISTEPS, FEATURES, BATCH_SIZE)\n",
    "\n",
    "plot_prediction(normalized_Time, forecasts, scaler)"
   ]
  },
  {
   "cell_type": "code",
   "execution_count": null,
   "metadata": {},
   "outputs": [],
   "source": [
    "hour = []\n",
    "ts = traffic.iloc[-1]['timeStamp']\n",
    "tss = pd.to_datetime(ts).hour\n",
    "\n",
    "for i in range(12):\n",
    "    if tss == 23:\n",
    "        newHour =  ts + pd.DateOffset(hour=0)\n",
    "        day = pd.to_datetime(ts).day\n",
    "        newDay = newHour + pd.DateOffset(day=day+1)\n",
    "        tss = 0\n",
    "        ts = newDay\n",
    "        hour.append(newDay)\n",
    "    else: \n",
    "        h = pd.to_datetime(ts).hour\n",
    "        newHour = ts + pd.DateOffset(hour=h+1)\n",
    "        tss = tss+1\n",
    "        ts = newHour\n",
    "        hour.append(newHour)\n",
    "        \n",
    "#for i in hour:\n",
    "    #print(i)"
   ]
  },
  {
   "cell_type": "code",
   "execution_count": null,
   "metadata": {},
   "outputs": [],
   "source": [
    "import csv\n",
    "\n",
    "with open('predictionsTime.csv', mode='a') as csv_file:\n",
    "    writer = csv.writer(csv_file, delimiter=',', quotechar='\"', quoting=csv.QUOTE_MINIMAL)\n",
    "    for i in range(12):\n",
    "        d = 'N103.0',forecasts[i],hour[i]\n",
    "        writer.writerow(d)\n",
    "        "
   ]
  },
  {
   "cell_type": "markdown",
   "metadata": {},
   "source": [
    "# LSTM - Speed"
   ]
  },
  {
   "cell_type": "code",
   "execution_count": null,
   "metadata": {},
   "outputs": [],
   "source": [
    "# our supervised problem\n",
    "x, y = to_supervised(normalized_Speed, TIMESTEPS, FEATURES)\n",
    "print('Training shape:', x.shape)\n",
    "print('Training labels shape:', y.shape)"
   ]
  },
  {
   "cell_type": "code",
   "execution_count": null,
   "metadata": {},
   "outputs": [],
   "source": [
    "# fitting the model\n",
    "modelSpeed = build_model(TIMESTEPS, FEATURES, name = 'test')\n",
    "modelSpeed , hist_list, loss_list = compile_and_fit(modelSpeed, x, y, EPOCHS, BATCH_SIZE, CV_SPLITS)"
   ]
  },
  {
   "cell_type": "code",
   "execution_count": null,
   "metadata": {},
   "outputs": [],
   "source": [
    "# Recursive Multi-step Forecast\n",
    "forecastSpeed = forecast(modelSpeed,normalized_Speed, scaler, TIMESTEPS, MULTISTEPS, FEATURES, BATCH_SIZE)\n",
    "\n",
    "plot_prediction_Speed(normalized_Speed, forecastSpeed, scaler)"
   ]
  },
  {
   "cell_type": "code",
   "execution_count": null,
   "metadata": {},
   "outputs": [],
   "source": [
    "hour = []\n",
    "ts = traffic.iloc[-1]['timeStamp']\n",
    "tss = pd.to_datetime(ts).hour\n",
    "\n",
    "for i in range(12):\n",
    "    if tss == 23:\n",
    "        newHour =  ts + pd.DateOffset(hour=0)\n",
    "        day = pd.to_datetime(ts).day\n",
    "        newDay = newHour + pd.DateOffset(day=day+1)\n",
    "        tss = 0\n",
    "        ts = newDay\n",
    "        hour.append(newDay)\n",
    "    else: \n",
    "        h = pd.to_datetime(ts).hour\n",
    "        newHour = ts + pd.DateOffset(hour=h+1)\n",
    "        tss = tss+1\n",
    "        ts = newHour\n",
    "        hour.append(newHour)\n",
    "        \n",
    "#for i in hour:\n",
    "    #print(i)"
   ]
  },
  {
   "cell_type": "code",
   "execution_count": null,
   "metadata": {},
   "outputs": [],
   "source": [
    "import csv\n",
    "\n",
    "with open('predictionsSpeed.csv', mode='a') as csv_file:\n",
    "    writer = csv.writer(csv_file, delimiter=',', quotechar='\"', quoting=csv.QUOTE_MINIMAL)\n",
    "    for i in range(12):\n",
    "        d = 'N103.0',forecasts[i],hour[i]\n",
    "        writer.writerow(d)\n"
   ]
  }
 ],
 "metadata": {
  "kernelspec": {
   "display_name": "Python 3",
   "language": "python",
   "name": "python3"
  },
  "language_info": {
   "codemirror_mode": {
    "name": "ipython",
    "version": 3
   },
   "file_extension": ".py",
   "mimetype": "text/x-python",
   "name": "python",
   "nbconvert_exporter": "python",
   "pygments_lexer": "ipython3",
   "version": "3.8.3"
  }
 },
 "nbformat": 4,
 "nbformat_minor": 4
}

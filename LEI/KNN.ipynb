{
 "cells": [
  {
   "cell_type": "markdown",
   "metadata": {},
   "source": [
    "# Medical Exam Recommendation Based on Symptoms\n",
    "\n",
    "Grid Search for KNN parameters"
   ]
  },
  {
   "cell_type": "code",
   "execution_count": 1,
   "metadata": {},
   "outputs": [],
   "source": [
    "import numpy as np\n",
    "import pandas as pd\n",
    "from sklearn.model_selection import GridSearchCV\n",
    "from sklearn.neighbors import KNeighborsClassifier\n",
    "from sklearn.model_selection import train_test_split"
   ]
  },
  {
   "cell_type": "markdown",
   "metadata": {},
   "source": [
    "#### Load Symptom Dataset"
   ]
  },
  {
   "cell_type": "code",
   "execution_count": 2,
   "metadata": {},
   "outputs": [],
   "source": [
    "data = pd.read_csv('./Data/final.csv', sep = ',')"
   ]
  },
  {
   "cell_type": "markdown",
   "metadata": {},
   "source": [
    "####  Load Symptom Severity "
   ]
  },
  {
   "cell_type": "code",
   "execution_count": 3,
   "metadata": {},
   "outputs": [],
   "source": [
    "severity = pd.read_csv('./Data/Symptom-severity.csv')"
   ]
  },
  {
   "cell_type": "markdown",
   "metadata": {},
   "source": [
    "####  Load Exam Mapping"
   ]
  },
  {
   "cell_type": "code",
   "execution_count": 4,
   "metadata": {},
   "outputs": [],
   "source": [
    "mapping = pd.read_csv('./Data/map.csv', sep = ';')"
   ]
  },
  {
   "cell_type": "markdown",
   "metadata": {},
   "source": [
    "# Split data for train and test"
   ]
  },
  {
   "cell_type": "code",
   "execution_count": 5,
   "metadata": {},
   "outputs": [],
   "source": [
    "symptomCount = 131\n",
    "testCount = 102\n",
    "\n",
    "[train,test] = train_test_split(data,random_state=420)\n",
    "trainA = np.array(train)\n",
    "trainAX = trainA[:,testCount:]\n",
    "trainAY = trainA[:,:testCount]\n",
    "\n",
    "trainX=train.iloc[:,testCount:]\n",
    "trainY=train.iloc[:,:testCount]\n",
    "#print(trainY[0:5])\n",
    "\n",
    "testX=test.iloc[:,testCount:]\n",
    "testY=test.iloc[:,:testCount]"
   ]
  },
  {
   "cell_type": "markdown",
   "metadata": {},
   "source": [
    "# Grid Search"
   ]
  },
  {
   "cell_type": "code",
   "execution_count": 6,
   "metadata": {},
   "outputs": [],
   "source": [
    "def realAccuracies(predictions, labels):\n",
    "    thresh =(predictions.max()+ predictions.min())/2\n",
    "    predictions[predictions>thresh]=1\n",
    "    predictions[predictions<=thresh]=0\n",
    "    \n",
    "    correctByLine=[]\n",
    "    for i in range(len(testY)):\n",
    "        matches = predictions[i]==labels[i]\n",
    "        correctByLine.append(len(matches[matches==True])/len(matches))\n",
    "        \n",
    "    return([len(np.nonzero([x for x in correctByLine if x==1])[0]),\n",
    "            len(np.nonzero([x for x in correctByLine if x>0.99])[0]),\n",
    "            len(np.nonzero([x for x in correctByLine if x>0.95])[0]),\n",
    "            len(np.nonzero([x for x in correctByLine if x>0.90])[0]),\n",
    "            len(np.nonzero([x for x in correctByLine if x!=1])[0])])\n",
    "\n",
    "\n",
    "def getRealAcc(clf):\n",
    "    predicted = clf.predict(testX)\n",
    "    accs =  realAccuracies(predicted, testY.to_numpy())\n",
    "    print('')\n",
    "    print(accs[3],\" classified 90% correctly\")\n",
    "    print(accs[2],\" classified 95% correctly\")\n",
    "    print(accs[1],\" classified 99% correctly\")\n",
    "    print(accs[0],\" classified 100% correctly\")\n",
    "    print(accs[4],\" classified incorrectly (Not 100%)\")"
   ]
  },
  {
   "cell_type": "code",
   "execution_count": 16,
   "metadata": {},
   "outputs": [],
   "source": [
    "def gridSearch(model, param_grid, X_train, y_train, X_test, y_test):        \n",
    "    clf = GridSearchCV(model, param_grid, refit=True, verbose=1)\n",
    "    clf.fit(X_train,y_train)\n",
    "    print('')\n",
    "    print('Best Parameters are: ',clf.best_params_)\n",
    "    predictions = clf.predict(testX)\n",
    "    getRealAcc(clf)\n",
    "    return ;"
   ]
  },
  {
   "cell_type": "markdown",
   "metadata": {},
   "source": [
    "# KNN"
   ]
  },
  {
   "cell_type": "code",
   "execution_count": 20,
   "metadata": {},
   "outputs": [],
   "source": [
    "grid_params_knn = {\n",
    "    'n_neighbors' : [3,5,7,11,13,15,17,25],\n",
    "    'algorithm' : ['auto', 'ball_tree', 'kd_tree', 'brute'],\n",
    "    'weights' : ['uniform', 'distance'],\n",
    "    'metric' : ['euclidean', 'manhattan'],\n",
    "}"
   ]
  },
  {
   "cell_type": "code",
   "execution_count": 21,
   "metadata": {},
   "outputs": [
    {
     "name": "stdout",
     "output_type": "stream",
     "text": [
      "Fitting 5 folds for each of 128 candidates, totalling 640 fits\n"
     ]
    },
    {
     "name": "stderr",
     "output_type": "stream",
     "text": [
      "[Parallel(n_jobs=1)]: Using backend SequentialBackend with 1 concurrent workers.\n",
      "[Parallel(n_jobs=1)]: Done 640 out of 640 | elapsed: 12.3min finished\n"
     ]
    },
    {
     "name": "stdout",
     "output_type": "stream",
     "text": [
      "\n",
      "Best Parameters are:  {'algorithm': 'auto', 'metric': 'euclidean', 'n_neighbors': 3, 'weights': 'distance'}\n",
      "\n",
      "1170  classified 90% correctly\n",
      "1170  classified 95% correctly\n",
      "1170  classified 99% correctly\n",
      "1170  classified 100% correctly\n",
      "0  classified incorrectly (Not 100%)\n"
     ]
    }
   ],
   "source": [
    "gridSearch(KNeighborsClassifier(), grid_params_knn, trainX, trainY, testX, testY)"
   ]
  }
 ],
 "metadata": {
  "kernelspec": {
   "display_name": "Python 3",
   "language": "python",
   "name": "python3"
  },
  "language_info": {
   "codemirror_mode": {
    "name": "ipython",
    "version": 3
   },
   "file_extension": ".py",
   "mimetype": "text/x-python",
   "name": "python",
   "nbconvert_exporter": "python",
   "pygments_lexer": "ipython3",
   "version": "3.8.3"
  }
 },
 "nbformat": 4,
 "nbformat_minor": 4
}

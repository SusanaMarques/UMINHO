{
 "cells": [
  {
   "cell_type": "markdown",
   "metadata": {},
   "source": [
    "# Medical Exam Recommendation Based on Symptoms\n",
    "\n",
    "Grid Search with:\n",
    "- Decision Tree Classifier\n",
    "- Random Forest Classifier\n",
    "- KNN\n",
    "- Nayve Bayes\n",
    "- SVM"
   ]
  },
  {
   "cell_type": "code",
   "execution_count": 1,
   "metadata": {},
   "outputs": [],
   "source": [
    "import numpy as np\n",
    "import pandas as pd\n",
    "\n",
    "from sklearn import ensemble\n",
    "from sklearn import multioutput\n",
    "from sklearn.multiclass import OneVsRestClassifier\n",
    "from sklearn.model_selection import train_test_split\n",
    "\n",
    "from sklearn.svm import SVC\n",
    "from sklearn import naive_bayes\n",
    "from sklearn.tree import DecisionTreeClassifier\n",
    "from sklearn.ensemble import RandomForestClassifier\n",
    "\n",
    "from sklearn.ensemble import VotingClassifier\n",
    "from sklearn.model_selection import GridSearchCV\n",
    "\n",
    "import warnings\n",
    "warnings.filterwarnings('ignore')"
   ]
  },
  {
   "cell_type": "markdown",
   "metadata": {},
   "source": [
    "#### Load Symptom Dataset"
   ]
  },
  {
   "cell_type": "code",
   "execution_count": 2,
   "metadata": {},
   "outputs": [],
   "source": [
    "data = pd.read_csv('./Data/final.csv', sep = ',')"
   ]
  },
  {
   "cell_type": "markdown",
   "metadata": {},
   "source": [
    "####  Load Symptom Severity "
   ]
  },
  {
   "cell_type": "code",
   "execution_count": 3,
   "metadata": {},
   "outputs": [],
   "source": [
    "severity = pd.read_csv('./Data/Symptom-severity.csv')"
   ]
  },
  {
   "cell_type": "markdown",
   "metadata": {},
   "source": [
    "####  Load Exam Mapping"
   ]
  },
  {
   "cell_type": "code",
   "execution_count": 4,
   "metadata": {},
   "outputs": [],
   "source": [
    "mapping = pd.read_csv('./Data/map.csv', sep = ';')"
   ]
  },
  {
   "cell_type": "markdown",
   "metadata": {},
   "source": [
    "# Split data for train and test"
   ]
  },
  {
   "cell_type": "code",
   "execution_count": 5,
   "metadata": {},
   "outputs": [],
   "source": [
    "symptomCount = 131\n",
    "testCount = 102\n",
    "\n",
    "[train,test] = train_test_split(data,random_state=420)\n",
    "trainA = np.array(train)\n",
    "trainAX = trainA[:,testCount:]\n",
    "trainAY = trainA[:,:testCount]\n",
    "\n",
    "trainX=train.iloc[:,testCount:]\n",
    "trainY=train.iloc[:,:testCount]\n",
    "\n",
    "testX=test.iloc[:,testCount:]\n",
    "testY=test.iloc[:,:testCount]"
   ]
  },
  {
   "cell_type": "markdown",
   "metadata": {},
   "source": [
    "# Grid Search"
   ]
  },
  {
   "cell_type": "code",
   "execution_count": 6,
   "metadata": {},
   "outputs": [],
   "source": [
    "def realAccuracies(predictions, labels):\n",
    "    thresh =(predictions.max()+ predictions.min())/2\n",
    "    predictions[predictions>thresh]=1\n",
    "    predictions[predictions<=thresh]=0\n",
    "    \n",
    "    correctByLine=[]\n",
    "    for i in range(len(testY)):\n",
    "        matches = predictions[i]==labels[i]\n",
    "        correctByLine.append(len(matches[matches==True])/len(matches))\n",
    "        \n",
    "    return([len(np.nonzero([x for x in correctByLine if x==1])[0]),\n",
    "            len(np.nonzero([x for x in correctByLine if x>0.99])[0]),\n",
    "            len(np.nonzero([x for x in correctByLine if x>0.95])[0]),\n",
    "            len(np.nonzero([x for x in correctByLine if x>0.90])[0]),\n",
    "            len(np.nonzero([x for x in correctByLine if x!=1])[0])])\n",
    "\n",
    "\n",
    "def getRealAcc(clf):\n",
    "    predicted = clf.predict(testX)\n",
    "    accs =  realAccuracies(predicted, testY.to_numpy())\n",
    "    print('')\n",
    "    print(accs[3],\" classified 90% correctly\")\n",
    "    print(accs[2],\" classified 95% correctly\")\n",
    "    print(accs[1],\" classified 99% correctly\")\n",
    "    print(accs[0],\" classified 100% correctly\")\n",
    "    print(accs[4],\" classified incorrectly (Not 100%)\")"
   ]
  },
  {
   "cell_type": "code",
   "execution_count": 7,
   "metadata": {},
   "outputs": [],
   "source": [
    "def gridSearch(model, param_grid, X_train, y_train, X_test, y_test):        \n",
    "    clf = GridSearchCV(model, param_grid, refit=True, verbose=3)\n",
    "    clf.fit(X_train,y_train)\n",
    "    print(clf.best_params_)\n",
    "    predictions = clf.predict(testX)\n",
    "    getRealAcc(clf)\n",
    "    return ;"
   ]
  },
  {
   "cell_type": "markdown",
   "metadata": {},
   "source": [
    "# Random Forest Classifier"
   ]
  },
  {
   "cell_type": "code",
   "execution_count": null,
   "metadata": {
    "scrolled": true
   },
   "outputs": [
    {
     "name": "stdout",
     "output_type": "stream",
     "text": [
      "Fitting 5 folds for each of 56 candidates, totalling 280 fits\n",
      "[CV] bootstrap=True, max_depth=1, n_estimators=10 ....................\n"
     ]
    },
    {
     "name": "stderr",
     "output_type": "stream",
     "text": [
      "[Parallel(n_jobs=1)]: Using backend SequentialBackend with 1 concurrent workers.\n"
     ]
    },
    {
     "name": "stdout",
     "output_type": "stream",
     "text": [
      "[CV]  bootstrap=True, max_depth=1, n_estimators=10, score=0.027, total=   0.5s\n",
      "[CV] bootstrap=True, max_depth=1, n_estimators=10 ....................\n"
     ]
    },
    {
     "name": "stderr",
     "output_type": "stream",
     "text": [
      "[Parallel(n_jobs=1)]: Done   1 out of   1 | elapsed:    0.5s remaining:    0.0s\n"
     ]
    },
    {
     "name": "stdout",
     "output_type": "stream",
     "text": [
      "[CV]  bootstrap=True, max_depth=1, n_estimators=10, score=0.021, total=   0.3s\n",
      "[CV] bootstrap=True, max_depth=1, n_estimators=10 ....................\n"
     ]
    },
    {
     "name": "stderr",
     "output_type": "stream",
     "text": [
      "[Parallel(n_jobs=1)]: Done   2 out of   2 | elapsed:    0.8s remaining:    0.0s\n"
     ]
    },
    {
     "name": "stdout",
     "output_type": "stream",
     "text": [
      "[CV]  bootstrap=True, max_depth=1, n_estimators=10, score=0.017, total=   0.3s\n",
      "[CV] bootstrap=True, max_depth=1, n_estimators=10 ....................\n",
      "[CV]  bootstrap=True, max_depth=1, n_estimators=10, score=0.028, total=   0.3s\n",
      "[CV] bootstrap=True, max_depth=1, n_estimators=10 ....................\n",
      "[CV]  bootstrap=True, max_depth=1, n_estimators=10, score=0.037, total=   0.7s\n",
      "[CV] bootstrap=True, max_depth=1, n_estimators=20 ....................\n",
      "[CV]  bootstrap=True, max_depth=1, n_estimators=20, score=0.027, total=   0.7s\n",
      "[CV] bootstrap=True, max_depth=1, n_estimators=20 ....................\n",
      "[CV]  bootstrap=True, max_depth=1, n_estimators=20, score=0.021, total=   0.5s\n",
      "[CV] bootstrap=True, max_depth=1, n_estimators=20 ....................\n",
      "[CV]  bootstrap=True, max_depth=1, n_estimators=20, score=0.017, total=   0.5s\n",
      "[CV] bootstrap=True, max_depth=1, n_estimators=20 ....................\n",
      "[CV]  bootstrap=True, max_depth=1, n_estimators=20, score=0.028, total=   0.5s\n",
      "[CV] bootstrap=True, max_depth=1, n_estimators=20 ....................\n",
      "[CV]  bootstrap=True, max_depth=1, n_estimators=20, score=0.037, total=   0.4s\n",
      "[CV] bootstrap=True, max_depth=1, n_estimators=30 ....................\n",
      "[CV]  bootstrap=True, max_depth=1, n_estimators=30, score=0.027, total=   0.6s\n",
      "[CV] bootstrap=True, max_depth=1, n_estimators=30 ....................\n",
      "[CV]  bootstrap=True, max_depth=1, n_estimators=30, score=0.021, total=   0.6s\n",
      "[CV] bootstrap=True, max_depth=1, n_estimators=30 ....................\n",
      "[CV]  bootstrap=True, max_depth=1, n_estimators=30, score=0.017, total=   0.6s\n",
      "[CV] bootstrap=True, max_depth=1, n_estimators=30 ....................\n",
      "[CV]  bootstrap=True, max_depth=1, n_estimators=30, score=0.028, total=   0.6s\n",
      "[CV] bootstrap=True, max_depth=1, n_estimators=30 ....................\n",
      "[CV]  bootstrap=True, max_depth=1, n_estimators=30, score=0.037, total=   0.6s\n",
      "[CV] bootstrap=True, max_depth=1, n_estimators=50 ....................\n",
      "[CV]  bootstrap=True, max_depth=1, n_estimators=50, score=0.027, total=   1.0s\n",
      "[CV] bootstrap=True, max_depth=1, n_estimators=50 ....................\n",
      "[CV]  bootstrap=True, max_depth=1, n_estimators=50, score=0.021, total=   1.0s\n",
      "[CV] bootstrap=True, max_depth=1, n_estimators=50 ....................\n",
      "[CV]  bootstrap=True, max_depth=1, n_estimators=50, score=0.017, total=   1.0s\n",
      "[CV] bootstrap=True, max_depth=1, n_estimators=50 ....................\n",
      "[CV]  bootstrap=True, max_depth=1, n_estimators=50, score=0.028, total=   1.0s\n",
      "[CV] bootstrap=True, max_depth=1, n_estimators=50 ....................\n",
      "[CV]  bootstrap=True, max_depth=1, n_estimators=50, score=0.037, total=   1.1s\n",
      "[CV] bootstrap=True, max_depth=1, n_estimators=100 ...................\n",
      "[CV]  bootstrap=True, max_depth=1, n_estimators=100, score=0.027, total=   2.2s\n",
      "[CV] bootstrap=True, max_depth=1, n_estimators=100 ...................\n",
      "[CV]  bootstrap=True, max_depth=1, n_estimators=100, score=0.021, total=   2.1s\n",
      "[CV] bootstrap=True, max_depth=1, n_estimators=100 ...................\n",
      "[CV]  bootstrap=True, max_depth=1, n_estimators=100, score=0.017, total=   2.1s\n",
      "[CV] bootstrap=True, max_depth=1, n_estimators=100 ...................\n",
      "[CV]  bootstrap=True, max_depth=1, n_estimators=100, score=0.028, total=   2.1s\n",
      "[CV] bootstrap=True, max_depth=1, n_estimators=100 ...................\n",
      "[CV]  bootstrap=True, max_depth=1, n_estimators=100, score=0.037, total=   2.2s\n",
      "[CV] bootstrap=True, max_depth=1, n_estimators=200 ...................\n",
      "[CV]  bootstrap=True, max_depth=1, n_estimators=200, score=0.027, total=   4.3s\n",
      "[CV] bootstrap=True, max_depth=1, n_estimators=200 ...................\n",
      "[CV]  bootstrap=True, max_depth=1, n_estimators=200, score=0.021, total=   4.4s\n",
      "[CV] bootstrap=True, max_depth=1, n_estimators=200 ...................\n",
      "[CV]  bootstrap=True, max_depth=1, n_estimators=200, score=0.017, total=   4.4s\n",
      "[CV] bootstrap=True, max_depth=1, n_estimators=200 ...................\n",
      "[CV]  bootstrap=True, max_depth=1, n_estimators=200, score=0.028, total=   4.4s\n",
      "[CV] bootstrap=True, max_depth=1, n_estimators=200 ...................\n",
      "[CV]  bootstrap=True, max_depth=1, n_estimators=200, score=0.037, total=   4.5s\n",
      "[CV] bootstrap=True, max_depth=1, n_estimators=1000 ..................\n",
      "[CV]  bootstrap=True, max_depth=1, n_estimators=1000, score=0.027, total=  22.7s\n",
      "[CV] bootstrap=True, max_depth=1, n_estimators=1000 ..................\n",
      "[CV]  bootstrap=True, max_depth=1, n_estimators=1000, score=0.021, total=  23.2s\n",
      "[CV] bootstrap=True, max_depth=1, n_estimators=1000 ..................\n",
      "[CV]  bootstrap=True, max_depth=1, n_estimators=1000, score=0.017, total=  25.2s\n",
      "[CV] bootstrap=True, max_depth=1, n_estimators=1000 ..................\n",
      "[CV]  bootstrap=True, max_depth=1, n_estimators=1000, score=0.028, total=  23.4s\n",
      "[CV] bootstrap=True, max_depth=1, n_estimators=1000 ..................\n",
      "[CV]  bootstrap=True, max_depth=1, n_estimators=1000, score=0.037, total=  23.3s\n",
      "[CV] bootstrap=True, max_depth=10, n_estimators=10 ...................\n",
      "[CV]  bootstrap=True, max_depth=10, n_estimators=10, score=0.540, total=   0.3s\n",
      "[CV] bootstrap=True, max_depth=10, n_estimators=10 ...................\n",
      "[CV]  bootstrap=True, max_depth=10, n_estimators=10, score=0.506, total=   0.3s\n",
      "[CV] bootstrap=True, max_depth=10, n_estimators=10 ...................\n",
      "[CV]  bootstrap=True, max_depth=10, n_estimators=10, score=0.563, total=   0.4s\n",
      "[CV] bootstrap=True, max_depth=10, n_estimators=10 ...................\n",
      "[CV]  bootstrap=True, max_depth=10, n_estimators=10, score=0.538, total=   0.3s\n",
      "[CV] bootstrap=True, max_depth=10, n_estimators=10 ...................\n",
      "[CV]  bootstrap=True, max_depth=10, n_estimators=10, score=0.664, total=   0.3s\n",
      "[CV] bootstrap=True, max_depth=10, n_estimators=20 ...................\n",
      "[CV]  bootstrap=True, max_depth=10, n_estimators=20, score=0.553, total=   0.6s\n",
      "[CV] bootstrap=True, max_depth=10, n_estimators=20 ...................\n",
      "[CV]  bootstrap=True, max_depth=10, n_estimators=20, score=0.611, total=   0.6s\n",
      "[CV] bootstrap=True, max_depth=10, n_estimators=20 ...................\n",
      "[CV]  bootstrap=True, max_depth=10, n_estimators=20, score=0.600, total=   0.6s\n",
      "[CV] bootstrap=True, max_depth=10, n_estimators=20 ...................\n",
      "[CV]  bootstrap=True, max_depth=10, n_estimators=20, score=0.546, total=   0.7s\n",
      "[CV] bootstrap=True, max_depth=10, n_estimators=20 ...................\n",
      "[CV]  bootstrap=True, max_depth=10, n_estimators=20, score=0.593, total=   0.6s\n",
      "[CV] bootstrap=True, max_depth=10, n_estimators=30 ...................\n",
      "[CV]  bootstrap=True, max_depth=10, n_estimators=30, score=0.536, total=   0.9s\n",
      "[CV] bootstrap=True, max_depth=10, n_estimators=30 ...................\n",
      "[CV]  bootstrap=True, max_depth=10, n_estimators=30, score=0.574, total=   1.0s\n",
      "[CV] bootstrap=True, max_depth=10, n_estimators=30 ...................\n",
      "[CV]  bootstrap=True, max_depth=10, n_estimators=30, score=0.615, total=   0.9s\n",
      "[CV] bootstrap=True, max_depth=10, n_estimators=30 ...................\n",
      "[CV]  bootstrap=True, max_depth=10, n_estimators=30, score=0.500, total=   0.9s\n",
      "[CV] bootstrap=True, max_depth=10, n_estimators=30 ...................\n",
      "[CV]  bootstrap=True, max_depth=10, n_estimators=30, score=0.625, total=   0.9s\n",
      "[CV] bootstrap=True, max_depth=10, n_estimators=50 ...................\n",
      "[CV]  bootstrap=True, max_depth=10, n_estimators=50, score=0.595, total=   1.5s\n",
      "[CV] bootstrap=True, max_depth=10, n_estimators=50 ...................\n",
      "[CV]  bootstrap=True, max_depth=10, n_estimators=50, score=0.628, total=   1.5s\n",
      "[CV] bootstrap=True, max_depth=10, n_estimators=50 ...................\n",
      "[CV]  bootstrap=True, max_depth=10, n_estimators=50, score=0.580, total=   1.5s\n",
      "[CV] bootstrap=True, max_depth=10, n_estimators=50 ...................\n",
      "[CV]  bootstrap=True, max_depth=10, n_estimators=50, score=0.538, total=   1.5s\n",
      "[CV] bootstrap=True, max_depth=10, n_estimators=50 ...................\n",
      "[CV]  bootstrap=True, max_depth=10, n_estimators=50, score=0.611, total=   1.5s\n",
      "[CV] bootstrap=True, max_depth=10, n_estimators=100 ..................\n",
      "[CV]  bootstrap=True, max_depth=10, n_estimators=100, score=0.628, total=   3.0s\n",
      "[CV] bootstrap=True, max_depth=10, n_estimators=100 ..................\n",
      "[CV]  bootstrap=True, max_depth=10, n_estimators=100, score=0.580, total=   3.0s\n",
      "[CV] bootstrap=True, max_depth=10, n_estimators=100 ..................\n"
     ]
    },
    {
     "name": "stdout",
     "output_type": "stream",
     "text": [
      "[CV]  bootstrap=True, max_depth=10, n_estimators=100, score=0.608, total=   3.0s\n",
      "[CV] bootstrap=True, max_depth=10, n_estimators=100 ..................\n",
      "[CV]  bootstrap=True, max_depth=10, n_estimators=100, score=0.526, total=   3.0s\n",
      "[CV] bootstrap=True, max_depth=10, n_estimators=100 ..................\n",
      "[CV]  bootstrap=True, max_depth=10, n_estimators=100, score=0.600, total=   3.0s\n",
      "[CV] bootstrap=True, max_depth=10, n_estimators=200 ..................\n",
      "[CV]  bootstrap=True, max_depth=10, n_estimators=200, score=0.567, total=   6.2s\n",
      "[CV] bootstrap=True, max_depth=10, n_estimators=200 ..................\n",
      "[CV]  bootstrap=True, max_depth=10, n_estimators=200, score=0.578, total=   6.0s\n",
      "[CV] bootstrap=True, max_depth=10, n_estimators=200 ..................\n",
      "[CV]  bootstrap=True, max_depth=10, n_estimators=200, score=0.587, total=   6.0s\n",
      "[CV] bootstrap=True, max_depth=10, n_estimators=200 ..................\n",
      "[CV]  bootstrap=True, max_depth=10, n_estimators=200, score=0.544, total=   6.0s\n",
      "[CV] bootstrap=True, max_depth=10, n_estimators=200 ..................\n",
      "[CV]  bootstrap=True, max_depth=10, n_estimators=200, score=0.574, total=   5.9s\n",
      "[CV] bootstrap=True, max_depth=10, n_estimators=1000 .................\n",
      "[CV]  bootstrap=True, max_depth=10, n_estimators=1000, score=0.571, total=  29.8s\n",
      "[CV] bootstrap=True, max_depth=10, n_estimators=1000 .................\n",
      "[CV]  bootstrap=True, max_depth=10, n_estimators=1000, score=0.578, total=  29.2s\n",
      "[CV] bootstrap=True, max_depth=10, n_estimators=1000 .................\n",
      "[CV]  bootstrap=True, max_depth=10, n_estimators=1000, score=0.594, total=  30.0s\n",
      "[CV] bootstrap=True, max_depth=10, n_estimators=1000 .................\n",
      "[CV]  bootstrap=True, max_depth=10, n_estimators=1000, score=0.548, total=  29.3s\n",
      "[CV] bootstrap=True, max_depth=10, n_estimators=1000 .................\n",
      "[CV]  bootstrap=True, max_depth=10, n_estimators=1000, score=0.594, total=  29.1s\n",
      "[CV] bootstrap=True, max_depth=20, n_estimators=10 ...................\n",
      "[CV]  bootstrap=True, max_depth=20, n_estimators=10, score=0.984, total=   0.4s\n",
      "[CV] bootstrap=True, max_depth=20, n_estimators=10 ...................\n",
      "[CV]  bootstrap=True, max_depth=20, n_estimators=10, score=0.969, total=   0.4s\n",
      "[CV] bootstrap=True, max_depth=20, n_estimators=10 ...................\n",
      "[CV]  bootstrap=True, max_depth=20, n_estimators=10, score=0.974, total=   0.4s\n",
      "[CV] bootstrap=True, max_depth=20, n_estimators=10 ...................\n",
      "[CV]  bootstrap=True, max_depth=20, n_estimators=10, score=0.983, total=   0.3s\n",
      "[CV] bootstrap=True, max_depth=20, n_estimators=10 ...................\n",
      "[CV]  bootstrap=True, max_depth=20, n_estimators=10, score=0.997, total=   0.4s\n",
      "[CV] bootstrap=True, max_depth=20, n_estimators=20 ...................\n",
      "[CV]  bootstrap=True, max_depth=20, n_estimators=20, score=0.996, total=   0.7s\n",
      "[CV] bootstrap=True, max_depth=20, n_estimators=20 ...................\n",
      "[CV]  bootstrap=True, max_depth=20, n_estimators=20, score=0.963, total=   0.7s\n",
      "[CV] bootstrap=True, max_depth=20, n_estimators=20 ...................\n",
      "[CV]  bootstrap=True, max_depth=20, n_estimators=20, score=0.986, total=   0.7s\n",
      "[CV] bootstrap=True, max_depth=20, n_estimators=20 ...................\n",
      "[CV]  bootstrap=True, max_depth=20, n_estimators=20, score=0.974, total=   0.7s\n",
      "[CV] bootstrap=True, max_depth=20, n_estimators=20 ...................\n",
      "[CV]  bootstrap=True, max_depth=20, n_estimators=20, score=0.993, total=   0.7s\n",
      "[CV] bootstrap=True, max_depth=20, n_estimators=30 ...................\n",
      "[CV]  bootstrap=True, max_depth=20, n_estimators=30, score=0.972, total=   1.0s\n",
      "[CV] bootstrap=True, max_depth=20, n_estimators=30 ...................\n",
      "[CV]  bootstrap=True, max_depth=20, n_estimators=30, score=0.991, total=   1.0s\n",
      "[CV] bootstrap=True, max_depth=20, n_estimators=30 ...................\n",
      "[CV]  bootstrap=True, max_depth=20, n_estimators=30, score=0.994, total=   1.0s\n",
      "[CV] bootstrap=True, max_depth=20, n_estimators=30 ...................\n",
      "[CV]  bootstrap=True, max_depth=20, n_estimators=30, score=0.930, total=   1.0s\n",
      "[CV] bootstrap=True, max_depth=20, n_estimators=30 ...................\n",
      "[CV]  bootstrap=True, max_depth=20, n_estimators=30, score=0.984, total=   1.0s\n",
      "[CV] bootstrap=True, max_depth=20, n_estimators=50 ...................\n",
      "[CV]  bootstrap=True, max_depth=20, n_estimators=50, score=0.967, total=   1.7s\n",
      "[CV] bootstrap=True, max_depth=20, n_estimators=50 ...................\n",
      "[CV]  bootstrap=True, max_depth=20, n_estimators=50, score=0.987, total=   1.8s\n",
      "[CV] bootstrap=True, max_depth=20, n_estimators=50 ...................\n",
      "[CV]  bootstrap=True, max_depth=20, n_estimators=50, score=0.967, total=   1.6s\n",
      "[CV] bootstrap=True, max_depth=20, n_estimators=50 ...................\n",
      "[CV]  bootstrap=True, max_depth=20, n_estimators=50, score=0.974, total=   1.7s\n",
      "[CV] bootstrap=True, max_depth=20, n_estimators=50 ...................\n",
      "[CV]  bootstrap=True, max_depth=20, n_estimators=50, score=0.991, total=   1.7s\n",
      "[CV] bootstrap=True, max_depth=20, n_estimators=100 ..................\n",
      "[CV]  bootstrap=True, max_depth=20, n_estimators=100, score=0.989, total=   3.3s\n",
      "[CV] bootstrap=True, max_depth=20, n_estimators=100 ..................\n",
      "[CV]  bootstrap=True, max_depth=20, n_estimators=100, score=0.993, total=   3.2s\n",
      "[CV] bootstrap=True, max_depth=20, n_estimators=100 ..................\n",
      "[CV]  bootstrap=True, max_depth=20, n_estimators=100, score=0.991, total=   3.2s\n",
      "[CV] bootstrap=True, max_depth=20, n_estimators=100 ..................\n",
      "[CV]  bootstrap=True, max_depth=20, n_estimators=100, score=0.953, total=   3.3s\n",
      "[CV] bootstrap=True, max_depth=20, n_estimators=100 ..................\n",
      "[CV]  bootstrap=True, max_depth=20, n_estimators=100, score=0.999, total=   3.2s\n",
      "[CV] bootstrap=True, max_depth=20, n_estimators=200 ..................\n",
      "[CV]  bootstrap=True, max_depth=20, n_estimators=200, score=0.987, total=   6.5s\n",
      "[CV] bootstrap=True, max_depth=20, n_estimators=200 ..................\n",
      "[CV]  bootstrap=True, max_depth=20, n_estimators=200, score=0.999, total=   6.3s\n",
      "[CV] bootstrap=True, max_depth=20, n_estimators=200 ..................\n",
      "[CV]  bootstrap=True, max_depth=20, n_estimators=200, score=0.989, total=   6.4s\n",
      "[CV] bootstrap=True, max_depth=20, n_estimators=200 ..................\n",
      "[CV]  bootstrap=True, max_depth=20, n_estimators=200, score=0.986, total=   7.1s\n",
      "[CV] bootstrap=True, max_depth=20, n_estimators=200 ..................\n",
      "[CV]  bootstrap=True, max_depth=20, n_estimators=200, score=0.986, total=   6.9s\n",
      "[CV] bootstrap=True, max_depth=20, n_estimators=1000 .................\n",
      "[CV]  bootstrap=True, max_depth=20, n_estimators=1000, score=0.989, total=  32.0s\n",
      "[CV] bootstrap=True, max_depth=20, n_estimators=1000 .................\n",
      "[CV]  bootstrap=True, max_depth=20, n_estimators=1000, score=1.000, total=  31.9s\n",
      "[CV] bootstrap=True, max_depth=20, n_estimators=1000 .................\n",
      "[CV]  bootstrap=True, max_depth=20, n_estimators=1000, score=0.986, total=  31.9s\n",
      "[CV] bootstrap=True, max_depth=20, n_estimators=1000 .................\n",
      "[CV]  bootstrap=True, max_depth=20, n_estimators=1000, score=0.993, total=  32.6s\n",
      "[CV] bootstrap=True, max_depth=20, n_estimators=1000 .................\n",
      "[CV]  bootstrap=True, max_depth=20, n_estimators=1000, score=1.000, total=  31.9s\n",
      "[CV] bootstrap=True, max_depth=None, n_estimators=10 .................\n",
      "[CV]  bootstrap=True, max_depth=None, n_estimators=10, score=1.000, total=   0.4s\n",
      "[CV] bootstrap=True, max_depth=None, n_estimators=10 .................\n",
      "[CV]  bootstrap=True, max_depth=None, n_estimators=10, score=1.000, total=   0.4s\n",
      "[CV] bootstrap=True, max_depth=None, n_estimators=10 .................\n",
      "[CV]  bootstrap=True, max_depth=None, n_estimators=10, score=1.000, total=   0.4s\n",
      "[CV] bootstrap=True, max_depth=None, n_estimators=10 .................\n",
      "[CV]  bootstrap=True, max_depth=None, n_estimators=10, score=1.000, total=   0.4s\n",
      "[CV] bootstrap=True, max_depth=None, n_estimators=10 .................\n",
      "[CV]  bootstrap=True, max_depth=None, n_estimators=10, score=1.000, total=   0.4s\n",
      "[CV] bootstrap=True, max_depth=None, n_estimators=20 .................\n",
      "[CV]  bootstrap=True, max_depth=None, n_estimators=20, score=1.000, total=   0.7s\n",
      "[CV] bootstrap=True, max_depth=None, n_estimators=20 .................\n"
     ]
    },
    {
     "name": "stdout",
     "output_type": "stream",
     "text": [
      "[CV]  bootstrap=True, max_depth=None, n_estimators=20, score=1.000, total=   0.7s\n",
      "[CV] bootstrap=True, max_depth=None, n_estimators=20 .................\n",
      "[CV]  bootstrap=True, max_depth=None, n_estimators=20, score=1.000, total=   0.7s\n",
      "[CV] bootstrap=True, max_depth=None, n_estimators=20 .................\n",
      "[CV]  bootstrap=True, max_depth=None, n_estimators=20, score=1.000, total=   0.7s\n",
      "[CV] bootstrap=True, max_depth=None, n_estimators=20 .................\n",
      "[CV]  bootstrap=True, max_depth=None, n_estimators=20, score=1.000, total=   0.7s\n",
      "[CV] bootstrap=True, max_depth=None, n_estimators=30 .................\n",
      "[CV]  bootstrap=True, max_depth=None, n_estimators=30, score=1.000, total=   1.1s\n",
      "[CV] bootstrap=True, max_depth=None, n_estimators=30 .................\n",
      "[CV]  bootstrap=True, max_depth=None, n_estimators=30, score=1.000, total=   1.1s\n",
      "[CV] bootstrap=True, max_depth=None, n_estimators=30 .................\n",
      "[CV]  bootstrap=True, max_depth=None, n_estimators=30, score=1.000, total=   1.1s\n",
      "[CV] bootstrap=True, max_depth=None, n_estimators=30 .................\n",
      "[CV]  bootstrap=True, max_depth=None, n_estimators=30, score=1.000, total=   1.0s\n",
      "[CV] bootstrap=True, max_depth=None, n_estimators=30 .................\n",
      "[CV]  bootstrap=True, max_depth=None, n_estimators=30, score=1.000, total=   1.0s\n",
      "[CV] bootstrap=True, max_depth=None, n_estimators=50 .................\n",
      "[CV]  bootstrap=True, max_depth=None, n_estimators=50, score=1.000, total=   1.7s\n",
      "[CV] bootstrap=True, max_depth=None, n_estimators=50 .................\n",
      "[CV]  bootstrap=True, max_depth=None, n_estimators=50, score=1.000, total=   1.7s\n",
      "[CV] bootstrap=True, max_depth=None, n_estimators=50 .................\n",
      "[CV]  bootstrap=True, max_depth=None, n_estimators=50, score=1.000, total=   1.6s\n",
      "[CV] bootstrap=True, max_depth=None, n_estimators=50 .................\n",
      "[CV]  bootstrap=True, max_depth=None, n_estimators=50, score=1.000, total=   1.7s\n",
      "[CV] bootstrap=True, max_depth=None, n_estimators=50 .................\n",
      "[CV]  bootstrap=True, max_depth=None, n_estimators=50, score=1.000, total=   1.7s\n",
      "[CV] bootstrap=True, max_depth=None, n_estimators=100 ................\n",
      "[CV]  bootstrap=True, max_depth=None, n_estimators=100, score=1.000, total=   3.3s\n",
      "[CV] bootstrap=True, max_depth=None, n_estimators=100 ................\n",
      "[CV]  bootstrap=True, max_depth=None, n_estimators=100, score=1.000, total=   3.3s\n",
      "[CV] bootstrap=True, max_depth=None, n_estimators=100 ................\n",
      "[CV]  bootstrap=True, max_depth=None, n_estimators=100, score=1.000, total=   3.4s\n",
      "[CV] bootstrap=True, max_depth=None, n_estimators=100 ................\n",
      "[CV]  bootstrap=True, max_depth=None, n_estimators=100, score=1.000, total=   3.4s\n",
      "[CV] bootstrap=True, max_depth=None, n_estimators=100 ................\n",
      "[CV]  bootstrap=True, max_depth=None, n_estimators=100, score=1.000, total=   3.4s\n",
      "[CV] bootstrap=True, max_depth=None, n_estimators=200 ................\n",
      "[CV]  bootstrap=True, max_depth=None, n_estimators=200, score=1.000, total=   6.6s\n",
      "[CV] bootstrap=True, max_depth=None, n_estimators=200 ................\n",
      "[CV]  bootstrap=True, max_depth=None, n_estimators=200, score=1.000, total=   6.6s\n",
      "[CV] bootstrap=True, max_depth=None, n_estimators=200 ................\n",
      "[CV]  bootstrap=True, max_depth=None, n_estimators=200, score=1.000, total=   6.6s\n",
      "[CV] bootstrap=True, max_depth=None, n_estimators=200 ................\n",
      "[CV]  bootstrap=True, max_depth=None, n_estimators=200, score=1.000, total=   6.6s\n",
      "[CV] bootstrap=True, max_depth=None, n_estimators=200 ................\n",
      "[CV]  bootstrap=True, max_depth=None, n_estimators=200, score=1.000, total=   6.6s\n",
      "[CV] bootstrap=True, max_depth=None, n_estimators=1000 ...............\n",
      "[CV]  bootstrap=True, max_depth=None, n_estimators=1000, score=1.000, total=  33.4s\n",
      "[CV] bootstrap=True, max_depth=None, n_estimators=1000 ...............\n",
      "[CV]  bootstrap=True, max_depth=None, n_estimators=1000, score=1.000, total=  33.1s\n",
      "[CV] bootstrap=True, max_depth=None, n_estimators=1000 ...............\n",
      "[CV]  bootstrap=True, max_depth=None, n_estimators=1000, score=1.000, total=  33.0s\n",
      "[CV] bootstrap=True, max_depth=None, n_estimators=1000 ...............\n"
     ]
    }
   ],
   "source": [
    "grid_params_randomForest = {\n",
    "    'n_estimators' : [10,20,30,50,100,200,1000],\n",
    "    'max_depth' : [1, 10, 20, None],\n",
    "    'bootstrap': [True, False],\n",
    "}\n",
    "\n",
    "gridSearch(RandomForestClassifier(), grid_params_randomForest, trainX, trainY, testX, testY)"
   ]
  },
  {
   "cell_type": "markdown",
   "metadata": {},
   "source": [
    "# Decision Tree Classifier"
   ]
  },
  {
   "cell_type": "code",
   "execution_count": null,
   "metadata": {},
   "outputs": [],
   "source": [
    "grid_params_decisionTree = {\n",
    "    'criterion' : ['gini', 'entropy'],\n",
    "    'splitter' : ['best', 'random'],\n",
    "    'max_depth' : [1, 10, 20, None],\n",
    "}\n",
    "\n",
    "gridSearch(DecisionTreeClassifier(), grid_params_decisionTree, trainX, trainY, testX, testY)"
   ]
  },
  {
   "cell_type": "markdown",
   "metadata": {},
   "source": [
    "# KNN"
   ]
  },
  {
   "cell_type": "code",
   "execution_count": null,
   "metadata": {},
   "outputs": [],
   "source": [
    "grid_params_knn = {\n",
    "    'n_neighbors' : [3,5,7,11,13,15,17,25],\n",
    "    'algorithm' : ['auto', 'ball_tree', 'kd_tree', 'brute'],\n",
    "    'weights' : ['uniform', 'distance'],\n",
    "    'metric' : ['euclidean', 'manhattan'],\n",
    "}\n",
    "\n",
    "gridSearch(KNeighborsClassifier(), grid_params_knn, trainX, trainY, testX, testY)"
   ]
  },
  {
   "cell_type": "markdown",
   "metadata": {},
   "source": [
    "# Nayve Bayes"
   ]
  },
  {
   "cell_type": "code",
   "execution_count": null,
   "metadata": {},
   "outputs": [],
   "source": [
    "grid_params_gaussian = {\n",
    "    'estimator__var_smoothing': [1e-11, 1e-10, 1e-9]\n",
    "}\n",
    "\n",
    "gaussianNB = multioutput.MultiOutputClassifier(naive_bayes.GaussianNB())\n",
    "#print('Gaussian Params:',  gaussianNB.get_params().keys())\n",
    "\n",
    "nSteps = 10\n",
    "grid_params_bernoulli = {\n",
    "    'estimator__alpha': np.array(range(nSteps))/nSteps,\n",
    "    'estimator__fit_prior':[True,False]\n",
    "}\n",
    "\n",
    "bernoulli = multioutput.MultiOutputClassifier(naive_bayes.BernoulliNB())\n",
    "#print('Bernoulli Params:', bernoulli.get_params().keys())\n",
    "\n",
    "grid_params_multinominal = {\n",
    "    'estimator__alpha': np.array(range(nSteps))/nSteps,\n",
    "}\n",
    "\n",
    "multinominal = multioutput.MultiOutputClassifier(naive_bayes.MultinomialNB())\n",
    "#print('Multinominal Params:', multinominal.get_params().keys())"
   ]
  },
  {
   "cell_type": "code",
   "execution_count": null,
   "metadata": {},
   "outputs": [],
   "source": [
    "gridSearch(gaussianNB, grid_params_gaussian, trainX, trainY, testX, testY)"
   ]
  },
  {
   "cell_type": "code",
   "execution_count": null,
   "metadata": {},
   "outputs": [],
   "source": [
    "gridSearch(bernoulli, grid_params_bernoulli, trainX, trainY, testX, testY)"
   ]
  },
  {
   "cell_type": "code",
   "execution_count": null,
   "metadata": {},
   "outputs": [],
   "source": [
    "gridSearch(multinominal, grid_params_multinominal, trainX, trainY, testX, testY)"
   ]
  },
  {
   "cell_type": "markdown",
   "metadata": {},
   "source": [
    "# SVM"
   ]
  },
  {
   "cell_type": "code",
   "execution_count": null,
   "metadata": {},
   "outputs": [],
   "source": [
    "grid_params_svc = {\n",
    "    'estimator__kernel': ['poly','rbf','linear'],\n",
    "    'estimator__gamma': [1,0.1,0.01,0.001],\n",
    "    'estimator__C': [0.1,1, 10, 100],\n",
    "    'estimator__class_weight': ['balanced', None]\n",
    "} "
   ]
  },
  {
   "cell_type": "code",
   "execution_count": null,
   "metadata": {},
   "outputs": [],
   "source": [
    "from sklearn.svm import LinearSVC\n",
    "svc = OneVsRestClassifier(SVC()).fit(trainX.to_numpy(), trainY.to_numpy())\n",
    "gridSearch(svc, grid_params_svc, trainX, trainY.to_numpy(), testX, testY)"
   ]
  }
 ],
 "metadata": {
  "kernelspec": {
   "display_name": "Python 3",
   "language": "python",
   "name": "python3"
  },
  "language_info": {
   "codemirror_mode": {
    "name": "ipython",
    "version": 3
   },
   "file_extension": ".py",
   "mimetype": "text/x-python",
   "name": "python",
   "nbconvert_exporter": "python",
   "pygments_lexer": "ipython3",
   "version": "3.8.3"
  }
 },
 "nbformat": 4,
 "nbformat_minor": 4
}
